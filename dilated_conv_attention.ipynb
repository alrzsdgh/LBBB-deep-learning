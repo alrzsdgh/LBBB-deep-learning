{
  "nbformat": 4,
  "nbformat_minor": 0,
  "metadata": {
    "accelerator": "GPU",
    "colab": {
      "provenance": [],
      "collapsed_sections": [],
      "machine_shape": "hm"
    },
    "kernelspec": {
      "display_name": "Python 3",
      "name": "python3"
    },
    "language_info": {
      "name": "python"
    }
  },
  "cells": [
    {
      "cell_type": "markdown",
      "metadata": {
        "id": "51BeM9C2Mo9d"
      },
      "source": [
        "# Definition and Imports"
      ]
    },
    {
      "cell_type": "code",
      "metadata": {
        "id": "oTITql72fA3F",
        "colab": {
          "base_uri": "https://localhost:8080/"
        },
        "outputId": "079a3d63-9c41-4a38-a2a8-1cec70867feb"
      },
      "source": [
        "from google.colab import drive\n",
        "drive.mount('/content/drive')"
      ],
      "execution_count": null,
      "outputs": [
        {
          "output_type": "stream",
          "name": "stdout",
          "text": [
            "Mounted at /content/drive\n"
          ]
        }
      ]
    },
    {
      "cell_type": "markdown",
      "metadata": {
        "id": "pDcT6AWt0Le1"
      },
      "source": [
        "## Import Needed Moduels"
      ]
    },
    {
      "cell_type": "code",
      "metadata": {
        "id": "yCT2e9LhN2Ln"
      },
      "source": [
        "import numpy as np\n",
        "import os\n",
        "import tensorflow as tf\n",
        "import matplotlib.pyplot as plt\n",
        "from sklearn.model_selection import StratifiedKFold\n",
        "import pandas as pd\n",
        "from tqdm import tqdm\n",
        "from sklearn.metrics import precision_recall_curve\n",
        "from sklearn.metrics import confusion_matrix\n",
        "from sklearn.metrics import f1_score\n",
        "from sklearn.metrics import roc_auc_score\n",
        "from sklearn.metrics import recall_score\n",
        "from sklearn.metrics import precision_score"
      ],
      "execution_count": null,
      "outputs": []
    },
    {
      "cell_type": "markdown",
      "metadata": {
        "id": "duu2hvUh0aHm"
      },
      "source": [
        "## Import Training Data and Labels"
      ]
    },
    {
      "cell_type": "code",
      "metadata": {
        "colab": {
          "base_uri": "https://localhost:8080/"
        },
        "id": "Wxk9dLaV0PZ9",
        "outputId": "4b930454-4952-4b80-b103-0260be339246"
      },
      "source": [
        "#train data\n",
        "\n",
        "npzfile = np.load('/content/drive/MyDrive/Georgia_12Lead_ECG_Challenge_Database/train_data.npz')\n",
        "train_data = npzfile['arr_0']\n",
        "print('shape of training data -->' , np.shape(train_data))"
      ],
      "execution_count": null,
      "outputs": [
        {
          "output_type": "stream",
          "name": "stdout",
          "text": [
            "shape of training data --> (8000, 4000, 12)\n"
          ]
        }
      ]
    },
    {
      "cell_type": "code",
      "metadata": {
        "colab": {
          "base_uri": "https://localhost:8080/"
        },
        "id": "PWJ-UqOS0xjy",
        "outputId": "9cf29fe9-381f-4900-cb4f-ab32ebcab370"
      },
      "source": [
        "#train label\n",
        "\n",
        "train_label = pd.read_csv(open('/content/drive/MyDrive/Georgia_12Lead_ECG_Challenge_Database/train_labels.csv'),index_col=0).values\n",
        "print('shape of training label -->' , np.shape(train_label))"
      ],
      "execution_count": null,
      "outputs": [
        {
          "output_type": "stream",
          "name": "stdout",
          "text": [
            "shape of training label --> (8000, 1)\n"
          ]
        }
      ]
    },
    {
      "cell_type": "markdown",
      "metadata": {
        "id": "6IbLI-i2Qqv3"
      },
      "source": [
        "## Import Test Data and Labels"
      ]
    },
    {
      "cell_type": "code",
      "metadata": {
        "colab": {
          "base_uri": "https://localhost:8080/"
        },
        "id": "vZL1rytuQvFF",
        "outputId": "65513412-8504-435f-d335-75fc74b81154"
      },
      "source": [
        "# importing test data\n",
        "\n",
        "npzfile = np.load('/content/drive/MyDrive/Georgia_12Lead_ECG_Challenge_Database/test_data.npz')\n",
        "test_data = npzfile['arr_0']\n",
        "print('shape of test data -->' , np.shape(test_data))"
      ],
      "execution_count": null,
      "outputs": [
        {
          "output_type": "stream",
          "name": "stdout",
          "text": [
            "shape of test data --> (2344, 4000, 12)\n"
          ]
        }
      ]
    },
    {
      "cell_type": "code",
      "metadata": {
        "colab": {
          "base_uri": "https://localhost:8080/"
        },
        "id": "Ped6yaWdQ5GO",
        "outputId": "45154d9d-0278-4933-df43-a8752d1ae468"
      },
      "source": [
        "#importing test label\n",
        "\n",
        "test_label = pd.read_csv(open('/content/drive/MyDrive/Georgia_12Lead_ECG_Challenge_Database/test_label.csv'),index_col=0).values\n",
        "print('shape of test label -->' , np.shape(test_label))"
      ],
      "execution_count": null,
      "outputs": [
        {
          "output_type": "stream",
          "name": "stdout",
          "text": [
            "shape of test label --> (2344, 1)\n"
          ]
        }
      ]
    },
    {
      "cell_type": "markdown",
      "metadata": {
        "id": "X3aeH-wJ1LYF"
      },
      "source": [
        "## SkFold Preprepation"
      ]
    },
    {
      "cell_type": "code",
      "metadata": {
        "colab": {
          "base_uri": "https://localhost:8080/"
        },
        "id": "eKr6lAe41EWb",
        "outputId": "ee983752-ef32-4e2f-dbe7-8084b37960f0"
      },
      "source": [
        "skf = StratifiedKFold(n_splits=10 , shuffle = True , random_state = 42)\n",
        "train_indices = []\n",
        "test_indices = []\n",
        "\n",
        "for train_index, test_index in skf.split(train_data, train_label):\n",
        "  train_indices.append(train_index)\n",
        "  test_indices.append(test_index)\n",
        "\n",
        "train_indices"
      ],
      "execution_count": null,
      "outputs": [
        {
          "output_type": "execute_result",
          "data": {
            "text/plain": [
              "[array([   0,    1,    2, ..., 7997, 7998, 7999]),\n",
              " array([   1,    2,    3, ..., 7996, 7998, 7999]),\n",
              " array([   0,    1,    4, ..., 7997, 7998, 7999]),\n",
              " array([   0,    1,    2, ..., 7997, 7998, 7999]),\n",
              " array([   0,    1,    2, ..., 7997, 7998, 7999]),\n",
              " array([   0,    2,    3, ..., 7997, 7998, 7999]),\n",
              " array([   0,    1,    2, ..., 7997, 7998, 7999]),\n",
              " array([   0,    1,    2, ..., 7997, 7998, 7999]),\n",
              " array([   0,    1,    2, ..., 7997, 7998, 7999]),\n",
              " array([   0,    1,    2, ..., 7995, 7996, 7997])]"
            ]
          },
          "metadata": {},
          "execution_count": 13
        }
      ]
    },
    {
      "cell_type": "markdown",
      "metadata": {
        "id": "2tlCd_Ze1ncd"
      },
      "source": [
        "## Usefull Functions"
      ]
    },
    {
      "cell_type": "code",
      "metadata": {
        "id": "P_3XeXOX2650"
      },
      "source": [
        "# find specificity\n",
        "def specificity_score(y_true, y_pred):\n",
        "    m = confusion_matrix(y_true, y_pred, labels=[0, 1])\n",
        "    spc = m[0, 0] * 1.0 / (m[0, 0] + m[0, 1])\n",
        "    return spc\n",
        "\n",
        "# find sensitivity\n",
        "def sensitivity_score(y_true, y_pred):\n",
        "    m = confusion_matrix(y_true, y_pred, labels=[0, 1])\n",
        "    sen = m[1,1] * 1.0 / (m[1,1] + m[1,0])\n",
        "    return sen\n",
        "\n",
        "# find optimal threshold\n",
        "def find_opt_thresh(label , prediction):\n",
        "  opt_threshold = []\n",
        "\n",
        "  # Get precision-recall curve\n",
        "  precision, recall, threshold = precision_recall_curve(label, prediction)\n",
        "\n",
        "  # Compute f1 score for each point (use nan_to_num to avoid nans messing up the results)\n",
        "  f1_score = np.nan_to_num(2 * precision * recall / (precision + recall))\n",
        "\n",
        "  # Select threshold that maximize f1 score\n",
        "  index = np.argmax(f1_score)\n",
        "  t = threshold[index-1] if index != 0 else threshold[0]-1e-10\n",
        "  opt_threshold.append(t)\n",
        "\n",
        "  return opt_threshold"
      ],
      "execution_count": null,
      "outputs": []
    },
    {
      "cell_type": "markdown",
      "metadata": {
        "id": "FvlWZVB4NA6_"
      },
      "source": [
        "# Train Model"
      ]
    },
    {
      "cell_type": "markdown",
      "metadata": {
        "id": "kKVviyDzgUDw"
      },
      "source": [
        "### Define Model"
      ]
    },
    {
      "cell_type": "code",
      "metadata": {
        "id": "x4wQbaJD7xTC"
      },
      "source": [
        "from keras.layers import Flatten, Activation, RepeatVector, Permute, Multiply, Lambda, Dense, merge\n",
        "from keras import backend as K\n",
        "\n",
        "def ConvAttentionModel():\n",
        "  input_layer = tf.keras.layers.Input(shape = [4000,12])\n",
        "  x = tf.keras.layers.Conv1D(filters=16 , kernel_size=2 , padding='causal' , activation='relu' , dilation_rate=1)(input_layer)\n",
        "  for rate in (2,4,8,16,32,64,128,256,512):\n",
        "    x = tf.keras.layers.Conv1D(filters=16 , kernel_size=2 , padding='causal' , activation='relu' , dilation_rate=rate)(x)\n",
        "  for rate in (1,2,4,8,16,32,64,128,256,512):\n",
        "    x = tf.keras.layers.Conv1D(filters=32 , kernel_size=2 , padding='causal' , activation='relu' , dilation_rate=rate)(x)\n",
        "  for rate in (1,2,4,8,16,32,64,128,256,512):\n",
        "    x = tf.keras.layers.Conv1D(filters=64 , kernel_size=2 , padding='causal' , activation='relu' , dilation_rate=rate)(x)\n",
        "  x = tf.keras.layers.Conv1D(filters=64 , kernel_size=1)(x)\n",
        "  x = tf.keras.layers.MaxPooling1D(2)(x)\n",
        "  '''\n",
        "  x = tf.keras.layers.Flatten()(x)\n",
        "  x = tf.keras.layers.Dropout(rate = 0.2)(x)\n",
        "  '''\n",
        "  # Attention mechanism\n",
        "  # -----------------\n",
        "  e = tf.keras.layers.Dense(1, activation='tanh')(x)\n",
        "  e = tf.keras.layers.Flatten()(e)\n",
        "  a = tf.keras.layers.Activation('softmax')(e)\n",
        "  temp=RepeatVector(64)(a)\n",
        "  temp=Permute([2, 1])(temp)\n",
        "  output = merge.Multiply()([x, temp])\n",
        "  output = Lambda(lambda values: K.sum(values, axis=1))(output)\n",
        "  # -----------------\n",
        "\n",
        "  output_layer = tf.keras.layers.Dense(1 , activation='sigmoid')(output)\n",
        " \n",
        "  return tf.keras.Model(inputs = input_layer , outputs = output_layer)\n"
      ],
      "execution_count": null,
      "outputs": []
    },
    {
      "cell_type": "code",
      "metadata": {
        "colab": {
          "base_uri": "https://localhost:8080/"
        },
        "id": "LfBhWFM5n8IW",
        "outputId": "1dfb11db-d0b2-491b-f9b9-935e5c0aa2bd"
      },
      "source": [
        "model_design = ConvAttentionModel()\n",
        "model_design.summary()"
      ],
      "execution_count": null,
      "outputs": [
        {
          "name": "stdout",
          "output_type": "stream",
          "text": [
            "Model: \"model\"\n",
            "__________________________________________________________________________________________________\n",
            "Layer (type)                    Output Shape         Param #     Connected to                     \n",
            "==================================================================================================\n",
            "input_1 (InputLayer)            [(None, 4000, 12)]   0                                            \n",
            "__________________________________________________________________________________________________\n",
            "conv1d (Conv1D)                 (None, 4000, 16)     400         input_1[0][0]                    \n",
            "__________________________________________________________________________________________________\n",
            "conv1d_1 (Conv1D)               (None, 4000, 16)     528         conv1d[0][0]                     \n",
            "__________________________________________________________________________________________________\n",
            "conv1d_2 (Conv1D)               (None, 4000, 16)     528         conv1d_1[0][0]                   \n",
            "__________________________________________________________________________________________________\n",
            "conv1d_3 (Conv1D)               (None, 4000, 16)     528         conv1d_2[0][0]                   \n",
            "__________________________________________________________________________________________________\n",
            "conv1d_4 (Conv1D)               (None, 4000, 16)     528         conv1d_3[0][0]                   \n",
            "__________________________________________________________________________________________________\n",
            "conv1d_5 (Conv1D)               (None, 4000, 16)     528         conv1d_4[0][0]                   \n",
            "__________________________________________________________________________________________________\n",
            "conv1d_6 (Conv1D)               (None, 4000, 16)     528         conv1d_5[0][0]                   \n",
            "__________________________________________________________________________________________________\n",
            "conv1d_7 (Conv1D)               (None, 4000, 16)     528         conv1d_6[0][0]                   \n",
            "__________________________________________________________________________________________________\n",
            "conv1d_8 (Conv1D)               (None, 4000, 16)     528         conv1d_7[0][0]                   \n",
            "__________________________________________________________________________________________________\n",
            "conv1d_9 (Conv1D)               (None, 4000, 16)     528         conv1d_8[0][0]                   \n",
            "__________________________________________________________________________________________________\n",
            "conv1d_10 (Conv1D)              (None, 4000, 32)     1056        conv1d_9[0][0]                   \n",
            "__________________________________________________________________________________________________\n",
            "conv1d_11 (Conv1D)              (None, 4000, 32)     2080        conv1d_10[0][0]                  \n",
            "__________________________________________________________________________________________________\n",
            "conv1d_12 (Conv1D)              (None, 4000, 32)     2080        conv1d_11[0][0]                  \n",
            "__________________________________________________________________________________________________\n",
            "conv1d_13 (Conv1D)              (None, 4000, 32)     2080        conv1d_12[0][0]                  \n",
            "__________________________________________________________________________________________________\n",
            "conv1d_14 (Conv1D)              (None, 4000, 32)     2080        conv1d_13[0][0]                  \n",
            "__________________________________________________________________________________________________\n",
            "conv1d_15 (Conv1D)              (None, 4000, 32)     2080        conv1d_14[0][0]                  \n",
            "__________________________________________________________________________________________________\n",
            "conv1d_16 (Conv1D)              (None, 4000, 32)     2080        conv1d_15[0][0]                  \n",
            "__________________________________________________________________________________________________\n",
            "conv1d_17 (Conv1D)              (None, 4000, 32)     2080        conv1d_16[0][0]                  \n",
            "__________________________________________________________________________________________________\n",
            "conv1d_18 (Conv1D)              (None, 4000, 32)     2080        conv1d_17[0][0]                  \n",
            "__________________________________________________________________________________________________\n",
            "conv1d_19 (Conv1D)              (None, 4000, 32)     2080        conv1d_18[0][0]                  \n",
            "__________________________________________________________________________________________________\n",
            "conv1d_20 (Conv1D)              (None, 4000, 64)     4160        conv1d_19[0][0]                  \n",
            "__________________________________________________________________________________________________\n",
            "conv1d_21 (Conv1D)              (None, 4000, 64)     8256        conv1d_20[0][0]                  \n",
            "__________________________________________________________________________________________________\n",
            "conv1d_22 (Conv1D)              (None, 4000, 64)     8256        conv1d_21[0][0]                  \n",
            "__________________________________________________________________________________________________\n",
            "conv1d_23 (Conv1D)              (None, 4000, 64)     8256        conv1d_22[0][0]                  \n",
            "__________________________________________________________________________________________________\n",
            "conv1d_24 (Conv1D)              (None, 4000, 64)     8256        conv1d_23[0][0]                  \n",
            "__________________________________________________________________________________________________\n",
            "conv1d_25 (Conv1D)              (None, 4000, 64)     8256        conv1d_24[0][0]                  \n",
            "__________________________________________________________________________________________________\n",
            "conv1d_26 (Conv1D)              (None, 4000, 64)     8256        conv1d_25[0][0]                  \n",
            "__________________________________________________________________________________________________\n",
            "conv1d_27 (Conv1D)              (None, 4000, 64)     8256        conv1d_26[0][0]                  \n",
            "__________________________________________________________________________________________________\n",
            "conv1d_28 (Conv1D)              (None, 4000, 64)     8256        conv1d_27[0][0]                  \n",
            "__________________________________________________________________________________________________\n",
            "conv1d_29 (Conv1D)              (None, 4000, 64)     8256        conv1d_28[0][0]                  \n",
            "__________________________________________________________________________________________________\n",
            "conv1d_30 (Conv1D)              (None, 4000, 64)     4160        conv1d_29[0][0]                  \n",
            "__________________________________________________________________________________________________\n",
            "max_pooling1d (MaxPooling1D)    (None, 2000, 64)     0           conv1d_30[0][0]                  \n",
            "__________________________________________________________________________________________________\n",
            "dense (Dense)                   (None, 2000, 1)      65          max_pooling1d[0][0]              \n",
            "__________________________________________________________________________________________________\n",
            "flatten (Flatten)               (None, 2000)         0           dense[0][0]                      \n",
            "__________________________________________________________________________________________________\n",
            "activation (Activation)         (None, 2000)         0           flatten[0][0]                    \n",
            "__________________________________________________________________________________________________\n",
            "repeat_vector (RepeatVector)    (None, 64, 2000)     0           activation[0][0]                 \n",
            "__________________________________________________________________________________________________\n",
            "permute (Permute)               (None, 2000, 64)     0           repeat_vector[0][0]              \n",
            "__________________________________________________________________________________________________\n",
            "multiply (Multiply)             (None, 2000, 64)     0           max_pooling1d[0][0]              \n",
            "                                                                 permute[0][0]                    \n",
            "__________________________________________________________________________________________________\n",
            "lambda (Lambda)                 (None, 64)           0           multiply[0][0]                   \n",
            "__________________________________________________________________________________________________\n",
            "dense_1 (Dense)                 (None, 1)            65          lambda[0][0]                     \n",
            "==================================================================================================\n",
            "Total params: 107,682\n",
            "Trainable params: 107,682\n",
            "Non-trainable params: 0\n",
            "__________________________________________________________________________________________________\n"
          ]
        }
      ]
    },
    {
      "cell_type": "code",
      "metadata": {
        "id": "sdih0UIWPTrT"
      },
      "source": [
        "def CompModel():\n",
        "  model = ConvAttentionModel()\n",
        "  model.compile(optimizer=tf.keras.optimizers.Adam(learning_rate=1e-05) , \n",
        "                loss='binary_crossentropy' , metrics=['acc'])\n",
        "  return model\n",
        "early_stopping_cb = tf.keras.callbacks.EarlyStopping(patience=10 , restore_best_weights=True)"
      ],
      "execution_count": null,
      "outputs": []
    },
    {
      "cell_type": "markdown",
      "metadata": {
        "id": "E0cJDPTem6Iw"
      },
      "source": [
        "#### Fold 1"
      ]
    },
    {
      "cell_type": "code",
      "metadata": {
        "id": "GEd5aoUyqEge"
      },
      "source": [
        "model = CompModel()"
      ],
      "execution_count": null,
      "outputs": []
    },
    {
      "cell_type": "code",
      "metadata": {
        "colab": {
          "base_uri": "https://localhost:8080/"
        },
        "id": "yRxqWWLPm6Ix",
        "outputId": "6eaa45c3-37d0-4631-f5cc-a8f7245d17c4"
      },
      "source": [
        "history = model.fit(train_data[train_indices[0]], train_label[train_indices[0]],\n",
        "            epochs=1000,\n",
        "            validation_data = (train_data[test_indices[0]] , train_label[test_indices[0]]),\n",
        "            callbacks = [early_stopping_cb],\n",
        "            verbose = 1)"
      ],
      "execution_count": null,
      "outputs": [
        {
          "name": "stdout",
          "output_type": "stream",
          "text": [
            "Epoch 1/1000\n",
            "225/225 [==============================] - 44s 113ms/step - loss: 0.6747 - acc: 0.9732 - val_loss: 0.6364 - val_acc: 0.9787\n",
            "Epoch 2/1000\n",
            "225/225 [==============================] - 25s 110ms/step - loss: 0.3922 - acc: 0.9776 - val_loss: 0.1179 - val_acc: 0.9787\n",
            "Epoch 3/1000\n",
            "225/225 [==============================] - 25s 110ms/step - loss: 0.1165 - acc: 0.9776 - val_loss: 0.1101 - val_acc: 0.9787\n",
            "Epoch 4/1000\n",
            "225/225 [==============================] - 25s 110ms/step - loss: 0.1126 - acc: 0.9776 - val_loss: 0.1076 - val_acc: 0.9787\n",
            "Epoch 5/1000\n",
            "225/225 [==============================] - 25s 110ms/step - loss: 0.1106 - acc: 0.9776 - val_loss: 0.1056 - val_acc: 0.9787\n",
            "Epoch 6/1000\n",
            "225/225 [==============================] - 25s 110ms/step - loss: 0.1090 - acc: 0.9776 - val_loss: 0.1039 - val_acc: 0.9787\n",
            "Epoch 7/1000\n",
            "225/225 [==============================] - 25s 110ms/step - loss: 0.1074 - acc: 0.9776 - val_loss: 0.1021 - val_acc: 0.9787\n",
            "Epoch 8/1000\n",
            "225/225 [==============================] - 25s 110ms/step - loss: 0.1055 - acc: 0.9776 - val_loss: 0.0998 - val_acc: 0.9787\n",
            "Epoch 9/1000\n",
            "225/225 [==============================] - 25s 110ms/step - loss: 0.1033 - acc: 0.9776 - val_loss: 0.0973 - val_acc: 0.9787\n",
            "Epoch 10/1000\n",
            "225/225 [==============================] - 25s 110ms/step - loss: 0.1012 - acc: 0.9776 - val_loss: 0.0946 - val_acc: 0.9787\n",
            "Epoch 11/1000\n",
            "225/225 [==============================] - 25s 110ms/step - loss: 0.0985 - acc: 0.9776 - val_loss: 0.0919 - val_acc: 0.9787\n",
            "Epoch 12/1000\n",
            "225/225 [==============================] - 25s 110ms/step - loss: 0.0958 - acc: 0.9776 - val_loss: 0.0907 - val_acc: 0.9787\n",
            "Epoch 13/1000\n",
            "225/225 [==============================] - 25s 110ms/step - loss: 0.0932 - acc: 0.9776 - val_loss: 0.0853 - val_acc: 0.9787\n",
            "Epoch 14/1000\n",
            "225/225 [==============================] - 25s 110ms/step - loss: 0.0895 - acc: 0.9776 - val_loss: 0.0813 - val_acc: 0.9787\n",
            "Epoch 15/1000\n",
            "225/225 [==============================] - 25s 110ms/step - loss: 0.0859 - acc: 0.9776 - val_loss: 0.0769 - val_acc: 0.9787\n",
            "Epoch 16/1000\n",
            "225/225 [==============================] - 25s 110ms/step - loss: 0.0822 - acc: 0.9776 - val_loss: 0.0731 - val_acc: 0.9787\n",
            "Epoch 17/1000\n",
            "225/225 [==============================] - 25s 110ms/step - loss: 0.0783 - acc: 0.9776 - val_loss: 0.0721 - val_acc: 0.9787\n",
            "Epoch 18/1000\n",
            "225/225 [==============================] - 25s 110ms/step - loss: 0.0745 - acc: 0.9776 - val_loss: 0.0657 - val_acc: 0.9787\n",
            "Epoch 19/1000\n",
            "225/225 [==============================] - 25s 110ms/step - loss: 0.0715 - acc: 0.9776 - val_loss: 0.0609 - val_acc: 0.9787\n",
            "Epoch 20/1000\n",
            "225/225 [==============================] - 25s 110ms/step - loss: 0.0672 - acc: 0.9776 - val_loss: 0.0564 - val_acc: 0.9787\n",
            "Epoch 21/1000\n",
            "225/225 [==============================] - 25s 110ms/step - loss: 0.0634 - acc: 0.9776 - val_loss: 0.0524 - val_acc: 0.9787\n",
            "Epoch 22/1000\n",
            "225/225 [==============================] - 25s 110ms/step - loss: 0.0588 - acc: 0.9776 - val_loss: 0.0496 - val_acc: 0.9787\n",
            "Epoch 23/1000\n",
            "225/225 [==============================] - 25s 110ms/step - loss: 0.0556 - acc: 0.9776 - val_loss: 0.0468 - val_acc: 0.9787\n",
            "Epoch 24/1000\n",
            "225/225 [==============================] - 25s 110ms/step - loss: 0.0533 - acc: 0.9776 - val_loss: 0.0428 - val_acc: 0.9825\n",
            "Epoch 25/1000\n",
            "225/225 [==============================] - 25s 110ms/step - loss: 0.0506 - acc: 0.9779 - val_loss: 0.0410 - val_acc: 0.9850\n",
            "Epoch 26/1000\n",
            "225/225 [==============================] - 25s 110ms/step - loss: 0.0487 - acc: 0.9786 - val_loss: 0.0386 - val_acc: 0.9850\n",
            "Epoch 27/1000\n",
            "225/225 [==============================] - 25s 110ms/step - loss: 0.0470 - acc: 0.9787 - val_loss: 0.0370 - val_acc: 0.9875\n",
            "Epoch 28/1000\n",
            "225/225 [==============================] - 25s 110ms/step - loss: 0.0456 - acc: 0.9807 - val_loss: 0.0355 - val_acc: 0.9875\n",
            "Epoch 29/1000\n",
            "225/225 [==============================] - 25s 110ms/step - loss: 0.0437 - acc: 0.9818 - val_loss: 0.0339 - val_acc: 0.9900\n",
            "Epoch 30/1000\n",
            "225/225 [==============================] - 25s 111ms/step - loss: 0.0428 - acc: 0.9840 - val_loss: 0.0334 - val_acc: 0.9900\n",
            "Epoch 31/1000\n",
            "225/225 [==============================] - 25s 111ms/step - loss: 0.0419 - acc: 0.9846 - val_loss: 0.0344 - val_acc: 0.9900\n",
            "Epoch 32/1000\n",
            "225/225 [==============================] - 25s 111ms/step - loss: 0.0408 - acc: 0.9864 - val_loss: 0.0303 - val_acc: 0.9900\n",
            "Epoch 33/1000\n",
            "225/225 [==============================] - 25s 110ms/step - loss: 0.0397 - acc: 0.9860 - val_loss: 0.0301 - val_acc: 0.9900\n",
            "Epoch 34/1000\n",
            "225/225 [==============================] - 25s 110ms/step - loss: 0.0389 - acc: 0.9875 - val_loss: 0.0288 - val_acc: 0.9900\n",
            "Epoch 35/1000\n",
            "225/225 [==============================] - 25s 110ms/step - loss: 0.0384 - acc: 0.9865 - val_loss: 0.0285 - val_acc: 0.9900\n",
            "Epoch 36/1000\n",
            "225/225 [==============================] - 25s 110ms/step - loss: 0.0377 - acc: 0.9862 - val_loss: 0.0292 - val_acc: 0.9900\n",
            "Epoch 37/1000\n",
            "225/225 [==============================] - 25s 110ms/step - loss: 0.0378 - acc: 0.9865 - val_loss: 0.0291 - val_acc: 0.9900\n",
            "Epoch 38/1000\n",
            "225/225 [==============================] - 25s 110ms/step - loss: 0.0371 - acc: 0.9871 - val_loss: 0.0290 - val_acc: 0.9900\n",
            "Epoch 39/1000\n",
            "225/225 [==============================] - 25s 110ms/step - loss: 0.0369 - acc: 0.9872 - val_loss: 0.0285 - val_acc: 0.9887\n",
            "Epoch 40/1000\n",
            "225/225 [==============================] - 25s 110ms/step - loss: 0.0372 - acc: 0.9876 - val_loss: 0.0279 - val_acc: 0.9887\n",
            "Epoch 41/1000\n",
            "225/225 [==============================] - 25s 110ms/step - loss: 0.0364 - acc: 0.9875 - val_loss: 0.0293 - val_acc: 0.9887\n",
            "Epoch 42/1000\n",
            "225/225 [==============================] - 25s 110ms/step - loss: 0.0365 - acc: 0.9875 - val_loss: 0.0277 - val_acc: 0.9887\n",
            "Epoch 43/1000\n",
            "225/225 [==============================] - 25s 110ms/step - loss: 0.0361 - acc: 0.9890 - val_loss: 0.0286 - val_acc: 0.9900\n",
            "Epoch 44/1000\n",
            "225/225 [==============================] - 25s 110ms/step - loss: 0.0367 - acc: 0.9867 - val_loss: 0.0279 - val_acc: 0.9887\n",
            "Epoch 45/1000\n",
            "225/225 [==============================] - 25s 110ms/step - loss: 0.0359 - acc: 0.9886 - val_loss: 0.0276 - val_acc: 0.9887\n",
            "Epoch 46/1000\n",
            "225/225 [==============================] - 25s 110ms/step - loss: 0.0364 - acc: 0.9882 - val_loss: 0.0279 - val_acc: 0.9875\n",
            "Epoch 47/1000\n",
            "225/225 [==============================] - 25s 110ms/step - loss: 0.0353 - acc: 0.9887 - val_loss: 0.0278 - val_acc: 0.9887\n",
            "Epoch 48/1000\n",
            "225/225 [==============================] - 25s 110ms/step - loss: 0.0356 - acc: 0.9886 - val_loss: 0.0285 - val_acc: 0.9900\n",
            "Epoch 49/1000\n",
            "225/225 [==============================] - 25s 110ms/step - loss: 0.0359 - acc: 0.9881 - val_loss: 0.0277 - val_acc: 0.9887\n",
            "Epoch 50/1000\n",
            "225/225 [==============================] - 25s 110ms/step - loss: 0.0351 - acc: 0.9886 - val_loss: 0.0286 - val_acc: 0.9887\n",
            "Epoch 51/1000\n",
            "225/225 [==============================] - 25s 111ms/step - loss: 0.0353 - acc: 0.9886 - val_loss: 0.0279 - val_acc: 0.9875\n",
            "Epoch 52/1000\n",
            "225/225 [==============================] - 25s 110ms/step - loss: 0.0353 - acc: 0.9887 - val_loss: 0.0276 - val_acc: 0.9887\n",
            "Epoch 53/1000\n",
            "225/225 [==============================] - 25s 110ms/step - loss: 0.0351 - acc: 0.9876 - val_loss: 0.0289 - val_acc: 0.9875\n",
            "Epoch 54/1000\n",
            "225/225 [==============================] - 25s 110ms/step - loss: 0.0350 - acc: 0.9876 - val_loss: 0.0278 - val_acc: 0.9875\n",
            "Epoch 55/1000\n",
            "225/225 [==============================] - 25s 111ms/step - loss: 0.0356 - acc: 0.9883 - val_loss: 0.0277 - val_acc: 0.9875\n"
          ]
        }
      ]
    },
    {
      "cell_type": "code",
      "metadata": {
        "colab": {
          "base_uri": "https://localhost:8080/"
        },
        "id": "DkXDpb96m6Iy",
        "outputId": "21f8e68e-9801-4841-e2cd-79bb26d8ebdb"
      },
      "source": [
        "model.save('/content/drive/MyDrive/final_models/with_attention/model1.h5')"
      ],
      "execution_count": null,
      "outputs": [
        {
          "name": "stderr",
          "output_type": "stream",
          "text": [
            "/usr/local/lib/python3.7/dist-packages/keras/utils/generic_utils.py:497: CustomMaskWarning: Custom mask layers require a config and must override get_config. When loading, the custom mask layer must be passed to the custom_objects argument.\n",
            "  category=CustomMaskWarning)\n"
          ]
        }
      ]
    },
    {
      "cell_type": "code",
      "metadata": {
        "colab": {
          "base_uri": "https://localhost:8080/",
          "height": 562
        },
        "id": "KueEbuW4m6Iy",
        "outputId": "e3dde3d1-b9de-4327-a75d-49cefab7543f"
      },
      "source": [
        "#plot acc and loss\n",
        "import matplotlib.pyplot as plt\n",
        "epochs = range(len(history.history['loss']))\n",
        "plt.plot(epochs , history.history['val_loss'])\n",
        "plt.plot(epochs , history.history['loss'])\n",
        "plt.title('loss')\n",
        "plt.figure()\n",
        "plt.plot(epochs , history.history['val_acc'])\n",
        "plt.plot(epochs , history.history['acc'])\n",
        "plt.title('accuracy')\n",
        "plt.figure()\n",
        "plt.show()"
      ],
      "execution_count": null,
      "outputs": [
        {
          "data": {
            "image/png": "[encoded data removed]",
            "text/plain": [
              "<Figure size 432x288 with 1 Axes>"
            ]
          },
          "metadata": {
            "tags": []
          },
          "output_type": "display_data"
        },
        {
          "data": {
            "image/png": "[encoded data removed]",
            "text/plain": [
              "<Figure size 432x288 with 1 Axes>"
            ]
          },
          "metadata": {
            "tags": []
          },
          "output_type": "display_data"
        },
        {
          "data": {
            "text/plain": [
              "<Figure size 432x288 with 0 Axes>"
            ]
          },
          "metadata": {
            "tags": []
          },
          "output_type": "display_data"
        }
      ]
    },
    {
      "cell_type": "code",
      "metadata": {
        "colab": {
          "base_uri": "https://localhost:8080/"
        },
        "id": "uki0Em_um6Iy",
        "outputId": "1cc6b4e9-3fcf-4d20-ec79-24da1531dc4d"
      },
      "source": [
        "model.evaluate(test_data , test_label)"
      ],
      "execution_count": null,
      "outputs": [
        {
          "name": "stdout",
          "output_type": "stream",
          "text": [
            "74/74 [==============================] - 4s 41ms/step - loss: 0.0382 - acc: 0.9872\n"
          ]
        },
        {
          "data": {
            "text/plain": [
              "[0.03824635595083237, 0.9872013926506042]"
            ]
          },
          "execution_count": 16,
          "metadata": {
            "tags": []
          },
          "output_type": "execute_result"
        }
      ]
    },
    {
      "cell_type": "code",
      "metadata": {
        "colab": {
          "base_uri": "https://localhost:8080/"
        },
        "id": "MBiSHkXvm6Iz",
        "outputId": "aeeea8e3-c100-4b0c-f96d-6d1e9efdf4d6"
      },
      "source": [
        "# performance measurements on test data 2\n",
        "\n",
        "pred = model.predict(test_data)\n",
        "\n",
        "thresh = find_opt_thresh(test_label , pred)\n",
        "print(thresh)\n",
        "prediction = np.zeros(np.shape(pred))\n",
        "prediction[pred > thresh] = 1\n",
        "\n",
        "from sklearn.metrics import accuracy_score\n",
        "accuracy = accuracy_score(test_label   , prediction)\n",
        "print('accuracy is:' , np.round(accuracy*100,2) , '%')\n",
        "print('___________________________________________')\n",
        "from sklearn.metrics import precision_score\n",
        "pscore = precision_score(test_label   , prediction)\n",
        "print('precision score is:' , np.round(pscore*100,2) , '%')\n",
        "print('___________________________________________')\n",
        "from sklearn.metrics import recall_score\n",
        "rscore = recall_score(test_label   , prediction)\n",
        "print('recall score is:' , np.round(rscore*100,2) , '%')\n",
        "print('___________________________________________')\n",
        "from sklearn.metrics import f1_score\n",
        "fscore = f1_score(test_label   , prediction)\n",
        "print('f1 score is:' , np.round(fscore*100,2) , '%')\n",
        "print('___________________________________________')\n",
        "spc = specificity_score(test_label   , prediction)\n",
        "print('specificity is:' , np.round(spc*100,2) , '%')\n",
        "print('___________________________________________')\n",
        "sen = sensitivity_score(test_label   , prediction)\n",
        "print('sensitivity is:' , np.round(sen*100,2) , '%')\n",
        "print('___________________________________________')\n",
        "from sklearn.metrics import roc_auc_score\n",
        "auc = roc_auc_score(test_label   , prediction)\n",
        "print('AUC is:' , np.round(auc,4))"
      ],
      "execution_count": null,
      "outputs": [
        {
          "name": "stdout",
          "output_type": "stream",
          "text": [
            "[0.57995427]\n",
            "accuracy is: 98.85 %\n",
            "___________________________________________\n",
            "precision score is: 77.08 %\n",
            "___________________________________________\n",
            "recall score is: 69.81 %\n",
            "___________________________________________\n",
            "f1 score is: 73.27 %\n",
            "___________________________________________\n",
            "specificity is: 99.52 %\n",
            "___________________________________________\n",
            "sensitivity is: 69.81 %\n",
            "___________________________________________\n",
            "AUC is: 0.8467\n"
          ]
        },
        {
          "name": "stderr",
          "output_type": "stream",
          "text": [
            "/usr/local/lib/python3.7/dist-packages/ipykernel_launcher.py:21: RuntimeWarning: invalid value encountered in true_divide\n"
          ]
        }
      ]
    },
    {
      "cell_type": "markdown",
      "metadata": {
        "id": "6zCJLXXQuJ0x"
      },
      "source": [
        "#### Fold 2"
      ]
    },
    {
      "cell_type": "code",
      "metadata": {
        "id": "z7AzA9kquJ07"
      },
      "source": [
        "model = CompModel()"
      ],
      "execution_count": null,
      "outputs": []
    },
    {
      "cell_type": "code",
      "metadata": {
        "colab": {
          "base_uri": "https://localhost:8080/"
        },
        "id": "pImcIksXuJ08",
        "outputId": "72f5a16e-e9f5-405c-b344-bc922c1c9732"
      },
      "source": [
        "history = model.fit(train_data[train_indices[1]], train_label[train_indices[1]],\n",
        "            epochs=1000,\n",
        "            validation_data = (train_data[test_indices[1]] , train_label[test_indices[1]]),\n",
        "            callbacks = [early_stopping_cb],\n",
        "            verbose = 1)"
      ],
      "execution_count": null,
      "outputs": [
        {
          "name": "stdout",
          "output_type": "stream",
          "text": [
            "Epoch 1/1000\n",
            "225/225 [==============================] - 28s 113ms/step - loss: 0.6712 - acc: 0.9735 - val_loss: 0.6245 - val_acc: 0.9787\n",
            "Epoch 2/1000\n",
            "225/225 [==============================] - 25s 110ms/step - loss: 0.3689 - acc: 0.9776 - val_loss: 0.1100 - val_acc: 0.9787\n",
            "Epoch 3/1000\n",
            "225/225 [==============================] - 25s 110ms/step - loss: 0.1101 - acc: 0.9776 - val_loss: 0.1044 - val_acc: 0.9787\n",
            "Epoch 4/1000\n",
            "225/225 [==============================] - 25s 110ms/step - loss: 0.1085 - acc: 0.9776 - val_loss: 0.1045 - val_acc: 0.9787\n",
            "Epoch 5/1000\n",
            "225/225 [==============================] - 25s 110ms/step - loss: 0.1077 - acc: 0.9776 - val_loss: 0.1031 - val_acc: 0.9787\n",
            "Epoch 6/1000\n",
            "225/225 [==============================] - 25s 110ms/step - loss: 0.1072 - acc: 0.9776 - val_loss: 0.1023 - val_acc: 0.9787\n",
            "Epoch 7/1000\n",
            "225/225 [==============================] - 25s 110ms/step - loss: 0.1062 - acc: 0.9776 - val_loss: 0.1013 - val_acc: 0.9787\n",
            "Epoch 8/1000\n",
            "225/225 [==============================] - 25s 110ms/step - loss: 0.1050 - acc: 0.9776 - val_loss: 0.1003 - val_acc: 0.9787\n",
            "Epoch 9/1000\n",
            "225/225 [==============================] - 25s 109ms/step - loss: 0.1038 - acc: 0.9776 - val_loss: 0.0982 - val_acc: 0.9787\n",
            "Epoch 10/1000\n",
            "225/225 [==============================] - 25s 109ms/step - loss: 0.1011 - acc: 0.9776 - val_loss: 0.0955 - val_acc: 0.9787\n",
            "Epoch 11/1000\n",
            "225/225 [==============================] - 25s 110ms/step - loss: 0.0979 - acc: 0.9776 - val_loss: 0.0931 - val_acc: 0.9787\n",
            "Epoch 12/1000\n",
            "225/225 [==============================] - 25s 110ms/step - loss: 0.0947 - acc: 0.9776 - val_loss: 0.0892 - val_acc: 0.9787\n",
            "Epoch 13/1000\n",
            "225/225 [==============================] - 25s 110ms/step - loss: 0.0914 - acc: 0.9776 - val_loss: 0.0854 - val_acc: 0.9787\n",
            "Epoch 14/1000\n",
            "225/225 [==============================] - 25s 110ms/step - loss: 0.0879 - acc: 0.9776 - val_loss: 0.0813 - val_acc: 0.9787\n",
            "Epoch 15/1000\n",
            "225/225 [==============================] - 25s 110ms/step - loss: 0.0845 - acc: 0.9776 - val_loss: 0.0776 - val_acc: 0.9787\n",
            "Epoch 16/1000\n",
            "225/225 [==============================] - 25s 109ms/step - loss: 0.0816 - acc: 0.9776 - val_loss: 0.0750 - val_acc: 0.9787\n",
            "Epoch 17/1000\n",
            "225/225 [==============================] - 25s 109ms/step - loss: 0.0793 - acc: 0.9776 - val_loss: 0.0729 - val_acc: 0.9787\n",
            "Epoch 18/1000\n",
            "225/225 [==============================] - 25s 110ms/step - loss: 0.0771 - acc: 0.9776 - val_loss: 0.0699 - val_acc: 0.9787\n",
            "Epoch 19/1000\n",
            "225/225 [==============================] - 25s 109ms/step - loss: 0.0748 - acc: 0.9776 - val_loss: 0.0674 - val_acc: 0.9787\n",
            "Epoch 20/1000\n",
            "225/225 [==============================] - 25s 109ms/step - loss: 0.0726 - acc: 0.9776 - val_loss: 0.0651 - val_acc: 0.9787\n",
            "Epoch 21/1000\n",
            "225/225 [==============================] - 25s 109ms/step - loss: 0.0706 - acc: 0.9776 - val_loss: 0.0632 - val_acc: 0.9787\n",
            "Epoch 22/1000\n",
            "225/225 [==============================] - 25s 109ms/step - loss: 0.0690 - acc: 0.9776 - val_loss: 0.0617 - val_acc: 0.9787\n",
            "Epoch 23/1000\n",
            "225/225 [==============================] - 25s 109ms/step - loss: 0.0676 - acc: 0.9776 - val_loss: 0.0609 - val_acc: 0.9787\n",
            "Epoch 24/1000\n",
            "225/225 [==============================] - 25s 109ms/step - loss: 0.0661 - acc: 0.9776 - val_loss: 0.0590 - val_acc: 0.9787\n",
            "Epoch 25/1000\n",
            "225/225 [==============================] - 25s 110ms/step - loss: 0.0648 - acc: 0.9776 - val_loss: 0.0602 - val_acc: 0.9787\n",
            "Epoch 26/1000\n",
            "225/225 [==============================] - 25s 110ms/step - loss: 0.0633 - acc: 0.9775 - val_loss: 0.0564 - val_acc: 0.9787\n",
            "Epoch 27/1000\n",
            "225/225 [==============================] - 25s 110ms/step - loss: 0.0620 - acc: 0.9774 - val_loss: 0.0549 - val_acc: 0.9787\n",
            "Epoch 28/1000\n",
            "225/225 [==============================] - 25s 110ms/step - loss: 0.0594 - acc: 0.9771 - val_loss: 0.0538 - val_acc: 0.9787\n",
            "Epoch 29/1000\n",
            "225/225 [==============================] - 25s 110ms/step - loss: 0.0580 - acc: 0.9765 - val_loss: 0.0521 - val_acc: 0.9787\n",
            "Epoch 30/1000\n",
            "225/225 [==============================] - 25s 110ms/step - loss: 0.0564 - acc: 0.9767 - val_loss: 0.0504 - val_acc: 0.9775\n",
            "Epoch 31/1000\n",
            "225/225 [==============================] - 25s 109ms/step - loss: 0.0549 - acc: 0.9761 - val_loss: 0.0491 - val_acc: 0.9787\n",
            "Epoch 32/1000\n",
            "225/225 [==============================] - 25s 110ms/step - loss: 0.0534 - acc: 0.9764 - val_loss: 0.0482 - val_acc: 0.9787\n",
            "Epoch 33/1000\n",
            "225/225 [==============================] - 25s 109ms/step - loss: 0.0525 - acc: 0.9774 - val_loss: 0.0461 - val_acc: 0.9787\n",
            "Epoch 34/1000\n",
            "225/225 [==============================] - 25s 109ms/step - loss: 0.0513 - acc: 0.9778 - val_loss: 0.0451 - val_acc: 0.9825\n",
            "Epoch 35/1000\n",
            "225/225 [==============================] - 25s 111ms/step - loss: 0.0509 - acc: 0.9800 - val_loss: 0.0446 - val_acc: 0.9837\n",
            "Epoch 36/1000\n",
            "225/225 [==============================] - 25s 109ms/step - loss: 0.0499 - acc: 0.9799 - val_loss: 0.0432 - val_acc: 0.9837\n",
            "Epoch 37/1000\n",
            "225/225 [==============================] - 25s 111ms/step - loss: 0.0493 - acc: 0.9806 - val_loss: 0.0424 - val_acc: 0.9850\n",
            "Epoch 38/1000\n",
            "225/225 [==============================] - 25s 110ms/step - loss: 0.0485 - acc: 0.9819 - val_loss: 0.0416 - val_acc: 0.9850\n",
            "Epoch 39/1000\n",
            "225/225 [==============================] - 25s 110ms/step - loss: 0.0477 - acc: 0.9821 - val_loss: 0.0407 - val_acc: 0.9862\n",
            "Epoch 40/1000\n",
            "225/225 [==============================] - 25s 110ms/step - loss: 0.0469 - acc: 0.9831 - val_loss: 0.0397 - val_acc: 0.9862\n",
            "Epoch 41/1000\n",
            "225/225 [==============================] - 25s 110ms/step - loss: 0.0463 - acc: 0.9846 - val_loss: 0.0388 - val_acc: 0.9887\n",
            "Epoch 42/1000\n",
            "225/225 [==============================] - 25s 110ms/step - loss: 0.0458 - acc: 0.9836 - val_loss: 0.0380 - val_acc: 0.9875\n",
            "Epoch 43/1000\n",
            "225/225 [==============================] - 25s 110ms/step - loss: 0.0448 - acc: 0.9849 - val_loss: 0.0373 - val_acc: 0.9875\n",
            "Epoch 44/1000\n",
            "225/225 [==============================] - 25s 109ms/step - loss: 0.0449 - acc: 0.9851 - val_loss: 0.0368 - val_acc: 0.9900\n",
            "Epoch 45/1000\n",
            "225/225 [==============================] - 25s 110ms/step - loss: 0.0437 - acc: 0.9854 - val_loss: 0.0360 - val_acc: 0.9900\n",
            "Epoch 46/1000\n",
            "225/225 [==============================] - 25s 110ms/step - loss: 0.0432 - acc: 0.9858 - val_loss: 0.0354 - val_acc: 0.9900\n",
            "Epoch 47/1000\n",
            "225/225 [==============================] - 25s 110ms/step - loss: 0.0427 - acc: 0.9851 - val_loss: 0.0345 - val_acc: 0.9900\n",
            "Epoch 48/1000\n",
            "225/225 [==============================] - 25s 109ms/step - loss: 0.0422 - acc: 0.9860 - val_loss: 0.0343 - val_acc: 0.9887\n",
            "Epoch 49/1000\n",
            "225/225 [==============================] - 25s 110ms/step - loss: 0.0414 - acc: 0.9858 - val_loss: 0.0330 - val_acc: 0.9887\n",
            "Epoch 50/1000\n",
            "225/225 [==============================] - 25s 109ms/step - loss: 0.0410 - acc: 0.9856 - val_loss: 0.0327 - val_acc: 0.9887\n",
            "Epoch 51/1000\n",
            "225/225 [==============================] - 25s 110ms/step - loss: 0.0406 - acc: 0.9864 - val_loss: 0.0321 - val_acc: 0.9887\n",
            "Epoch 52/1000\n",
            "225/225 [==============================] - 25s 110ms/step - loss: 0.0402 - acc: 0.9862 - val_loss: 0.0315 - val_acc: 0.9900\n",
            "Epoch 53/1000\n",
            "225/225 [==============================] - 25s 109ms/step - loss: 0.0395 - acc: 0.9867 - val_loss: 0.0312 - val_acc: 0.9887\n",
            "Epoch 54/1000\n",
            "225/225 [==============================] - 25s 109ms/step - loss: 0.0395 - acc: 0.9862 - val_loss: 0.0320 - val_acc: 0.9912\n",
            "Epoch 55/1000\n",
            "225/225 [==============================] - 25s 110ms/step - loss: 0.0389 - acc: 0.9869 - val_loss: 0.0303 - val_acc: 0.9887\n",
            "Epoch 56/1000\n",
            "225/225 [==============================] - 25s 109ms/step - loss: 0.0383 - acc: 0.9872 - val_loss: 0.0294 - val_acc: 0.9900\n",
            "Epoch 57/1000\n",
            "225/225 [==============================] - 25s 109ms/step - loss: 0.0378 - acc: 0.9878 - val_loss: 0.0289 - val_acc: 0.9875\n",
            "Epoch 58/1000\n",
            "225/225 [==============================] - 25s 110ms/step - loss: 0.0374 - acc: 0.9874 - val_loss: 0.0282 - val_acc: 0.9887\n",
            "Epoch 59/1000\n",
            "225/225 [==============================] - 25s 110ms/step - loss: 0.0373 - acc: 0.9872 - val_loss: 0.0281 - val_acc: 0.9887\n",
            "Epoch 60/1000\n",
            "225/225 [==============================] - 25s 110ms/step - loss: 0.0369 - acc: 0.9876 - val_loss: 0.0276 - val_acc: 0.9875\n",
            "Epoch 61/1000\n",
            "225/225 [==============================] - 25s 110ms/step - loss: 0.0368 - acc: 0.9875 - val_loss: 0.0271 - val_acc: 0.9875\n",
            "Epoch 62/1000\n",
            "225/225 [==============================] - 25s 110ms/step - loss: 0.0363 - acc: 0.9879 - val_loss: 0.0280 - val_acc: 0.9887\n",
            "Epoch 63/1000\n",
            "225/225 [==============================] - 25s 110ms/step - loss: 0.0364 - acc: 0.9874 - val_loss: 0.0267 - val_acc: 0.9887\n",
            "Epoch 64/1000\n",
            "225/225 [==============================] - 25s 110ms/step - loss: 0.0361 - acc: 0.9879 - val_loss: 0.0262 - val_acc: 0.9887\n",
            "Epoch 65/1000\n",
            "225/225 [==============================] - 25s 110ms/step - loss: 0.0354 - acc: 0.9883 - val_loss: 0.0264 - val_acc: 0.9887\n",
            "Epoch 66/1000\n",
            "225/225 [==============================] - 25s 110ms/step - loss: 0.0361 - acc: 0.9885 - val_loss: 0.0259 - val_acc: 0.9887\n",
            "Epoch 67/1000\n",
            "225/225 [==============================] - 25s 109ms/step - loss: 0.0353 - acc: 0.9883 - val_loss: 0.0270 - val_acc: 0.9887\n",
            "Epoch 68/1000\n",
            "225/225 [==============================] - 25s 110ms/step - loss: 0.0355 - acc: 0.9881 - val_loss: 0.0253 - val_acc: 0.9875\n",
            "Epoch 69/1000\n",
            "225/225 [==============================] - 25s 109ms/step - loss: 0.0357 - acc: 0.9885 - val_loss: 0.0249 - val_acc: 0.9900\n",
            "Epoch 70/1000\n",
            "225/225 [==============================] - 25s 109ms/step - loss: 0.0358 - acc: 0.9881 - val_loss: 0.0249 - val_acc: 0.9900\n",
            "Epoch 71/1000\n",
            "225/225 [==============================] - 25s 110ms/step - loss: 0.0349 - acc: 0.9889 - val_loss: 0.0274 - val_acc: 0.9900\n",
            "Epoch 72/1000\n",
            "225/225 [==============================] - 25s 110ms/step - loss: 0.0354 - acc: 0.9890 - val_loss: 0.0243 - val_acc: 0.9900\n",
            "Epoch 73/1000\n",
            "225/225 [==============================] - 25s 110ms/step - loss: 0.0354 - acc: 0.9886 - val_loss: 0.0244 - val_acc: 0.9887\n",
            "Epoch 74/1000\n",
            "225/225 [==============================] - 25s 110ms/step - loss: 0.0350 - acc: 0.9896 - val_loss: 0.0243 - val_acc: 0.9900\n",
            "Epoch 75/1000\n",
            "225/225 [==============================] - 25s 110ms/step - loss: 0.0346 - acc: 0.9892 - val_loss: 0.0246 - val_acc: 0.9887\n",
            "Epoch 76/1000\n",
            "225/225 [==============================] - 25s 110ms/step - loss: 0.0353 - acc: 0.9890 - val_loss: 0.0241 - val_acc: 0.9900\n",
            "Epoch 77/1000\n",
            "225/225 [==============================] - 25s 110ms/step - loss: 0.0346 - acc: 0.9886 - val_loss: 0.0239 - val_acc: 0.9900\n",
            "Epoch 78/1000\n",
            "225/225 [==============================] - 25s 109ms/step - loss: 0.0347 - acc: 0.9892 - val_loss: 0.0269 - val_acc: 0.9912\n",
            "Epoch 79/1000\n",
            "225/225 [==============================] - 25s 109ms/step - loss: 0.0343 - acc: 0.9893 - val_loss: 0.0267 - val_acc: 0.9912\n",
            "Epoch 80/1000\n",
            "225/225 [==============================] - 25s 110ms/step - loss: 0.0345 - acc: 0.9890 - val_loss: 0.0249 - val_acc: 0.9900\n",
            "Epoch 81/1000\n",
            "225/225 [==============================] - 25s 110ms/step - loss: 0.0344 - acc: 0.9886 - val_loss: 0.0234 - val_acc: 0.9900\n",
            "Epoch 82/1000\n",
            "225/225 [==============================] - 25s 109ms/step - loss: 0.0344 - acc: 0.9892 - val_loss: 0.0235 - val_acc: 0.9900\n",
            "Epoch 83/1000\n",
            "225/225 [==============================] - 25s 110ms/step - loss: 0.0345 - acc: 0.9890 - val_loss: 0.0233 - val_acc: 0.9900\n",
            "Epoch 84/1000\n",
            "225/225 [==============================] - 25s 110ms/step - loss: 0.0340 - acc: 0.9890 - val_loss: 0.0241 - val_acc: 0.9900\n",
            "Epoch 85/1000\n",
            "225/225 [==============================] - 25s 110ms/step - loss: 0.0342 - acc: 0.9893 - val_loss: 0.0231 - val_acc: 0.9900\n",
            "Epoch 86/1000\n",
            "225/225 [==============================] - 25s 110ms/step - loss: 0.0342 - acc: 0.9886 - val_loss: 0.0228 - val_acc: 0.9900\n",
            "Epoch 87/1000\n",
            "225/225 [==============================] - 25s 110ms/step - loss: 0.0344 - acc: 0.9894 - val_loss: 0.0226 - val_acc: 0.9900\n",
            "Epoch 88/1000\n",
            "225/225 [==============================] - 25s 110ms/step - loss: 0.0337 - acc: 0.9894 - val_loss: 0.0238 - val_acc: 0.9912\n",
            "Epoch 89/1000\n",
            "225/225 [==============================] - 25s 110ms/step - loss: 0.0347 - acc: 0.9883 - val_loss: 0.0226 - val_acc: 0.9900\n",
            "Epoch 90/1000\n",
            "225/225 [==============================] - 25s 110ms/step - loss: 0.0342 - acc: 0.9896 - val_loss: 0.0224 - val_acc: 0.9900\n",
            "Epoch 91/1000\n",
            "225/225 [==============================] - 25s 110ms/step - loss: 0.0335 - acc: 0.9903 - val_loss: 0.0292 - val_acc: 0.9900\n",
            "Epoch 92/1000\n",
            "225/225 [==============================] - 25s 110ms/step - loss: 0.0343 - acc: 0.9889 - val_loss: 0.0231 - val_acc: 0.9887\n",
            "Epoch 93/1000\n",
            "225/225 [==============================] - 25s 110ms/step - loss: 0.0338 - acc: 0.9896 - val_loss: 0.0226 - val_acc: 0.9900\n",
            "Epoch 94/1000\n",
            "225/225 [==============================] - 25s 110ms/step - loss: 0.0337 - acc: 0.9896 - val_loss: 0.0227 - val_acc: 0.9900\n",
            "Epoch 95/1000\n",
            "225/225 [==============================] - 25s 110ms/step - loss: 0.0335 - acc: 0.9890 - val_loss: 0.0236 - val_acc: 0.9900\n",
            "Epoch 96/1000\n",
            "225/225 [==============================] - 25s 110ms/step - loss: 0.0336 - acc: 0.9896 - val_loss: 0.0234 - val_acc: 0.9912\n",
            "Epoch 97/1000\n",
            "225/225 [==============================] - 25s 110ms/step - loss: 0.0337 - acc: 0.9900 - val_loss: 0.0225 - val_acc: 0.9900\n",
            "Epoch 98/1000\n",
            "225/225 [==============================] - 25s 110ms/step - loss: 0.0332 - acc: 0.9901 - val_loss: 0.0220 - val_acc: 0.9900\n",
            "Epoch 99/1000\n",
            "225/225 [==============================] - 25s 109ms/step - loss: 0.0338 - acc: 0.9893 - val_loss: 0.0239 - val_acc: 0.9912\n",
            "Epoch 100/1000\n",
            "225/225 [==============================] - 25s 110ms/step - loss: 0.0332 - acc: 0.9897 - val_loss: 0.0218 - val_acc: 0.9900\n",
            "Epoch 101/1000\n",
            "225/225 [==============================] - 25s 110ms/step - loss: 0.0335 - acc: 0.9897 - val_loss: 0.0217 - val_acc: 0.9900\n",
            "Epoch 102/1000\n",
            "225/225 [==============================] - 25s 110ms/step - loss: 0.0338 - acc: 0.9897 - val_loss: 0.0228 - val_acc: 0.9912\n",
            "Epoch 103/1000\n",
            "225/225 [==============================] - 25s 110ms/step - loss: 0.0338 - acc: 0.9896 - val_loss: 0.0218 - val_acc: 0.9900\n",
            "Epoch 104/1000\n",
            "225/225 [==============================] - 25s 110ms/step - loss: 0.0334 - acc: 0.9900 - val_loss: 0.0222 - val_acc: 0.9900\n",
            "Epoch 105/1000\n",
            "225/225 [==============================] - 25s 110ms/step - loss: 0.0333 - acc: 0.9893 - val_loss: 0.0217 - val_acc: 0.9900\n",
            "Epoch 106/1000\n",
            "225/225 [==============================] - 25s 110ms/step - loss: 0.0336 - acc: 0.9894 - val_loss: 0.0224 - val_acc: 0.9900\n",
            "Epoch 107/1000\n",
            "225/225 [==============================] - 25s 110ms/step - loss: 0.0333 - acc: 0.9894 - val_loss: 0.0216 - val_acc: 0.9900\n",
            "Epoch 108/1000\n",
            "225/225 [==============================] - 25s 110ms/step - loss: 0.0333 - acc: 0.9894 - val_loss: 0.0237 - val_acc: 0.9912\n",
            "Epoch 109/1000\n",
            "225/225 [==============================] - 25s 110ms/step - loss: 0.0329 - acc: 0.9899 - val_loss: 0.0216 - val_acc: 0.9900\n",
            "Epoch 110/1000\n",
            "225/225 [==============================] - 25s 110ms/step - loss: 0.0329 - acc: 0.9904 - val_loss: 0.0220 - val_acc: 0.9900\n",
            "Epoch 111/1000\n",
            "225/225 [==============================] - 25s 110ms/step - loss: 0.0331 - acc: 0.9900 - val_loss: 0.0243 - val_acc: 0.9912\n",
            "Epoch 112/1000\n",
            "225/225 [==============================] - 25s 110ms/step - loss: 0.0331 - acc: 0.9901 - val_loss: 0.0221 - val_acc: 0.9912\n",
            "Epoch 113/1000\n",
            "225/225 [==============================] - 25s 110ms/step - loss: 0.0327 - acc: 0.9907 - val_loss: 0.0222 - val_acc: 0.9912\n",
            "Epoch 114/1000\n",
            "225/225 [==============================] - 25s 110ms/step - loss: 0.0332 - acc: 0.9900 - val_loss: 0.0221 - val_acc: 0.9925\n",
            "Epoch 115/1000\n",
            "225/225 [==============================] - 25s 110ms/step - loss: 0.0335 - acc: 0.9893 - val_loss: 0.0216 - val_acc: 0.9900\n",
            "Epoch 116/1000\n",
            "225/225 [==============================] - 25s 110ms/step - loss: 0.0335 - acc: 0.9896 - val_loss: 0.0220 - val_acc: 0.9912\n",
            "Epoch 117/1000\n",
            "225/225 [==============================] - 25s 110ms/step - loss: 0.0329 - acc: 0.9901 - val_loss: 0.0215 - val_acc: 0.9937\n",
            "Epoch 118/1000\n",
            "225/225 [==============================] - 25s 110ms/step - loss: 0.0331 - acc: 0.9899 - val_loss: 0.0222 - val_acc: 0.9912\n",
            "Epoch 119/1000\n",
            "225/225 [==============================] - 25s 110ms/step - loss: 0.0334 - acc: 0.9899 - val_loss: 0.0215 - val_acc: 0.9900\n",
            "Epoch 120/1000\n",
            "225/225 [==============================] - 25s 110ms/step - loss: 0.0328 - acc: 0.9896 - val_loss: 0.0211 - val_acc: 0.9900\n",
            "Epoch 121/1000\n",
            "225/225 [==============================] - 25s 110ms/step - loss: 0.0327 - acc: 0.9901 - val_loss: 0.0214 - val_acc: 0.9900\n",
            "Epoch 122/1000\n",
            "225/225 [==============================] - 25s 110ms/step - loss: 0.0327 - acc: 0.9897 - val_loss: 0.0208 - val_acc: 0.9937\n",
            "Epoch 123/1000\n",
            "225/225 [==============================] - 25s 110ms/step - loss: 0.0329 - acc: 0.9899 - val_loss: 0.0217 - val_acc: 0.9912\n",
            "Epoch 124/1000\n",
            "225/225 [==============================] - 25s 110ms/step - loss: 0.0331 - acc: 0.9899 - val_loss: 0.0214 - val_acc: 0.9925\n",
            "Epoch 125/1000\n",
            "225/225 [==============================] - 25s 110ms/step - loss: 0.0332 - acc: 0.9897 - val_loss: 0.0242 - val_acc: 0.9912\n",
            "Epoch 126/1000\n",
            "225/225 [==============================] - 25s 110ms/step - loss: 0.0323 - acc: 0.9894 - val_loss: 0.0277 - val_acc: 0.9912\n",
            "Epoch 127/1000\n",
            "225/225 [==============================] - 25s 110ms/step - loss: 0.0331 - acc: 0.9901 - val_loss: 0.0218 - val_acc: 0.9912\n",
            "Epoch 128/1000\n",
            "225/225 [==============================] - 25s 110ms/step - loss: 0.0328 - acc: 0.9900 - val_loss: 0.0205 - val_acc: 0.9900\n",
            "Epoch 129/1000\n",
            "225/225 [==============================] - 25s 110ms/step - loss: 0.0326 - acc: 0.9903 - val_loss: 0.0225 - val_acc: 0.9912\n",
            "Epoch 130/1000\n",
            "225/225 [==============================] - 25s 110ms/step - loss: 0.0326 - acc: 0.9897 - val_loss: 0.0203 - val_acc: 0.9912\n",
            "Epoch 131/1000\n",
            "225/225 [==============================] - 25s 110ms/step - loss: 0.0324 - acc: 0.9906 - val_loss: 0.0203 - val_acc: 0.9912\n",
            "Epoch 132/1000\n",
            "225/225 [==============================] - 25s 110ms/step - loss: 0.0328 - acc: 0.9897 - val_loss: 0.0207 - val_acc: 0.9900\n",
            "Epoch 133/1000\n",
            "225/225 [==============================] - 25s 110ms/step - loss: 0.0318 - acc: 0.9904 - val_loss: 0.0204 - val_acc: 0.9900\n",
            "Epoch 134/1000\n",
            "225/225 [==============================] - 25s 110ms/step - loss: 0.0325 - acc: 0.9901 - val_loss: 0.0221 - val_acc: 0.9912\n",
            "Epoch 135/1000\n",
            "225/225 [==============================] - 25s 110ms/step - loss: 0.0318 - acc: 0.9904 - val_loss: 0.0200 - val_acc: 0.9925\n",
            "Epoch 136/1000\n",
            "225/225 [==============================] - 25s 110ms/step - loss: 0.0325 - acc: 0.9899 - val_loss: 0.0212 - val_acc: 0.9912\n",
            "Epoch 137/1000\n",
            "225/225 [==============================] - 25s 110ms/step - loss: 0.0323 - acc: 0.9904 - val_loss: 0.0204 - val_acc: 0.9925\n",
            "Epoch 138/1000\n",
            "225/225 [==============================] - 25s 110ms/step - loss: 0.0323 - acc: 0.9906 - val_loss: 0.0198 - val_acc: 0.9912\n",
            "Epoch 139/1000\n",
            "225/225 [==============================] - 25s 110ms/step - loss: 0.0322 - acc: 0.9904 - val_loss: 0.0202 - val_acc: 0.9900\n",
            "Epoch 140/1000\n",
            "225/225 [==============================] - 25s 109ms/step - loss: 0.0323 - acc: 0.9904 - val_loss: 0.0197 - val_acc: 0.9925\n",
            "Epoch 141/1000\n",
            "225/225 [==============================] - 25s 109ms/step - loss: 0.0321 - acc: 0.9903 - val_loss: 0.0198 - val_acc: 0.9912\n",
            "Epoch 142/1000\n",
            "225/225 [==============================] - 25s 109ms/step - loss: 0.0319 - acc: 0.9903 - val_loss: 0.0203 - val_acc: 0.9925\n",
            "Epoch 143/1000\n",
            "225/225 [==============================] - 25s 109ms/step - loss: 0.0326 - acc: 0.9903 - val_loss: 0.0196 - val_acc: 0.9912\n",
            "Epoch 144/1000\n",
            "225/225 [==============================] - 25s 109ms/step - loss: 0.0317 - acc: 0.9906 - val_loss: 0.0199 - val_acc: 0.9925\n",
            "Epoch 145/1000\n",
            "225/225 [==============================] - 25s 109ms/step - loss: 0.0320 - acc: 0.9907 - val_loss: 0.0206 - val_acc: 0.9925\n",
            "Epoch 146/1000\n",
            "225/225 [==============================] - 25s 109ms/step - loss: 0.0316 - acc: 0.9901 - val_loss: 0.0193 - val_acc: 0.9912\n",
            "Epoch 147/1000\n",
            "225/225 [==============================] - 25s 109ms/step - loss: 0.0323 - acc: 0.9897 - val_loss: 0.0223 - val_acc: 0.9912\n",
            "Epoch 148/1000\n",
            "225/225 [==============================] - 25s 109ms/step - loss: 0.0324 - acc: 0.9901 - val_loss: 0.0216 - val_acc: 0.9912\n",
            "Epoch 149/1000\n",
            "225/225 [==============================] - 25s 109ms/step - loss: 0.0318 - acc: 0.9901 - val_loss: 0.0194 - val_acc: 0.9912\n",
            "Epoch 150/1000\n",
            "225/225 [==============================] - 25s 109ms/step - loss: 0.0315 - acc: 0.9907 - val_loss: 0.0249 - val_acc: 0.9912\n",
            "Epoch 151/1000\n",
            "225/225 [==============================] - 25s 110ms/step - loss: 0.0322 - acc: 0.9899 - val_loss: 0.0193 - val_acc: 0.9937\n",
            "Epoch 152/1000\n",
            "225/225 [==============================] - 25s 110ms/step - loss: 0.0317 - acc: 0.9900 - val_loss: 0.0205 - val_acc: 0.9925\n",
            "Epoch 153/1000\n",
            "225/225 [==============================] - 25s 109ms/step - loss: 0.0315 - acc: 0.9908 - val_loss: 0.0189 - val_acc: 0.9912\n",
            "Epoch 154/1000\n",
            "225/225 [==============================] - 25s 109ms/step - loss: 0.0319 - acc: 0.9912 - val_loss: 0.0194 - val_acc: 0.9937\n",
            "Epoch 155/1000\n",
            "225/225 [==============================] - 25s 109ms/step - loss: 0.0318 - acc: 0.9900 - val_loss: 0.0191 - val_acc: 0.9925\n",
            "Epoch 156/1000\n",
            "225/225 [==============================] - 25s 109ms/step - loss: 0.0318 - acc: 0.9901 - val_loss: 0.0198 - val_acc: 0.9925\n",
            "Epoch 157/1000\n",
            "225/225 [==============================] - 25s 109ms/step - loss: 0.0318 - acc: 0.9908 - val_loss: 0.0190 - val_acc: 0.9925\n",
            "Epoch 158/1000\n",
            "225/225 [==============================] - 25s 109ms/step - loss: 0.0314 - acc: 0.9904 - val_loss: 0.0243 - val_acc: 0.9912\n",
            "Epoch 159/1000\n",
            "225/225 [==============================] - 25s 109ms/step - loss: 0.0318 - acc: 0.9904 - val_loss: 0.0199 - val_acc: 0.9925\n",
            "Epoch 160/1000\n",
            "225/225 [==============================] - 25s 109ms/step - loss: 0.0317 - acc: 0.9904 - val_loss: 0.0216 - val_acc: 0.9912\n",
            "Epoch 161/1000\n",
            "225/225 [==============================] - 25s 109ms/step - loss: 0.0315 - acc: 0.9903 - val_loss: 0.0201 - val_acc: 0.9937\n",
            "Epoch 162/1000\n",
            "225/225 [==============================] - 25s 109ms/step - loss: 0.0310 - acc: 0.9908 - val_loss: 0.0246 - val_acc: 0.9912\n",
            "Epoch 163/1000\n",
            "225/225 [==============================] - 25s 109ms/step - loss: 0.0316 - acc: 0.9907 - val_loss: 0.0185 - val_acc: 0.9912\n",
            "Epoch 164/1000\n",
            "225/225 [==============================] - 25s 109ms/step - loss: 0.0311 - acc: 0.9911 - val_loss: 0.0190 - val_acc: 0.9937\n",
            "Epoch 165/1000\n",
            "225/225 [==============================] - 25s 109ms/step - loss: 0.0309 - acc: 0.9904 - val_loss: 0.0187 - val_acc: 0.9937\n",
            "Epoch 166/1000\n",
            "225/225 [==============================] - 25s 110ms/step - loss: 0.0317 - acc: 0.9908 - val_loss: 0.0186 - val_acc: 0.9912\n",
            "Epoch 167/1000\n",
            "225/225 [==============================] - 25s 110ms/step - loss: 0.0317 - acc: 0.9903 - val_loss: 0.0188 - val_acc: 0.9937\n",
            "Epoch 168/1000\n",
            "225/225 [==============================] - 25s 110ms/step - loss: 0.0313 - acc: 0.9907 - val_loss: 0.0187 - val_acc: 0.9937\n",
            "Epoch 169/1000\n",
            "225/225 [==============================] - 25s 110ms/step - loss: 0.0312 - acc: 0.9904 - val_loss: 0.0192 - val_acc: 0.9937\n",
            "Epoch 170/1000\n",
            "225/225 [==============================] - 25s 110ms/step - loss: 0.0312 - acc: 0.9896 - val_loss: 0.0183 - val_acc: 0.9925\n",
            "Epoch 171/1000\n",
            "225/225 [==============================] - 25s 110ms/step - loss: 0.0313 - acc: 0.9904 - val_loss: 0.0204 - val_acc: 0.9912\n",
            "Epoch 172/1000\n",
            "225/225 [==============================] - 25s 110ms/step - loss: 0.0314 - acc: 0.9906 - val_loss: 0.0191 - val_acc: 0.9937\n",
            "Epoch 173/1000\n",
            "225/225 [==============================] - 25s 110ms/step - loss: 0.0310 - acc: 0.9907 - val_loss: 0.0247 - val_acc: 0.9912\n",
            "Epoch 174/1000\n",
            "225/225 [==============================] - 25s 109ms/step - loss: 0.0308 - acc: 0.9915 - val_loss: 0.0184 - val_acc: 0.9937\n",
            "Epoch 175/1000\n",
            "225/225 [==============================] - 24s 109ms/step - loss: 0.0306 - acc: 0.9910 - val_loss: 0.0210 - val_acc: 0.9925\n",
            "Epoch 176/1000\n",
            "225/225 [==============================] - 25s 109ms/step - loss: 0.0308 - acc: 0.9908 - val_loss: 0.0182 - val_acc: 0.9937\n",
            "Epoch 177/1000\n",
            "225/225 [==============================] - 24s 109ms/step - loss: 0.0310 - acc: 0.9904 - val_loss: 0.0177 - val_acc: 0.9912\n",
            "Epoch 178/1000\n",
            "225/225 [==============================] - 24s 109ms/step - loss: 0.0309 - acc: 0.9904 - val_loss: 0.0198 - val_acc: 0.9925\n",
            "Epoch 179/1000\n",
            "225/225 [==============================] - 25s 109ms/step - loss: 0.0315 - acc: 0.9906 - val_loss: 0.0179 - val_acc: 0.9925\n",
            "Epoch 180/1000\n",
            "225/225 [==============================] - 25s 109ms/step - loss: 0.0305 - acc: 0.9910 - val_loss: 0.0177 - val_acc: 0.9912\n",
            "Epoch 181/1000\n",
            "225/225 [==============================] - 25s 109ms/step - loss: 0.0314 - acc: 0.9910 - val_loss: 0.0176 - val_acc: 0.9912\n",
            "Epoch 182/1000\n",
            "225/225 [==============================] - 25s 109ms/step - loss: 0.0305 - acc: 0.9908 - val_loss: 0.0177 - val_acc: 0.9925\n",
            "Epoch 183/1000\n",
            "225/225 [==============================] - 25s 109ms/step - loss: 0.0307 - acc: 0.9911 - val_loss: 0.0180 - val_acc: 0.9937\n",
            "Epoch 184/1000\n",
            "225/225 [==============================] - 25s 109ms/step - loss: 0.0308 - acc: 0.9911 - val_loss: 0.0190 - val_acc: 0.9937\n",
            "Epoch 185/1000\n",
            "225/225 [==============================] - 25s 109ms/step - loss: 0.0306 - acc: 0.9908 - val_loss: 0.0175 - val_acc: 0.9925\n",
            "Epoch 186/1000\n",
            "225/225 [==============================] - 25s 109ms/step - loss: 0.0304 - acc: 0.9912 - val_loss: 0.0176 - val_acc: 0.9925\n",
            "Epoch 187/1000\n",
            "225/225 [==============================] - 25s 109ms/step - loss: 0.0303 - acc: 0.9908 - val_loss: 0.0211 - val_acc: 0.9912\n",
            "Epoch 188/1000\n",
            "225/225 [==============================] - 25s 109ms/step - loss: 0.0308 - acc: 0.9907 - val_loss: 0.0204 - val_acc: 0.9925\n",
            "Epoch 189/1000\n",
            "225/225 [==============================] - 25s 109ms/step - loss: 0.0309 - acc: 0.9906 - val_loss: 0.0197 - val_acc: 0.9925\n",
            "Epoch 190/1000\n",
            "225/225 [==============================] - 25s 109ms/step - loss: 0.0307 - acc: 0.9906 - val_loss: 0.0179 - val_acc: 0.9937\n",
            "Epoch 191/1000\n",
            "225/225 [==============================] - 25s 109ms/step - loss: 0.0307 - acc: 0.9908 - val_loss: 0.0174 - val_acc: 0.9925\n",
            "Epoch 192/1000\n",
            "225/225 [==============================] - 25s 109ms/step - loss: 0.0302 - acc: 0.9912 - val_loss: 0.0175 - val_acc: 0.9937\n",
            "Epoch 193/1000\n",
            "225/225 [==============================] - 25s 109ms/step - loss: 0.0307 - acc: 0.9906 - val_loss: 0.0173 - val_acc: 0.9925\n",
            "Epoch 194/1000\n",
            "225/225 [==============================] - 25s 110ms/step - loss: 0.0303 - acc: 0.9912 - val_loss: 0.0170 - val_acc: 0.9925\n",
            "Epoch 195/1000\n",
            "225/225 [==============================] - 25s 110ms/step - loss: 0.0303 - acc: 0.9911 - val_loss: 0.0207 - val_acc: 0.9925\n",
            "Epoch 196/1000\n",
            "225/225 [==============================] - 25s 110ms/step - loss: 0.0302 - acc: 0.9911 - val_loss: 0.0172 - val_acc: 0.9925\n",
            "Epoch 197/1000\n",
            "225/225 [==============================] - 25s 109ms/step - loss: 0.0303 - acc: 0.9910 - val_loss: 0.0187 - val_acc: 0.9937\n",
            "Epoch 198/1000\n",
            "225/225 [==============================] - 25s 110ms/step - loss: 0.0302 - acc: 0.9915 - val_loss: 0.0182 - val_acc: 0.9937\n",
            "Epoch 199/1000\n",
            "225/225 [==============================] - 25s 110ms/step - loss: 0.0303 - acc: 0.9915 - val_loss: 0.0170 - val_acc: 0.9925\n",
            "Epoch 200/1000\n",
            "225/225 [==============================] - 25s 109ms/step - loss: 0.0307 - acc: 0.9910 - val_loss: 0.0171 - val_acc: 0.9937\n",
            "Epoch 201/1000\n",
            "225/225 [==============================] - 25s 109ms/step - loss: 0.0305 - acc: 0.9907 - val_loss: 0.0177 - val_acc: 0.9937\n",
            "Epoch 202/1000\n",
            "225/225 [==============================] - 25s 110ms/step - loss: 0.0299 - acc: 0.9912 - val_loss: 0.0174 - val_acc: 0.9937\n",
            "Epoch 203/1000\n",
            "225/225 [==============================] - 25s 110ms/step - loss: 0.0296 - acc: 0.9917 - val_loss: 0.0177 - val_acc: 0.9937\n",
            "Epoch 204/1000\n",
            "225/225 [==============================] - 25s 110ms/step - loss: 0.0296 - acc: 0.9911 - val_loss: 0.0171 - val_acc: 0.9950\n"
          ]
        }
      ]
    },
    {
      "cell_type": "code",
      "metadata": {
        "colab": {
          "base_uri": "https://localhost:8080/"
        },
        "id": "KDDHBlW5uJ09",
        "outputId": "ca0ddfce-8083-4ed5-e133-06bc509bcc4d"
      },
      "source": [
        "model.save('/content/drive/MyDrive/final_models/with_attention/model2.h5')"
      ],
      "execution_count": null,
      "outputs": [
        {
          "name": "stderr",
          "output_type": "stream",
          "text": [
            "/usr/local/lib/python3.7/dist-packages/keras/utils/generic_utils.py:497: CustomMaskWarning: Custom mask layers require a config and must override get_config. When loading, the custom mask layer must be passed to the custom_objects argument.\n",
            "  category=CustomMaskWarning)\n"
          ]
        }
      ]
    },
    {
      "cell_type": "code",
      "metadata": {
        "colab": {
          "base_uri": "https://localhost:8080/"
        },
        "id": "rYd8KFkzuJ09",
        "outputId": "0aa1ce10-c362-4b1e-e37e-d4f587a2a3ea"
      },
      "source": [
        "#plot acc and loss\n",
        "import matplotlib.pyplot as plt\n",
        "epochs = range(len(history.history['loss']))\n",
        "plt.plot(epochs , history.history['val_loss'])\n",
        "plt.plot(epochs , history.history['loss'])\n",
        "plt.title('loss')\n",
        "plt.figure()\n",
        "plt.plot(epochs , history.history['val_acc'])\n",
        "plt.plot(epochs , history.history['acc'])\n",
        "plt.title('accuracy')\n",
        "plt.figure()\n",
        "plt.show()"
      ],
      "execution_count": null,
      "outputs": [
        {
          "data": {
            "image/png": "[encoded data removed]",
            "text/plain": [
              "<Figure size 432x288 with 1 Axes>"
            ]
          },
          "metadata": {
            "tags": []
          },
          "output_type": "display_data"
        },
        {
          "data": {
            "image/png": "[encoded data removed]",
            "text/plain": [
              "<Figure size 432x288 with 1 Axes>"
            ]
          },
          "metadata": {
            "tags": []
          },
          "output_type": "display_data"
        },
        {
          "data": {
            "text/plain": [
              "<Figure size 432x288 with 0 Axes>"
            ]
          },
          "metadata": {
            "tags": []
          },
          "output_type": "display_data"
        }
      ]
    },
    {
      "cell_type": "code",
      "metadata": {
        "colab": {
          "base_uri": "https://localhost:8080/"
        },
        "id": "MCmtODP0uJ09",
        "outputId": "c2cda1ba-7be3-4e0d-b507-c697727bdcb7"
      },
      "source": [
        "model.evaluate(test_data , test_label)"
      ],
      "execution_count": null,
      "outputs": [
        {
          "name": "stdout",
          "output_type": "stream",
          "text": [
            "74/74 [==============================] - 3s 37ms/step - loss: 0.0350 - acc: 0.9889\n"
          ]
        },
        {
          "data": {
            "text/plain": [
              "[0.03502235561609268, 0.9889078736305237]"
            ]
          },
          "execution_count": 22,
          "metadata": {
            "tags": []
          },
          "output_type": "execute_result"
        }
      ]
    },
    {
      "cell_type": "code",
      "metadata": {
        "colab": {
          "base_uri": "https://localhost:8080/"
        },
        "id": "SqusvoftuJ0-",
        "outputId": "9d57b106-ef38-43ff-cdc5-34ada5b03081"
      },
      "source": [
        "# performance measurements on test data 2\n",
        "\n",
        "pred = model.predict(test_data)\n",
        "\n",
        "thresh = find_opt_thresh(test_label , pred)\n",
        "print(thresh)\n",
        "prediction = np.zeros(np.shape(pred))\n",
        "prediction[pred > thresh] = 1\n",
        "\n",
        "from sklearn.metrics import accuracy_score\n",
        "accuracy = accuracy_score(test_label   , prediction)\n",
        "print('accuracy is:' , np.round(accuracy*100,2) , '%')\n",
        "print('___________________________________________')\n",
        "from sklearn.metrics import precision_score\n",
        "pscore = precision_score(test_label   , prediction)\n",
        "print('precision score is:' , np.round(pscore*100,2) , '%')\n",
        "print('___________________________________________')\n",
        "from sklearn.metrics import recall_score\n",
        "rscore = recall_score(test_label   , prediction)\n",
        "print('recall score is:' , np.round(rscore*100,2) , '%')\n",
        "print('___________________________________________')\n",
        "from sklearn.metrics import f1_score\n",
        "fscore = f1_score(test_label   , prediction)\n",
        "print('f1 score is:' , np.round(fscore*100,2) , '%')\n",
        "print('___________________________________________')\n",
        "spc = specificity_score(test_label   , prediction)\n",
        "print('specificity is:' , np.round(spc*100,2) , '%')\n",
        "print('___________________________________________')\n",
        "sen = sensitivity_score(test_label   , prediction)\n",
        "print('sensitivity is:' , np.round(sen*100,2) , '%')\n",
        "print('___________________________________________')\n",
        "from sklearn.metrics import roc_auc_score\n",
        "auc = roc_auc_score(test_label   , prediction)\n",
        "print('AUC is:' , np.round(auc,4))"
      ],
      "execution_count": null,
      "outputs": [
        {
          "name": "stdout",
          "output_type": "stream",
          "text": [
            "[0.11051233]\n",
            "accuracy is: 98.85 %\n",
            "___________________________________________\n",
            "precision score is: 69.7 %\n",
            "___________________________________________\n",
            "recall score is: 86.79 %\n",
            "___________________________________________\n",
            "f1 score is: 77.31 %\n",
            "___________________________________________\n",
            "specificity is: 99.13 %\n",
            "___________________________________________\n",
            "sensitivity is: 86.79 %\n",
            "___________________________________________\n",
            "AUC is: 0.9296\n"
          ]
        }
      ]
    },
    {
      "cell_type": "markdown",
      "metadata": {
        "id": "NwQ3o0FCubo7"
      },
      "source": [
        "#### Fold 3"
      ]
    },
    {
      "cell_type": "code",
      "metadata": {
        "id": "6ka6HuIIubo7"
      },
      "source": [
        "model = CompModel()"
      ],
      "execution_count": null,
      "outputs": []
    },
    {
      "cell_type": "code",
      "metadata": {
        "colab": {
          "base_uri": "https://localhost:8080/"
        },
        "id": "BlzCetBMubo7",
        "outputId": "f1c8d843-2746-44a4-d127-e7e4e5e13e87"
      },
      "source": [
        "history = model.fit(train_data[train_indices[2]], train_label[train_indices[2]],\n",
        "            epochs=1000,\n",
        "            validation_data = (train_data[test_indices[2]] , train_label[test_indices[2]]),\n",
        "            callbacks = [early_stopping_cb],\n",
        "            verbose = 1)"
      ],
      "execution_count": null,
      "outputs": [
        {
          "name": "stdout",
          "output_type": "stream",
          "text": [
            "Epoch 1/1000\n",
            "225/225 [==============================] - 29s 115ms/step - loss: 0.6749 - acc: 0.9778 - val_loss: 0.6368 - val_acc: 0.9775\n",
            "Epoch 2/1000\n",
            "225/225 [==============================] - 25s 112ms/step - loss: 0.3950 - acc: 0.9778 - val_loss: 0.1190 - val_acc: 0.9775\n",
            "Epoch 3/1000\n",
            "225/225 [==============================] - 25s 112ms/step - loss: 0.1143 - acc: 0.9778 - val_loss: 0.1119 - val_acc: 0.9775\n",
            "Epoch 4/1000\n",
            "225/225 [==============================] - 25s 112ms/step - loss: 0.1119 - acc: 0.9778 - val_loss: 0.1108 - val_acc: 0.9775\n",
            "Epoch 5/1000\n",
            "225/225 [==============================] - 25s 112ms/step - loss: 0.1105 - acc: 0.9778 - val_loss: 0.1098 - val_acc: 0.9775\n",
            "Epoch 6/1000\n",
            "225/225 [==============================] - 25s 112ms/step - loss: 0.1091 - acc: 0.9778 - val_loss: 0.1089 - val_acc: 0.9775\n",
            "Epoch 7/1000\n",
            "225/225 [==============================] - 25s 112ms/step - loss: 0.1082 - acc: 0.9778 - val_loss: 0.1082 - val_acc: 0.9775\n",
            "Epoch 8/1000\n",
            "225/225 [==============================] - 25s 112ms/step - loss: 0.1074 - acc: 0.9778 - val_loss: 0.1074 - val_acc: 0.9775\n",
            "Epoch 9/1000\n",
            "225/225 [==============================] - 25s 112ms/step - loss: 0.1061 - acc: 0.9778 - val_loss: 0.1065 - val_acc: 0.9775\n",
            "Epoch 10/1000\n",
            "225/225 [==============================] - 25s 112ms/step - loss: 0.1047 - acc: 0.9778 - val_loss: 0.1049 - val_acc: 0.9775\n",
            "Epoch 11/1000\n",
            "225/225 [==============================] - 25s 112ms/step - loss: 0.1015 - acc: 0.9778 - val_loss: 0.1014 - val_acc: 0.9775\n",
            "Epoch 12/1000\n",
            "225/225 [==============================] - 25s 112ms/step - loss: 0.0968 - acc: 0.9778 - val_loss: 0.0972 - val_acc: 0.9775\n",
            "Epoch 13/1000\n",
            "225/225 [==============================] - 25s 111ms/step - loss: 0.0914 - acc: 0.9778 - val_loss: 0.0929 - val_acc: 0.9775\n",
            "Epoch 14/1000\n",
            "225/225 [==============================] - 25s 111ms/step - loss: 0.0866 - acc: 0.9778 - val_loss: 0.0886 - val_acc: 0.9775\n",
            "Epoch 15/1000\n",
            "225/225 [==============================] - 25s 112ms/step - loss: 0.0824 - acc: 0.9778 - val_loss: 0.0853 - val_acc: 0.9775\n",
            "Epoch 16/1000\n",
            "225/225 [==============================] - 25s 112ms/step - loss: 0.0796 - acc: 0.9778 - val_loss: 0.0828 - val_acc: 0.9775\n",
            "Epoch 17/1000\n",
            "225/225 [==============================] - 25s 112ms/step - loss: 0.0759 - acc: 0.9778 - val_loss: 0.0791 - val_acc: 0.9775\n",
            "Epoch 18/1000\n",
            "225/225 [==============================] - 25s 112ms/step - loss: 0.0734 - acc: 0.9778 - val_loss: 0.0754 - val_acc: 0.9775\n",
            "Epoch 19/1000\n",
            "225/225 [==============================] - 25s 112ms/step - loss: 0.0700 - acc: 0.9778 - val_loss: 0.0720 - val_acc: 0.9775\n",
            "Epoch 20/1000\n",
            "225/225 [==============================] - 25s 112ms/step - loss: 0.0676 - acc: 0.9778 - val_loss: 0.0685 - val_acc: 0.9775\n",
            "Epoch 21/1000\n",
            "225/225 [==============================] - 25s 112ms/step - loss: 0.0648 - acc: 0.9778 - val_loss: 0.0653 - val_acc: 0.9775\n",
            "Epoch 22/1000\n",
            "225/225 [==============================] - 25s 112ms/step - loss: 0.0619 - acc: 0.9778 - val_loss: 0.0623 - val_acc: 0.9775\n",
            "Epoch 23/1000\n",
            "225/225 [==============================] - 25s 112ms/step - loss: 0.0594 - acc: 0.9778 - val_loss: 0.0581 - val_acc: 0.9775\n",
            "Epoch 24/1000\n",
            "225/225 [==============================] - 25s 112ms/step - loss: 0.0572 - acc: 0.9778 - val_loss: 0.0549 - val_acc: 0.9775\n",
            "Epoch 25/1000\n",
            "225/225 [==============================] - 25s 112ms/step - loss: 0.0542 - acc: 0.9779 - val_loss: 0.0514 - val_acc: 0.9750\n",
            "Epoch 26/1000\n",
            "225/225 [==============================] - 25s 112ms/step - loss: 0.0515 - acc: 0.9796 - val_loss: 0.0480 - val_acc: 0.9737\n",
            "Epoch 27/1000\n",
            "225/225 [==============================] - 25s 112ms/step - loss: 0.0487 - acc: 0.9806 - val_loss: 0.0464 - val_acc: 0.9750\n",
            "Epoch 28/1000\n",
            "225/225 [==============================] - 25s 112ms/step - loss: 0.0471 - acc: 0.9806 - val_loss: 0.0439 - val_acc: 0.9750\n",
            "Epoch 29/1000\n",
            "225/225 [==============================] - 25s 112ms/step - loss: 0.0452 - acc: 0.9815 - val_loss: 0.0410 - val_acc: 0.9750\n",
            "Epoch 30/1000\n",
            "225/225 [==============================] - 25s 112ms/step - loss: 0.0437 - acc: 0.9818 - val_loss: 0.0377 - val_acc: 0.9800\n",
            "Epoch 31/1000\n",
            "225/225 [==============================] - 25s 112ms/step - loss: 0.0425 - acc: 0.9840 - val_loss: 0.0370 - val_acc: 0.9775\n",
            "Epoch 32/1000\n",
            "225/225 [==============================] - 25s 112ms/step - loss: 0.0403 - acc: 0.9843 - val_loss: 0.0339 - val_acc: 0.9800\n",
            "Epoch 33/1000\n",
            "225/225 [==============================] - 25s 112ms/step - loss: 0.0391 - acc: 0.9858 - val_loss: 0.0321 - val_acc: 0.9812\n",
            "Epoch 34/1000\n",
            "225/225 [==============================] - 25s 112ms/step - loss: 0.0378 - acc: 0.9878 - val_loss: 0.0297 - val_acc: 0.9862\n",
            "Epoch 35/1000\n",
            "225/225 [==============================] - 25s 112ms/step - loss: 0.0368 - acc: 0.9881 - val_loss: 0.0284 - val_acc: 0.9875\n",
            "Epoch 36/1000\n",
            "225/225 [==============================] - 25s 112ms/step - loss: 0.0355 - acc: 0.9886 - val_loss: 0.0271 - val_acc: 0.9887\n",
            "Epoch 37/1000\n",
            "225/225 [==============================] - 25s 112ms/step - loss: 0.0358 - acc: 0.9894 - val_loss: 0.0265 - val_acc: 0.9912\n",
            "Epoch 38/1000\n",
            "225/225 [==============================] - 25s 112ms/step - loss: 0.0345 - acc: 0.9894 - val_loss: 0.0301 - val_acc: 0.9875\n",
            "Epoch 39/1000\n",
            "225/225 [==============================] - 25s 112ms/step - loss: 0.0348 - acc: 0.9893 - val_loss: 0.0268 - val_acc: 0.9912\n",
            "Epoch 40/1000\n",
            "225/225 [==============================] - 25s 112ms/step - loss: 0.0339 - acc: 0.9899 - val_loss: 0.0272 - val_acc: 0.9912\n",
            "Epoch 41/1000\n",
            "225/225 [==============================] - 25s 112ms/step - loss: 0.0340 - acc: 0.9896 - val_loss: 0.0252 - val_acc: 0.9900\n",
            "Epoch 42/1000\n",
            "225/225 [==============================] - 25s 112ms/step - loss: 0.0334 - acc: 0.9894 - val_loss: 0.0260 - val_acc: 0.9912\n",
            "Epoch 43/1000\n",
            "225/225 [==============================] - 25s 112ms/step - loss: 0.0330 - acc: 0.9901 - val_loss: 0.0268 - val_acc: 0.9912\n",
            "Epoch 44/1000\n",
            "225/225 [==============================] - 25s 112ms/step - loss: 0.0341 - acc: 0.9896 - val_loss: 0.0254 - val_acc: 0.9912\n",
            "Epoch 45/1000\n",
            "225/225 [==============================] - 25s 111ms/step - loss: 0.0325 - acc: 0.9900 - val_loss: 0.0253 - val_acc: 0.9912\n",
            "Epoch 46/1000\n",
            "225/225 [==============================] - 25s 111ms/step - loss: 0.0327 - acc: 0.9894 - val_loss: 0.0249 - val_acc: 0.9900\n",
            "Epoch 47/1000\n",
            "225/225 [==============================] - 25s 112ms/step - loss: 0.0340 - acc: 0.9894 - val_loss: 0.0266 - val_acc: 0.9887\n",
            "Epoch 48/1000\n",
            "225/225 [==============================] - 25s 112ms/step - loss: 0.0324 - acc: 0.9903 - val_loss: 0.0257 - val_acc: 0.9912\n",
            "Epoch 49/1000\n",
            "225/225 [==============================] - 25s 112ms/step - loss: 0.0323 - acc: 0.9896 - val_loss: 0.0291 - val_acc: 0.9912\n",
            "Epoch 50/1000\n",
            "225/225 [==============================] - 25s 112ms/step - loss: 0.0324 - acc: 0.9892 - val_loss: 0.0247 - val_acc: 0.9900\n",
            "Epoch 51/1000\n",
            "225/225 [==============================] - 25s 112ms/step - loss: 0.0322 - acc: 0.9901 - val_loss: 0.0250 - val_acc: 0.9912\n",
            "Epoch 52/1000\n",
            "225/225 [==============================] - 25s 112ms/step - loss: 0.0322 - acc: 0.9901 - val_loss: 0.0252 - val_acc: 0.9900\n",
            "Epoch 53/1000\n",
            "225/225 [==============================] - 25s 112ms/step - loss: 0.0323 - acc: 0.9896 - val_loss: 0.0253 - val_acc: 0.9912\n",
            "Epoch 54/1000\n",
            "225/225 [==============================] - 25s 112ms/step - loss: 0.0319 - acc: 0.9903 - val_loss: 0.0255 - val_acc: 0.9925\n",
            "Epoch 55/1000\n",
            "225/225 [==============================] - 25s 112ms/step - loss: 0.0320 - acc: 0.9903 - val_loss: 0.0256 - val_acc: 0.9887\n",
            "Epoch 56/1000\n",
            "225/225 [==============================] - 25s 112ms/step - loss: 0.0317 - acc: 0.9899 - val_loss: 0.0257 - val_acc: 0.9912\n",
            "Epoch 57/1000\n",
            "225/225 [==============================] - 25s 112ms/step - loss: 0.0314 - acc: 0.9894 - val_loss: 0.0258 - val_acc: 0.9887\n",
            "Epoch 58/1000\n",
            "225/225 [==============================] - 25s 112ms/step - loss: 0.0316 - acc: 0.9907 - val_loss: 0.0277 - val_acc: 0.9912\n",
            "Epoch 59/1000\n",
            "225/225 [==============================] - 25s 112ms/step - loss: 0.0316 - acc: 0.9903 - val_loss: 0.0268 - val_acc: 0.9912\n",
            "Epoch 60/1000\n",
            "225/225 [==============================] - 25s 112ms/step - loss: 0.0315 - acc: 0.9900 - val_loss: 0.0257 - val_acc: 0.9900\n"
          ]
        }
      ]
    },
    {
      "cell_type": "code",
      "metadata": {
        "colab": {
          "base_uri": "https://localhost:8080/"
        },
        "id": "MaPqeZ7oubo8",
        "outputId": "e2e2e8b3-fd70-4449-8dec-d9adda9b62c8"
      },
      "source": [
        "model.save('/content/drive/MyDrive/final_models/with_attention/model3.h5')"
      ],
      "execution_count": null,
      "outputs": [
        {
          "name": "stderr",
          "output_type": "stream",
          "text": [
            "/usr/local/lib/python3.7/dist-packages/keras/utils/generic_utils.py:497: CustomMaskWarning: Custom mask layers require a config and must override get_config. When loading, the custom mask layer must be passed to the custom_objects argument.\n",
            "  category=CustomMaskWarning)\n"
          ]
        }
      ]
    },
    {
      "cell_type": "code",
      "metadata": {
        "colab": {
          "base_uri": "https://localhost:8080/"
        },
        "id": "4AyL2OJBubo8",
        "outputId": "9d99975c-327b-4909-8623-6d3d59933b5e"
      },
      "source": [
        "#plot acc and loss\n",
        "import matplotlib.pyplot as plt\n",
        "epochs = range(len(history.history['loss']))\n",
        "plt.plot(epochs , history.history['val_loss'])\n",
        "plt.plot(epochs , history.history['loss'])\n",
        "plt.title('loss')\n",
        "plt.figure()\n",
        "plt.plot(epochs , history.history['val_acc'])\n",
        "plt.plot(epochs , history.history['acc'])\n",
        "plt.title('accuracy')\n",
        "plt.figure()\n",
        "plt.show()"
      ],
      "execution_count": null,
      "outputs": [
        {
          "data": {
            "image/png": "[encoded data removed]",
            "text/plain": [
              "<Figure size 432x288 with 1 Axes>"
            ]
          },
          "metadata": {
            "tags": []
          },
          "output_type": "display_data"
        },
        {
          "data": {
            "image/png": "[encoded data removed]",
            "text/plain": [
              "<Figure size 432x288 with 1 Axes>"
            ]
          },
          "metadata": {
            "tags": []
          },
          "output_type": "display_data"
        },
        {
          "data": {
            "text/plain": [
              "<Figure size 432x288 with 0 Axes>"
            ]
          },
          "metadata": {
            "tags": []
          },
          "output_type": "display_data"
        }
      ]
    },
    {
      "cell_type": "code",
      "metadata": {
        "colab": {
          "base_uri": "https://localhost:8080/"
        },
        "id": "9ELv-tncubo8",
        "outputId": "8eb60766-9a2a-4ea8-8ef9-0aef43aab529"
      },
      "source": [
        "model.evaluate(test_data , test_label)"
      ],
      "execution_count": null,
      "outputs": [
        {
          "name": "stdout",
          "output_type": "stream",
          "text": [
            "74/74 [==============================] - 3s 37ms/step - loss: 0.0337 - acc: 0.9889\n"
          ]
        },
        {
          "data": {
            "text/plain": [
              "[0.03369024395942688, 0.9889078736305237]"
            ]
          },
          "execution_count": 28,
          "metadata": {
            "tags": []
          },
          "output_type": "execute_result"
        }
      ]
    },
    {
      "cell_type": "code",
      "metadata": {
        "colab": {
          "base_uri": "https://localhost:8080/"
        },
        "id": "1q-VURbxubo9",
        "outputId": "8149d5e9-95b2-4129-8e51-989918a9598a"
      },
      "source": [
        "# performance measurements on test data 2\n",
        "\n",
        "pred = model.predict(test_data)\n",
        "\n",
        "thresh = find_opt_thresh(test_label , pred)\n",
        "print(thresh)\n",
        "prediction = np.zeros(np.shape(pred))\n",
        "prediction[pred > thresh] = 1\n",
        "\n",
        "from sklearn.metrics import accuracy_score\n",
        "accuracy = accuracy_score(test_label   , prediction)\n",
        "print('accuracy is:' , np.round(accuracy*100,2) , '%')\n",
        "print('___________________________________________')\n",
        "from sklearn.metrics import precision_score\n",
        "pscore = precision_score(test_label   , prediction)\n",
        "print('precision score is:' , np.round(pscore*100,2) , '%')\n",
        "print('___________________________________________')\n",
        "from sklearn.metrics import recall_score\n",
        "rscore = recall_score(test_label   , prediction)\n",
        "print('recall score is:' , np.round(rscore*100,2) , '%')\n",
        "print('___________________________________________')\n",
        "from sklearn.metrics import f1_score\n",
        "fscore = f1_score(test_label   , prediction)\n",
        "print('f1 score is:' , np.round(fscore*100,2) , '%')\n",
        "print('___________________________________________')\n",
        "spc = specificity_score(test_label   , prediction)\n",
        "print('specificity is:' , np.round(spc*100,2) , '%')\n",
        "print('___________________________________________')\n",
        "sen = sensitivity_score(test_label   , prediction)\n",
        "print('sensitivity is:' , np.round(sen*100,2) , '%')\n",
        "print('___________________________________________')\n",
        "from sklearn.metrics import roc_auc_score\n",
        "auc = roc_auc_score(test_label   , prediction)\n",
        "print('AUC is:' , np.round(auc,4))"
      ],
      "execution_count": null,
      "outputs": [
        {
          "name": "stdout",
          "output_type": "stream",
          "text": [
            "[0.5123091]\n",
            "accuracy is: 98.93 %\n",
            "___________________________________________\n",
            "precision score is: 73.33 %\n",
            "___________________________________________\n",
            "recall score is: 83.02 %\n",
            "___________________________________________\n",
            "f1 score is: 77.88 %\n",
            "___________________________________________\n",
            "specificity is: 99.3 %\n",
            "___________________________________________\n",
            "sensitivity is: 83.02 %\n",
            "___________________________________________\n",
            "AUC is: 0.9116\n"
          ]
        }
      ]
    },
    {
      "cell_type": "markdown",
      "metadata": {
        "id": "6F0C5HNhvCV9"
      },
      "source": [
        "#### Fold 4"
      ]
    },
    {
      "cell_type": "code",
      "metadata": {
        "id": "1yoAtPHhvCWH"
      },
      "source": [
        "model = CompModel()"
      ],
      "execution_count": null,
      "outputs": []
    },
    {
      "cell_type": "code",
      "metadata": {
        "colab": {
          "base_uri": "https://localhost:8080/"
        },
        "id": "eBhzBDB4vCWJ",
        "outputId": "bb4f3042-a31d-410c-8ab9-c209a03649dc"
      },
      "source": [
        "history = model.fit(train_data[train_indices[3]], train_label[train_indices[3]],\n",
        "            epochs=1000,\n",
        "            validation_data = (train_data[test_indices[3]] , train_label[test_indices[3]]),\n",
        "            callbacks = [early_stopping_cb],\n",
        "            verbose = 1)"
      ],
      "execution_count": null,
      "outputs": [
        {
          "name": "stdout",
          "output_type": "stream",
          "text": [
            "Epoch 1/1000\n",
            "225/225 [==============================] - 28s 113ms/step - loss: 0.6691 - acc: 0.9778 - val_loss: 0.6156 - val_acc: 0.9775\n",
            "Epoch 2/1000\n",
            "225/225 [==============================] - 24s 109ms/step - loss: 0.3442 - acc: 0.9778 - val_loss: 0.1187 - val_acc: 0.9775\n",
            "Epoch 3/1000\n",
            "225/225 [==============================] - 25s 109ms/step - loss: 0.1139 - acc: 0.9778 - val_loss: 0.1124 - val_acc: 0.9775\n",
            "Epoch 4/1000\n",
            "225/225 [==============================] - 25s 109ms/step - loss: 0.1106 - acc: 0.9778 - val_loss: 0.1108 - val_acc: 0.9775\n",
            "Epoch 5/1000\n",
            "225/225 [==============================] - 24s 109ms/step - loss: 0.1092 - acc: 0.9778 - val_loss: 0.1091 - val_acc: 0.9775\n",
            "Epoch 6/1000\n",
            "225/225 [==============================] - 24s 109ms/step - loss: 0.1076 - acc: 0.9778 - val_loss: 0.1084 - val_acc: 0.9775\n",
            "Epoch 7/1000\n",
            "225/225 [==============================] - 25s 109ms/step - loss: 0.1069 - acc: 0.9778 - val_loss: 0.1070 - val_acc: 0.9775\n",
            "Epoch 8/1000\n",
            "225/225 [==============================] - 25s 109ms/step - loss: 0.1058 - acc: 0.9778 - val_loss: 0.1057 - val_acc: 0.9775\n",
            "Epoch 9/1000\n",
            "225/225 [==============================] - 25s 109ms/step - loss: 0.1041 - acc: 0.9778 - val_loss: 0.1039 - val_acc: 0.9775\n",
            "Epoch 10/1000\n",
            "225/225 [==============================] - 25s 109ms/step - loss: 0.1018 - acc: 0.9778 - val_loss: 0.1010 - val_acc: 0.9775\n",
            "Epoch 11/1000\n",
            "225/225 [==============================] - 25s 109ms/step - loss: 0.0981 - acc: 0.9778 - val_loss: 0.0963 - val_acc: 0.9775\n",
            "Epoch 12/1000\n",
            "225/225 [==============================] - 25s 109ms/step - loss: 0.0923 - acc: 0.9778 - val_loss: 0.0910 - val_acc: 0.9775\n",
            "Epoch 13/1000\n",
            "225/225 [==============================] - 25s 109ms/step - loss: 0.0869 - acc: 0.9778 - val_loss: 0.0853 - val_acc: 0.9775\n",
            "Epoch 14/1000\n",
            "225/225 [==============================] - 25s 109ms/step - loss: 0.0820 - acc: 0.9778 - val_loss: 0.0810 - val_acc: 0.9775\n",
            "Epoch 15/1000\n",
            "225/225 [==============================] - 25s 109ms/step - loss: 0.0778 - acc: 0.9778 - val_loss: 0.0778 - val_acc: 0.9775\n",
            "Epoch 16/1000\n",
            "225/225 [==============================] - 25s 109ms/step - loss: 0.0743 - acc: 0.9778 - val_loss: 0.0752 - val_acc: 0.9775\n",
            "Epoch 17/1000\n",
            "225/225 [==============================] - 25s 109ms/step - loss: 0.0719 - acc: 0.9778 - val_loss: 0.0731 - val_acc: 0.9775\n",
            "Epoch 18/1000\n",
            "225/225 [==============================] - 25s 109ms/step - loss: 0.0698 - acc: 0.9778 - val_loss: 0.0720 - val_acc: 0.9775\n",
            "Epoch 19/1000\n",
            "225/225 [==============================] - 25s 109ms/step - loss: 0.0682 - acc: 0.9778 - val_loss: 0.0700 - val_acc: 0.9775\n",
            "Epoch 20/1000\n",
            "225/225 [==============================] - 25s 109ms/step - loss: 0.0664 - acc: 0.9778 - val_loss: 0.0686 - val_acc: 0.9775\n",
            "Epoch 21/1000\n",
            "225/225 [==============================] - 25s 109ms/step - loss: 0.0642 - acc: 0.9778 - val_loss: 0.0675 - val_acc: 0.9775\n",
            "Epoch 22/1000\n",
            "225/225 [==============================] - 25s 109ms/step - loss: 0.0628 - acc: 0.9778 - val_loss: 0.0665 - val_acc: 0.9775\n",
            "Epoch 23/1000\n",
            "225/225 [==============================] - 25s 109ms/step - loss: 0.0613 - acc: 0.9778 - val_loss: 0.0651 - val_acc: 0.9775\n",
            "Epoch 24/1000\n",
            "225/225 [==============================] - 25s 109ms/step - loss: 0.0599 - acc: 0.9778 - val_loss: 0.0641 - val_acc: 0.9775\n",
            "Epoch 25/1000\n",
            "225/225 [==============================] - 25s 109ms/step - loss: 0.0584 - acc: 0.9776 - val_loss: 0.0631 - val_acc: 0.9775\n",
            "Epoch 26/1000\n",
            "225/225 [==============================] - 25s 109ms/step - loss: 0.0574 - acc: 0.9778 - val_loss: 0.0628 - val_acc: 0.9787\n",
            "Epoch 27/1000\n",
            "225/225 [==============================] - 25s 109ms/step - loss: 0.0564 - acc: 0.9776 - val_loss: 0.0621 - val_acc: 0.9775\n",
            "Epoch 28/1000\n",
            "225/225 [==============================] - 25s 109ms/step - loss: 0.0555 - acc: 0.9782 - val_loss: 0.0611 - val_acc: 0.9762\n",
            "Epoch 29/1000\n",
            "225/225 [==============================] - 25s 109ms/step - loss: 0.0545 - acc: 0.9775 - val_loss: 0.0608 - val_acc: 0.9762\n",
            "Epoch 30/1000\n",
            "225/225 [==============================] - 25s 109ms/step - loss: 0.0538 - acc: 0.9782 - val_loss: 0.0600 - val_acc: 0.9762\n",
            "Epoch 31/1000\n",
            "225/225 [==============================] - 25s 109ms/step - loss: 0.0526 - acc: 0.9783 - val_loss: 0.0598 - val_acc: 0.9775\n",
            "Epoch 32/1000\n",
            "225/225 [==============================] - 25s 109ms/step - loss: 0.0520 - acc: 0.9785 - val_loss: 0.0599 - val_acc: 0.9787\n",
            "Epoch 33/1000\n",
            "225/225 [==============================] - 25s 109ms/step - loss: 0.0512 - acc: 0.9785 - val_loss: 0.0589 - val_acc: 0.9775\n",
            "Epoch 34/1000\n",
            "225/225 [==============================] - 25s 109ms/step - loss: 0.0507 - acc: 0.9790 - val_loss: 0.0588 - val_acc: 0.9787\n",
            "Epoch 35/1000\n",
            "225/225 [==============================] - 25s 109ms/step - loss: 0.0498 - acc: 0.9786 - val_loss: 0.0599 - val_acc: 0.9775\n",
            "Epoch 36/1000\n",
            "225/225 [==============================] - 25s 109ms/step - loss: 0.0493 - acc: 0.9793 - val_loss: 0.0579 - val_acc: 0.9800\n",
            "Epoch 37/1000\n",
            "225/225 [==============================] - 25s 109ms/step - loss: 0.0481 - acc: 0.9797 - val_loss: 0.0577 - val_acc: 0.9800\n",
            "Epoch 38/1000\n",
            "225/225 [==============================] - 25s 109ms/step - loss: 0.0480 - acc: 0.9801 - val_loss: 0.0575 - val_acc: 0.9787\n",
            "Epoch 39/1000\n",
            "225/225 [==============================] - 25s 109ms/step - loss: 0.0464 - acc: 0.9814 - val_loss: 0.0581 - val_acc: 0.9800\n",
            "Epoch 40/1000\n",
            "225/225 [==============================] - 25s 109ms/step - loss: 0.0458 - acc: 0.9815 - val_loss: 0.0569 - val_acc: 0.9800\n",
            "Epoch 41/1000\n",
            "225/225 [==============================] - 25s 109ms/step - loss: 0.0459 - acc: 0.9818 - val_loss: 0.0566 - val_acc: 0.9812\n",
            "Epoch 42/1000\n",
            "225/225 [==============================] - 25s 110ms/step - loss: 0.0438 - acc: 0.9831 - val_loss: 0.0584 - val_acc: 0.9800\n",
            "Epoch 43/1000\n",
            "225/225 [==============================] - 25s 110ms/step - loss: 0.0441 - acc: 0.9836 - val_loss: 0.0570 - val_acc: 0.9800\n",
            "Epoch 44/1000\n",
            "225/225 [==============================] - 25s 109ms/step - loss: 0.0431 - acc: 0.9839 - val_loss: 0.0562 - val_acc: 0.9800\n",
            "Epoch 45/1000\n",
            "225/225 [==============================] - 25s 109ms/step - loss: 0.0424 - acc: 0.9849 - val_loss: 0.0568 - val_acc: 0.9800\n",
            "Epoch 46/1000\n",
            "225/225 [==============================] - 25s 109ms/step - loss: 0.0413 - acc: 0.9857 - val_loss: 0.0560 - val_acc: 0.9800\n",
            "Epoch 47/1000\n",
            "225/225 [==============================] - 25s 109ms/step - loss: 0.0410 - acc: 0.9856 - val_loss: 0.0562 - val_acc: 0.9800\n",
            "Epoch 48/1000\n",
            "225/225 [==============================] - 25s 109ms/step - loss: 0.0413 - acc: 0.9857 - val_loss: 0.0563 - val_acc: 0.9800\n",
            "Epoch 49/1000\n",
            "225/225 [==============================] - 25s 109ms/step - loss: 0.0406 - acc: 0.9861 - val_loss: 0.0573 - val_acc: 0.9825\n",
            "Epoch 50/1000\n",
            "225/225 [==============================] - 25s 109ms/step - loss: 0.0398 - acc: 0.9858 - val_loss: 0.0568 - val_acc: 0.9787\n",
            "Epoch 51/1000\n",
            "225/225 [==============================] - 25s 109ms/step - loss: 0.0398 - acc: 0.9857 - val_loss: 0.0561 - val_acc: 0.9800\n",
            "Epoch 52/1000\n",
            "225/225 [==============================] - 25s 109ms/step - loss: 0.0401 - acc: 0.9861 - val_loss: 0.0586 - val_acc: 0.9800\n",
            "Epoch 53/1000\n",
            "225/225 [==============================] - 25s 109ms/step - loss: 0.0391 - acc: 0.9861 - val_loss: 0.0575 - val_acc: 0.9800\n",
            "Epoch 54/1000\n",
            "225/225 [==============================] - 25s 109ms/step - loss: 0.0381 - acc: 0.9867 - val_loss: 0.0560 - val_acc: 0.9787\n",
            "Epoch 55/1000\n",
            "225/225 [==============================] - 25s 109ms/step - loss: 0.0385 - acc: 0.9862 - val_loss: 0.0557 - val_acc: 0.9787\n",
            "Epoch 56/1000\n",
            "225/225 [==============================] - 25s 109ms/step - loss: 0.0381 - acc: 0.9871 - val_loss: 0.0563 - val_acc: 0.9812\n",
            "Epoch 57/1000\n",
            "225/225 [==============================] - 25s 109ms/step - loss: 0.0378 - acc: 0.9874 - val_loss: 0.0554 - val_acc: 0.9812\n",
            "Epoch 58/1000\n",
            "225/225 [==============================] - 25s 109ms/step - loss: 0.0372 - acc: 0.9864 - val_loss: 0.0556 - val_acc: 0.9825\n",
            "Epoch 59/1000\n",
            "225/225 [==============================] - 25s 109ms/step - loss: 0.0367 - acc: 0.9868 - val_loss: 0.0560 - val_acc: 0.9787\n",
            "Epoch 60/1000\n",
            "225/225 [==============================] - 25s 109ms/step - loss: 0.0367 - acc: 0.9871 - val_loss: 0.0558 - val_acc: 0.9787\n",
            "Epoch 61/1000\n",
            "225/225 [==============================] - 25s 109ms/step - loss: 0.0370 - acc: 0.9874 - val_loss: 0.0557 - val_acc: 0.9787\n",
            "Epoch 62/1000\n",
            "225/225 [==============================] - 25s 109ms/step - loss: 0.0362 - acc: 0.9878 - val_loss: 0.0557 - val_acc: 0.9825\n",
            "Epoch 63/1000\n",
            "225/225 [==============================] - 25s 109ms/step - loss: 0.0357 - acc: 0.9878 - val_loss: 0.0554 - val_acc: 0.9825\n",
            "Epoch 64/1000\n",
            "225/225 [==============================] - 25s 109ms/step - loss: 0.0353 - acc: 0.9881 - val_loss: 0.0555 - val_acc: 0.9825\n",
            "Epoch 65/1000\n",
            "225/225 [==============================] - 25s 109ms/step - loss: 0.0357 - acc: 0.9881 - val_loss: 0.0564 - val_acc: 0.9812\n",
            "Epoch 66/1000\n",
            "225/225 [==============================] - 25s 109ms/step - loss: 0.0348 - acc: 0.9881 - val_loss: 0.0580 - val_acc: 0.9800\n",
            "Epoch 67/1000\n",
            "225/225 [==============================] - 25s 109ms/step - loss: 0.0349 - acc: 0.9883 - val_loss: 0.0561 - val_acc: 0.9812\n",
            "Epoch 68/1000\n",
            "225/225 [==============================] - 24s 109ms/step - loss: 0.0347 - acc: 0.9878 - val_loss: 0.0550 - val_acc: 0.9825\n",
            "Epoch 69/1000\n",
            "225/225 [==============================] - 24s 109ms/step - loss: 0.0343 - acc: 0.9886 - val_loss: 0.0565 - val_acc: 0.9812\n",
            "Epoch 70/1000\n",
            "225/225 [==============================] - 25s 109ms/step - loss: 0.0337 - acc: 0.9883 - val_loss: 0.0556 - val_acc: 0.9825\n",
            "Epoch 71/1000\n",
            "225/225 [==============================] - 24s 109ms/step - loss: 0.0338 - acc: 0.9885 - val_loss: 0.0548 - val_acc: 0.9825\n",
            "Epoch 72/1000\n",
            "225/225 [==============================] - 25s 109ms/step - loss: 0.0337 - acc: 0.9878 - val_loss: 0.0551 - val_acc: 0.9825\n",
            "Epoch 73/1000\n",
            "225/225 [==============================] - 25s 109ms/step - loss: 0.0328 - acc: 0.9897 - val_loss: 0.0587 - val_acc: 0.9812\n",
            "Epoch 74/1000\n",
            "225/225 [==============================] - 25s 109ms/step - loss: 0.0331 - acc: 0.9883 - val_loss: 0.0584 - val_acc: 0.9812\n",
            "Epoch 75/1000\n",
            "225/225 [==============================] - 25s 109ms/step - loss: 0.0332 - acc: 0.9886 - val_loss: 0.0554 - val_acc: 0.9837\n",
            "Epoch 76/1000\n",
            "225/225 [==============================] - 25s 109ms/step - loss: 0.0323 - acc: 0.9890 - val_loss: 0.0550 - val_acc: 0.9825\n",
            "Epoch 77/1000\n",
            "225/225 [==============================] - 25s 109ms/step - loss: 0.0329 - acc: 0.9893 - val_loss: 0.0556 - val_acc: 0.9825\n",
            "Epoch 78/1000\n",
            "225/225 [==============================] - 25s 109ms/step - loss: 0.0319 - acc: 0.9886 - val_loss: 0.0556 - val_acc: 0.9812\n",
            "Epoch 79/1000\n",
            "225/225 [==============================] - 25s 109ms/step - loss: 0.0325 - acc: 0.9893 - val_loss: 0.0568 - val_acc: 0.9812\n",
            "Epoch 80/1000\n",
            "225/225 [==============================] - 25s 109ms/step - loss: 0.0324 - acc: 0.9886 - val_loss: 0.0545 - val_acc: 0.9825\n",
            "Epoch 81/1000\n",
            "225/225 [==============================] - 25s 109ms/step - loss: 0.0319 - acc: 0.9893 - val_loss: 0.0553 - val_acc: 0.9837\n",
            "Epoch 82/1000\n",
            "225/225 [==============================] - 25s 109ms/step - loss: 0.0315 - acc: 0.9897 - val_loss: 0.0549 - val_acc: 0.9825\n",
            "Epoch 83/1000\n",
            "225/225 [==============================] - 25s 109ms/step - loss: 0.0325 - acc: 0.9883 - val_loss: 0.0598 - val_acc: 0.9812\n",
            "Epoch 84/1000\n",
            "225/225 [==============================] - 25s 109ms/step - loss: 0.0316 - acc: 0.9896 - val_loss: 0.0547 - val_acc: 0.9825\n",
            "Epoch 85/1000\n",
            "225/225 [==============================] - 25s 109ms/step - loss: 0.0314 - acc: 0.9896 - val_loss: 0.0544 - val_acc: 0.9825\n",
            "Epoch 86/1000\n",
            "225/225 [==============================] - 25s 109ms/step - loss: 0.0315 - acc: 0.9897 - val_loss: 0.0572 - val_acc: 0.9812\n",
            "Epoch 87/1000\n",
            "225/225 [==============================] - 25s 109ms/step - loss: 0.0312 - acc: 0.9900 - val_loss: 0.0543 - val_acc: 0.9825\n",
            "Epoch 88/1000\n",
            "225/225 [==============================] - 25s 109ms/step - loss: 0.0305 - acc: 0.9900 - val_loss: 0.0544 - val_acc: 0.9825\n",
            "Epoch 89/1000\n",
            "225/225 [==============================] - 25s 109ms/step - loss: 0.0311 - acc: 0.9893 - val_loss: 0.0581 - val_acc: 0.9812\n",
            "Epoch 90/1000\n",
            "225/225 [==============================] - 25s 109ms/step - loss: 0.0306 - acc: 0.9903 - val_loss: 0.0544 - val_acc: 0.9825\n",
            "Epoch 91/1000\n",
            "225/225 [==============================] - 25s 109ms/step - loss: 0.0301 - acc: 0.9896 - val_loss: 0.0542 - val_acc: 0.9825\n",
            "Epoch 92/1000\n",
            "225/225 [==============================] - 25s 109ms/step - loss: 0.0307 - acc: 0.9900 - val_loss: 0.0543 - val_acc: 0.9837\n",
            "Epoch 93/1000\n",
            "225/225 [==============================] - 25s 109ms/step - loss: 0.0302 - acc: 0.9900 - val_loss: 0.0539 - val_acc: 0.9825\n",
            "Epoch 94/1000\n",
            "225/225 [==============================] - 25s 109ms/step - loss: 0.0301 - acc: 0.9903 - val_loss: 0.0544 - val_acc: 0.9837\n",
            "Epoch 95/1000\n",
            "225/225 [==============================] - 25s 109ms/step - loss: 0.0298 - acc: 0.9903 - val_loss: 0.0538 - val_acc: 0.9825\n",
            "Epoch 96/1000\n",
            "225/225 [==============================] - 25s 109ms/step - loss: 0.0299 - acc: 0.9901 - val_loss: 0.0552 - val_acc: 0.9825\n",
            "Epoch 97/1000\n",
            "225/225 [==============================] - 25s 109ms/step - loss: 0.0297 - acc: 0.9900 - val_loss: 0.0554 - val_acc: 0.9812\n",
            "Epoch 98/1000\n",
            "225/225 [==============================] - 25s 109ms/step - loss: 0.0299 - acc: 0.9899 - val_loss: 0.0536 - val_acc: 0.9825\n",
            "Epoch 99/1000\n",
            "225/225 [==============================] - 25s 109ms/step - loss: 0.0292 - acc: 0.9908 - val_loss: 0.0574 - val_acc: 0.9812\n",
            "Epoch 100/1000\n",
            "225/225 [==============================] - 25s 109ms/step - loss: 0.0294 - acc: 0.9907 - val_loss: 0.0545 - val_acc: 0.9837\n",
            "Epoch 101/1000\n",
            "225/225 [==============================] - 25s 109ms/step - loss: 0.0293 - acc: 0.9906 - val_loss: 0.0551 - val_acc: 0.9812\n",
            "Epoch 102/1000\n",
            "225/225 [==============================] - 25s 109ms/step - loss: 0.0291 - acc: 0.9908 - val_loss: 0.0531 - val_acc: 0.9825\n",
            "Epoch 103/1000\n",
            "225/225 [==============================] - 25s 109ms/step - loss: 0.0290 - acc: 0.9900 - val_loss: 0.0533 - val_acc: 0.9850\n",
            "Epoch 104/1000\n",
            "225/225 [==============================] - 25s 109ms/step - loss: 0.0296 - acc: 0.9906 - val_loss: 0.0529 - val_acc: 0.9825\n",
            "Epoch 105/1000\n",
            "225/225 [==============================] - 25s 109ms/step - loss: 0.0287 - acc: 0.9914 - val_loss: 0.0531 - val_acc: 0.9825\n",
            "Epoch 106/1000\n",
            "225/225 [==============================] - 25s 109ms/step - loss: 0.0293 - acc: 0.9903 - val_loss: 0.0529 - val_acc: 0.9825\n",
            "Epoch 107/1000\n",
            "225/225 [==============================] - 25s 109ms/step - loss: 0.0288 - acc: 0.9903 - val_loss: 0.0528 - val_acc: 0.9825\n",
            "Epoch 108/1000\n",
            "225/225 [==============================] - 25s 109ms/step - loss: 0.0280 - acc: 0.9918 - val_loss: 0.0566 - val_acc: 0.9812\n",
            "Epoch 109/1000\n",
            "225/225 [==============================] - 25s 109ms/step - loss: 0.0280 - acc: 0.9915 - val_loss: 0.0542 - val_acc: 0.9837\n",
            "Epoch 110/1000\n",
            "225/225 [==============================] - 25s 109ms/step - loss: 0.0287 - acc: 0.9910 - val_loss: 0.0523 - val_acc: 0.9825\n",
            "Epoch 111/1000\n",
            "225/225 [==============================] - 25s 110ms/step - loss: 0.0283 - acc: 0.9911 - val_loss: 0.0528 - val_acc: 0.9837\n",
            "Epoch 112/1000\n",
            "225/225 [==============================] - 25s 109ms/step - loss: 0.0280 - acc: 0.9910 - val_loss: 0.0564 - val_acc: 0.9812\n",
            "Epoch 113/1000\n",
            "225/225 [==============================] - 25s 109ms/step - loss: 0.0283 - acc: 0.9914 - val_loss: 0.0519 - val_acc: 0.9825\n",
            "Epoch 114/1000\n",
            "225/225 [==============================] - 25s 109ms/step - loss: 0.0284 - acc: 0.9910 - val_loss: 0.0522 - val_acc: 0.9825\n",
            "Epoch 115/1000\n",
            "225/225 [==============================] - 25s 109ms/step - loss: 0.0283 - acc: 0.9910 - val_loss: 0.0525 - val_acc: 0.9837\n",
            "Epoch 116/1000\n",
            "225/225 [==============================] - 25s 109ms/step - loss: 0.0280 - acc: 0.9915 - val_loss: 0.0526 - val_acc: 0.9837\n",
            "Epoch 117/1000\n",
            "225/225 [==============================] - 25s 110ms/step - loss: 0.0272 - acc: 0.9915 - val_loss: 0.0597 - val_acc: 0.9800\n",
            "Epoch 118/1000\n",
            "225/225 [==============================] - 25s 110ms/step - loss: 0.0283 - acc: 0.9910 - val_loss: 0.0531 - val_acc: 0.9837\n",
            "Epoch 119/1000\n",
            "225/225 [==============================] - 25s 110ms/step - loss: 0.0277 - acc: 0.9911 - val_loss: 0.0519 - val_acc: 0.9837\n",
            "Epoch 120/1000\n",
            "225/225 [==============================] - 25s 110ms/step - loss: 0.0277 - acc: 0.9915 - val_loss: 0.0514 - val_acc: 0.9825\n",
            "Epoch 121/1000\n",
            "225/225 [==============================] - 25s 110ms/step - loss: 0.0272 - acc: 0.9906 - val_loss: 0.0532 - val_acc: 0.9837\n",
            "Epoch 122/1000\n",
            "225/225 [==============================] - 25s 109ms/step - loss: 0.0277 - acc: 0.9910 - val_loss: 0.0518 - val_acc: 0.9837\n",
            "Epoch 123/1000\n",
            "225/225 [==============================] - 25s 110ms/step - loss: 0.0275 - acc: 0.9911 - val_loss: 0.0515 - val_acc: 0.9850\n",
            "Epoch 124/1000\n",
            "225/225 [==============================] - 25s 109ms/step - loss: 0.0276 - acc: 0.9911 - val_loss: 0.0515 - val_acc: 0.9825\n",
            "Epoch 125/1000\n",
            "225/225 [==============================] - 25s 110ms/step - loss: 0.0275 - acc: 0.9914 - val_loss: 0.0514 - val_acc: 0.9825\n",
            "Epoch 126/1000\n",
            "225/225 [==============================] - 25s 110ms/step - loss: 0.0274 - acc: 0.9915 - val_loss: 0.0513 - val_acc: 0.9837\n",
            "Epoch 127/1000\n",
            "225/225 [==============================] - 25s 110ms/step - loss: 0.0267 - acc: 0.9912 - val_loss: 0.0515 - val_acc: 0.9837\n",
            "Epoch 128/1000\n",
            "225/225 [==============================] - 25s 110ms/step - loss: 0.0271 - acc: 0.9912 - val_loss: 0.0517 - val_acc: 0.9837\n",
            "Epoch 129/1000\n",
            "225/225 [==============================] - 25s 110ms/step - loss: 0.0265 - acc: 0.9917 - val_loss: 0.0532 - val_acc: 0.9837\n",
            "Epoch 130/1000\n",
            "225/225 [==============================] - 25s 110ms/step - loss: 0.0269 - acc: 0.9911 - val_loss: 0.0535 - val_acc: 0.9825\n",
            "Epoch 131/1000\n",
            "225/225 [==============================] - 25s 110ms/step - loss: 0.0271 - acc: 0.9914 - val_loss: 0.0507 - val_acc: 0.9850\n",
            "Epoch 132/1000\n",
            "225/225 [==============================] - 25s 110ms/step - loss: 0.0271 - acc: 0.9903 - val_loss: 0.0530 - val_acc: 0.9825\n",
            "Epoch 133/1000\n",
            "225/225 [==============================] - 25s 110ms/step - loss: 0.0275 - acc: 0.9917 - val_loss: 0.0530 - val_acc: 0.9825\n",
            "Epoch 134/1000\n",
            "225/225 [==============================] - 25s 110ms/step - loss: 0.0266 - acc: 0.9915 - val_loss: 0.0540 - val_acc: 0.9812\n",
            "Epoch 135/1000\n",
            "225/225 [==============================] - 25s 110ms/step - loss: 0.0268 - acc: 0.9911 - val_loss: 0.0557 - val_acc: 0.9812\n",
            "Epoch 136/1000\n",
            "225/225 [==============================] - 25s 110ms/step - loss: 0.0268 - acc: 0.9915 - val_loss: 0.0506 - val_acc: 0.9862\n",
            "Epoch 137/1000\n",
            "225/225 [==============================] - 25s 110ms/step - loss: 0.0267 - acc: 0.9917 - val_loss: 0.0506 - val_acc: 0.9825\n",
            "Epoch 138/1000\n",
            "225/225 [==============================] - 25s 110ms/step - loss: 0.0258 - acc: 0.9924 - val_loss: 0.0527 - val_acc: 0.9862\n",
            "Epoch 139/1000\n",
            "225/225 [==============================] - 25s 110ms/step - loss: 0.0267 - acc: 0.9907 - val_loss: 0.0544 - val_acc: 0.9812\n",
            "Epoch 140/1000\n",
            "225/225 [==============================] - 25s 110ms/step - loss: 0.0261 - acc: 0.9925 - val_loss: 0.0575 - val_acc: 0.9800\n",
            "Epoch 141/1000\n",
            "225/225 [==============================] - 25s 110ms/step - loss: 0.0264 - acc: 0.9919 - val_loss: 0.0506 - val_acc: 0.9837\n",
            "Epoch 142/1000\n",
            "225/225 [==============================] - 25s 110ms/step - loss: 0.0260 - acc: 0.9922 - val_loss: 0.0507 - val_acc: 0.9837\n",
            "Epoch 143/1000\n",
            "225/225 [==============================] - 25s 109ms/step - loss: 0.0264 - acc: 0.9921 - val_loss: 0.0503 - val_acc: 0.9862\n",
            "Epoch 144/1000\n",
            "225/225 [==============================] - 24s 109ms/step - loss: 0.0258 - acc: 0.9919 - val_loss: 0.0502 - val_acc: 0.9862\n",
            "Epoch 145/1000\n",
            "225/225 [==============================] - 24s 109ms/step - loss: 0.0263 - acc: 0.9922 - val_loss: 0.0504 - val_acc: 0.9837\n",
            "Epoch 146/1000\n",
            "225/225 [==============================] - 24s 109ms/step - loss: 0.0263 - acc: 0.9915 - val_loss: 0.0505 - val_acc: 0.9837\n",
            "Epoch 147/1000\n",
            "225/225 [==============================] - 24s 109ms/step - loss: 0.0262 - acc: 0.9917 - val_loss: 0.0563 - val_acc: 0.9800\n",
            "Epoch 148/1000\n",
            "225/225 [==============================] - 24s 109ms/step - loss: 0.0256 - acc: 0.9925 - val_loss: 0.0499 - val_acc: 0.9862\n",
            "Epoch 149/1000\n",
            "225/225 [==============================] - 25s 109ms/step - loss: 0.0262 - acc: 0.9921 - val_loss: 0.0499 - val_acc: 0.9862\n",
            "Epoch 150/1000\n",
            "225/225 [==============================] - 24s 109ms/step - loss: 0.0261 - acc: 0.9910 - val_loss: 0.0552 - val_acc: 0.9812\n",
            "Epoch 151/1000\n",
            "225/225 [==============================] - 24s 109ms/step - loss: 0.0257 - acc: 0.9919 - val_loss: 0.0498 - val_acc: 0.9862\n",
            "Epoch 152/1000\n",
            "225/225 [==============================] - 24s 109ms/step - loss: 0.0260 - acc: 0.9919 - val_loss: 0.0511 - val_acc: 0.9837\n",
            "Epoch 153/1000\n",
            "225/225 [==============================] - 24s 109ms/step - loss: 0.0256 - acc: 0.9926 - val_loss: 0.0503 - val_acc: 0.9862\n",
            "Epoch 154/1000\n",
            "225/225 [==============================] - 24s 109ms/step - loss: 0.0261 - acc: 0.9918 - val_loss: 0.0523 - val_acc: 0.9850\n",
            "Epoch 155/1000\n",
            "225/225 [==============================] - 24s 109ms/step - loss: 0.0260 - acc: 0.9922 - val_loss: 0.0581 - val_acc: 0.9800\n",
            "Epoch 156/1000\n",
            "225/225 [==============================] - 24s 109ms/step - loss: 0.0255 - acc: 0.9921 - val_loss: 0.0504 - val_acc: 0.9862\n",
            "Epoch 157/1000\n",
            "225/225 [==============================] - 24s 109ms/step - loss: 0.0254 - acc: 0.9910 - val_loss: 0.0535 - val_acc: 0.9825\n",
            "Epoch 158/1000\n",
            "225/225 [==============================] - 24s 109ms/step - loss: 0.0261 - acc: 0.9921 - val_loss: 0.0499 - val_acc: 0.9862\n",
            "Epoch 159/1000\n",
            "225/225 [==============================] - 24s 109ms/step - loss: 0.0255 - acc: 0.9919 - val_loss: 0.0530 - val_acc: 0.9825\n",
            "Epoch 160/1000\n",
            "225/225 [==============================] - 24s 109ms/step - loss: 0.0251 - acc: 0.9926 - val_loss: 0.0511 - val_acc: 0.9837\n",
            "Epoch 161/1000\n",
            "225/225 [==============================] - 25s 109ms/step - loss: 0.0256 - acc: 0.9912 - val_loss: 0.0492 - val_acc: 0.9862\n",
            "Epoch 162/1000\n",
            "225/225 [==============================] - 25s 109ms/step - loss: 0.0252 - acc: 0.9912 - val_loss: 0.0505 - val_acc: 0.9862\n",
            "Epoch 163/1000\n",
            "225/225 [==============================] - 25s 109ms/step - loss: 0.0256 - acc: 0.9925 - val_loss: 0.0521 - val_acc: 0.9837\n",
            "Epoch 164/1000\n",
            "225/225 [==============================] - 25s 109ms/step - loss: 0.0251 - acc: 0.9921 - val_loss: 0.0552 - val_acc: 0.9812\n",
            "Epoch 165/1000\n",
            "225/225 [==============================] - 25s 109ms/step - loss: 0.0253 - acc: 0.9918 - val_loss: 0.0508 - val_acc: 0.9837\n",
            "Epoch 166/1000\n",
            "225/225 [==============================] - 25s 109ms/step - loss: 0.0248 - acc: 0.9924 - val_loss: 0.0497 - val_acc: 0.9850\n",
            "Epoch 167/1000\n",
            "225/225 [==============================] - 25s 109ms/step - loss: 0.0255 - acc: 0.9919 - val_loss: 0.0501 - val_acc: 0.9837\n",
            "Epoch 168/1000\n",
            "225/225 [==============================] - 25s 109ms/step - loss: 0.0250 - acc: 0.9915 - val_loss: 0.0526 - val_acc: 0.9825\n",
            "Epoch 169/1000\n",
            "225/225 [==============================] - 25s 109ms/step - loss: 0.0249 - acc: 0.9922 - val_loss: 0.0492 - val_acc: 0.9850\n",
            "Epoch 170/1000\n",
            "225/225 [==============================] - 25s 109ms/step - loss: 0.0247 - acc: 0.9924 - val_loss: 0.0499 - val_acc: 0.9837\n",
            "Epoch 171/1000\n",
            "225/225 [==============================] - 25s 109ms/step - loss: 0.0249 - acc: 0.9924 - val_loss: 0.0497 - val_acc: 0.9850\n",
            "Epoch 172/1000\n",
            "225/225 [==============================] - 25s 109ms/step - loss: 0.0244 - acc: 0.9918 - val_loss: 0.0567 - val_acc: 0.9800\n",
            "Epoch 173/1000\n",
            "225/225 [==============================] - 25s 109ms/step - loss: 0.0252 - acc: 0.9917 - val_loss: 0.0484 - val_acc: 0.9862\n",
            "Epoch 174/1000\n",
            "225/225 [==============================] - 25s 109ms/step - loss: 0.0249 - acc: 0.9922 - val_loss: 0.0500 - val_acc: 0.9837\n",
            "Epoch 175/1000\n",
            "225/225 [==============================] - 25s 109ms/step - loss: 0.0252 - acc: 0.9921 - val_loss: 0.0495 - val_acc: 0.9850\n",
            "Epoch 176/1000\n",
            "225/225 [==============================] - 24s 109ms/step - loss: 0.0246 - acc: 0.9917 - val_loss: 0.0514 - val_acc: 0.9837\n",
            "Epoch 177/1000\n",
            "225/225 [==============================] - 24s 109ms/step - loss: 0.0242 - acc: 0.9931 - val_loss: 0.0485 - val_acc: 0.9862\n",
            "Epoch 178/1000\n",
            "225/225 [==============================] - 25s 109ms/step - loss: 0.0245 - acc: 0.9921 - val_loss: 0.0533 - val_acc: 0.9812\n",
            "Epoch 179/1000\n",
            "225/225 [==============================] - 25s 109ms/step - loss: 0.0244 - acc: 0.9925 - val_loss: 0.0493 - val_acc: 0.9850\n",
            "Epoch 180/1000\n",
            "225/225 [==============================] - 25s 109ms/step - loss: 0.0244 - acc: 0.9917 - val_loss: 0.0536 - val_acc: 0.9812\n",
            "Epoch 181/1000\n",
            "225/225 [==============================] - 24s 109ms/step - loss: 0.0248 - acc: 0.9919 - val_loss: 0.0508 - val_acc: 0.9837\n",
            "Epoch 182/1000\n",
            "225/225 [==============================] - 25s 109ms/step - loss: 0.0245 - acc: 0.9926 - val_loss: 0.0571 - val_acc: 0.9812\n",
            "Epoch 183/1000\n",
            "225/225 [==============================] - 25s 109ms/step - loss: 0.0247 - acc: 0.9922 - val_loss: 0.0502 - val_acc: 0.9837\n"
          ]
        }
      ]
    },
    {
      "cell_type": "code",
      "metadata": {
        "colab": {
          "base_uri": "https://localhost:8080/"
        },
        "id": "nEKnM0RRvCWK",
        "outputId": "a118a42d-1927-47e7-a9f2-6bca9f59659e"
      },
      "source": [
        "model.save('/content/drive/MyDrive/final_models/with_attention/model4.h5')"
      ],
      "execution_count": null,
      "outputs": [
        {
          "name": "stderr",
          "output_type": "stream",
          "text": [
            "/usr/local/lib/python3.7/dist-packages/keras/utils/generic_utils.py:497: CustomMaskWarning: Custom mask layers require a config and must override get_config. When loading, the custom mask layer must be passed to the custom_objects argument.\n",
            "  category=CustomMaskWarning)\n"
          ]
        }
      ]
    },
    {
      "cell_type": "code",
      "metadata": {
        "colab": {
          "base_uri": "https://localhost:8080/"
        },
        "id": "9qaj1gHCvCWK",
        "outputId": "2c69ef5f-b520-47ce-bb8c-3b310ae9a998"
      },
      "source": [
        "#plot acc and loss\n",
        "import matplotlib.pyplot as plt\n",
        "epochs = range(len(history.history['loss']))\n",
        "plt.plot(epochs , history.history['val_loss'])\n",
        "plt.plot(epochs , history.history['loss'])\n",
        "plt.title('loss')\n",
        "plt.figure()\n",
        "plt.plot(epochs , history.history['val_acc'])\n",
        "plt.plot(epochs , history.history['acc'])\n",
        "plt.title('accuracy')\n",
        "plt.figure()\n",
        "plt.show()"
      ],
      "execution_count": null,
      "outputs": [
        {
          "data": {
            "image/png": "[encoded data removed]",
            "text/plain": [
              "<Figure size 432x288 with 1 Axes>"
            ]
          },
          "metadata": {
            "tags": []
          },
          "output_type": "display_data"
        },
        {
          "data": {
            "image/png": "[encoded data removed]",
            "text/plain": [
              "<Figure size 432x288 with 1 Axes>"
            ]
          },
          "metadata": {
            "tags": []
          },
          "output_type": "display_data"
        },
        {
          "data": {
            "text/plain": [
              "<Figure size 432x288 with 0 Axes>"
            ]
          },
          "metadata": {
            "tags": []
          },
          "output_type": "display_data"
        }
      ]
    },
    {
      "cell_type": "code",
      "metadata": {
        "colab": {
          "base_uri": "https://localhost:8080/"
        },
        "id": "E0CN-ieMvCWL",
        "outputId": "8d36c4d1-73ac-4252-c46c-8bb6bd6156ab"
      },
      "source": [
        "model.evaluate(test_data , test_label)"
      ],
      "execution_count": null,
      "outputs": [
        {
          "name": "stdout",
          "output_type": "stream",
          "text": [
            "74/74 [==============================] - 3s 37ms/step - loss: 0.0354 - acc: 0.9889\n"
          ]
        },
        {
          "data": {
            "text/plain": [
              "[0.035442981868982315, 0.9889078736305237]"
            ]
          },
          "execution_count": 34,
          "metadata": {
            "tags": []
          },
          "output_type": "execute_result"
        }
      ]
    },
    {
      "cell_type": "code",
      "metadata": {
        "colab": {
          "base_uri": "https://localhost:8080/"
        },
        "id": "qD6Bq5OevCWL",
        "outputId": "cdad4566-b81f-4c40-a243-06210dd60540"
      },
      "source": [
        "# performance measurements on test data 2\n",
        "\n",
        "pred = model.predict(test_data)\n",
        "\n",
        "thresh = find_opt_thresh(test_label , pred)\n",
        "print(thresh)\n",
        "prediction = np.zeros(np.shape(pred))\n",
        "prediction[pred > thresh] = 1\n",
        "\n",
        "from sklearn.metrics import accuracy_score\n",
        "accuracy = accuracy_score(test_label   , prediction)\n",
        "print('accuracy is:' , np.round(accuracy*100,2) , '%')\n",
        "print('___________________________________________')\n",
        "from sklearn.metrics import precision_score\n",
        "pscore = precision_score(test_label   , prediction)\n",
        "print('precision score is:' , np.round(pscore*100,2) , '%')\n",
        "print('___________________________________________')\n",
        "from sklearn.metrics import recall_score\n",
        "rscore = recall_score(test_label   , prediction)\n",
        "print('recall score is:' , np.round(rscore*100,2) , '%')\n",
        "print('___________________________________________')\n",
        "from sklearn.metrics import f1_score\n",
        "fscore = f1_score(test_label   , prediction)\n",
        "print('f1 score is:' , np.round(fscore*100,2) , '%')\n",
        "print('___________________________________________')\n",
        "spc = specificity_score(test_label   , prediction)\n",
        "print('specificity is:' , np.round(spc*100,2) , '%')\n",
        "print('___________________________________________')\n",
        "sen = sensitivity_score(test_label   , prediction)\n",
        "print('sensitivity is:' , np.round(sen*100,2) , '%')\n",
        "print('___________________________________________')\n",
        "from sklearn.metrics import roc_auc_score\n",
        "auc = roc_auc_score(test_label   , prediction)\n",
        "print('AUC is:' , np.round(auc,4))"
      ],
      "execution_count": null,
      "outputs": [
        {
          "name": "stdout",
          "output_type": "stream",
          "text": [
            "[0.53763443]\n",
            "accuracy is: 98.98 %\n",
            "___________________________________________\n",
            "precision score is: 77.36 %\n",
            "___________________________________________\n",
            "recall score is: 77.36 %\n",
            "___________________________________________\n",
            "f1 score is: 77.36 %\n",
            "___________________________________________\n",
            "specificity is: 99.48 %\n",
            "___________________________________________\n",
            "sensitivity is: 77.36 %\n",
            "___________________________________________\n",
            "AUC is: 0.8842\n"
          ]
        }
      ]
    },
    {
      "cell_type": "markdown",
      "metadata": {
        "id": "MAN9TLOsvO9r"
      },
      "source": [
        "#### Fold 5"
      ]
    },
    {
      "cell_type": "code",
      "metadata": {
        "id": "26SD-g5vvO9r"
      },
      "source": [
        "model = CompModel()"
      ],
      "execution_count": null,
      "outputs": []
    },
    {
      "cell_type": "code",
      "metadata": {
        "colab": {
          "base_uri": "https://localhost:8080/"
        },
        "id": "CqP0o2muvO9s",
        "outputId": "b1a2e5b6-df49-40d9-a1b1-0b244a131d18"
      },
      "source": [
        "history = model.fit(train_data[train_indices[4]], train_label[train_indices[4]],\n",
        "            epochs=1000,\n",
        "            validation_data = (train_data[test_indices[4]] , train_label[test_indices[4]]),\n",
        "            callbacks = [early_stopping_cb],\n",
        "            verbose = 1)"
      ],
      "execution_count": null,
      "outputs": [
        {
          "name": "stdout",
          "output_type": "stream",
          "text": [
            "Epoch 1/1000\n",
            "225/225 [==============================] - 28s 114ms/step - loss: 0.6755 - acc: 0.9733 - val_loss: 0.6412 - val_acc: 0.9775\n",
            "Epoch 2/1000\n",
            "225/225 [==============================] - 25s 111ms/step - loss: 0.4004 - acc: 0.9778 - val_loss: 0.1276 - val_acc: 0.9775\n",
            "Epoch 3/1000\n",
            "225/225 [==============================] - 25s 111ms/step - loss: 0.1227 - acc: 0.9778 - val_loss: 0.1187 - val_acc: 0.9775\n",
            "Epoch 4/1000\n",
            "225/225 [==============================] - 25s 111ms/step - loss: 0.1176 - acc: 0.9778 - val_loss: 0.1158 - val_acc: 0.9775\n",
            "Epoch 5/1000\n",
            "225/225 [==============================] - 25s 111ms/step - loss: 0.1151 - acc: 0.9778 - val_loss: 0.1139 - val_acc: 0.9775\n",
            "Epoch 6/1000\n",
            "225/225 [==============================] - 25s 111ms/step - loss: 0.1135 - acc: 0.9778 - val_loss: 0.1126 - val_acc: 0.9775\n",
            "Epoch 7/1000\n",
            "225/225 [==============================] - 25s 111ms/step - loss: 0.1119 - acc: 0.9778 - val_loss: 0.1115 - val_acc: 0.9775\n",
            "Epoch 8/1000\n",
            "225/225 [==============================] - 25s 111ms/step - loss: 0.1106 - acc: 0.9778 - val_loss: 0.1107 - val_acc: 0.9775\n",
            "Epoch 9/1000\n",
            "225/225 [==============================] - 25s 111ms/step - loss: 0.1097 - acc: 0.9778 - val_loss: 0.1101 - val_acc: 0.9775\n",
            "Epoch 10/1000\n",
            "225/225 [==============================] - 25s 111ms/step - loss: 0.1088 - acc: 0.9778 - val_loss: 0.1089 - val_acc: 0.9775\n",
            "Epoch 11/1000\n",
            "225/225 [==============================] - 25s 111ms/step - loss: 0.1077 - acc: 0.9778 - val_loss: 0.1081 - val_acc: 0.9775\n",
            "Epoch 12/1000\n",
            "225/225 [==============================] - 25s 111ms/step - loss: 0.1069 - acc: 0.9778 - val_loss: 0.1071 - val_acc: 0.9775\n",
            "Epoch 13/1000\n",
            "225/225 [==============================] - 25s 111ms/step - loss: 0.1055 - acc: 0.9778 - val_loss: 0.1059 - val_acc: 0.9775\n",
            "Epoch 14/1000\n",
            "225/225 [==============================] - 25s 111ms/step - loss: 0.1033 - acc: 0.9778 - val_loss: 0.1035 - val_acc: 0.9775\n",
            "Epoch 15/1000\n",
            "225/225 [==============================] - 25s 111ms/step - loss: 0.1007 - acc: 0.9778 - val_loss: 0.1009 - val_acc: 0.9775\n",
            "Epoch 16/1000\n",
            "225/225 [==============================] - 25s 111ms/step - loss: 0.0975 - acc: 0.9778 - val_loss: 0.0977 - val_acc: 0.9775\n",
            "Epoch 17/1000\n",
            "225/225 [==============================] - 25s 111ms/step - loss: 0.0941 - acc: 0.9778 - val_loss: 0.0948 - val_acc: 0.9775\n",
            "Epoch 18/1000\n",
            "225/225 [==============================] - 25s 111ms/step - loss: 0.0905 - acc: 0.9778 - val_loss: 0.0916 - val_acc: 0.9775\n",
            "Epoch 19/1000\n",
            "225/225 [==============================] - 25s 111ms/step - loss: 0.0879 - acc: 0.9778 - val_loss: 0.0893 - val_acc: 0.9775\n",
            "Epoch 20/1000\n",
            "225/225 [==============================] - 25s 111ms/step - loss: 0.0851 - acc: 0.9778 - val_loss: 0.0872 - val_acc: 0.9775\n",
            "Epoch 21/1000\n",
            "225/225 [==============================] - 25s 111ms/step - loss: 0.0830 - acc: 0.9778 - val_loss: 0.0862 - val_acc: 0.9775\n",
            "Epoch 22/1000\n",
            "225/225 [==============================] - 25s 111ms/step - loss: 0.0811 - acc: 0.9778 - val_loss: 0.0846 - val_acc: 0.9775\n",
            "Epoch 23/1000\n",
            "225/225 [==============================] - 25s 111ms/step - loss: 0.0796 - acc: 0.9778 - val_loss: 0.0829 - val_acc: 0.9775\n",
            "Epoch 24/1000\n",
            "225/225 [==============================] - 25s 111ms/step - loss: 0.0779 - acc: 0.9778 - val_loss: 0.0819 - val_acc: 0.9775\n",
            "Epoch 25/1000\n",
            "225/225 [==============================] - 25s 111ms/step - loss: 0.0769 - acc: 0.9778 - val_loss: 0.0805 - val_acc: 0.9775\n",
            "Epoch 26/1000\n",
            "225/225 [==============================] - 25s 111ms/step - loss: 0.0758 - acc: 0.9778 - val_loss: 0.0794 - val_acc: 0.9775\n",
            "Epoch 27/1000\n",
            "225/225 [==============================] - 25s 111ms/step - loss: 0.0742 - acc: 0.9778 - val_loss: 0.0789 - val_acc: 0.9775\n",
            "Epoch 28/1000\n",
            "225/225 [==============================] - 25s 111ms/step - loss: 0.0731 - acc: 0.9778 - val_loss: 0.0779 - val_acc: 0.9775\n",
            "Epoch 29/1000\n",
            "225/225 [==============================] - 25s 111ms/step - loss: 0.0721 - acc: 0.9778 - val_loss: 0.0765 - val_acc: 0.9775\n",
            "Epoch 30/1000\n",
            "225/225 [==============================] - 25s 111ms/step - loss: 0.0711 - acc: 0.9778 - val_loss: 0.0766 - val_acc: 0.9775\n",
            "Epoch 31/1000\n",
            "225/225 [==============================] - 25s 111ms/step - loss: 0.0699 - acc: 0.9778 - val_loss: 0.0747 - val_acc: 0.9775\n",
            "Epoch 32/1000\n",
            "225/225 [==============================] - 25s 111ms/step - loss: 0.0689 - acc: 0.9778 - val_loss: 0.0747 - val_acc: 0.9775\n",
            "Epoch 33/1000\n",
            "225/225 [==============================] - 25s 111ms/step - loss: 0.0683 - acc: 0.9778 - val_loss: 0.0739 - val_acc: 0.9775\n",
            "Epoch 34/1000\n",
            "225/225 [==============================] - 25s 111ms/step - loss: 0.0679 - acc: 0.9778 - val_loss: 0.0723 - val_acc: 0.9775\n",
            "Epoch 35/1000\n",
            "225/225 [==============================] - 25s 111ms/step - loss: 0.0665 - acc: 0.9778 - val_loss: 0.0716 - val_acc: 0.9775\n",
            "Epoch 36/1000\n",
            "225/225 [==============================] - 25s 111ms/step - loss: 0.0659 - acc: 0.9778 - val_loss: 0.0710 - val_acc: 0.9775\n",
            "Epoch 37/1000\n",
            "225/225 [==============================] - 25s 111ms/step - loss: 0.0652 - acc: 0.9778 - val_loss: 0.0704 - val_acc: 0.9775\n",
            "Epoch 38/1000\n",
            "225/225 [==============================] - 25s 111ms/step - loss: 0.0643 - acc: 0.9778 - val_loss: 0.0694 - val_acc: 0.9775\n",
            "Epoch 39/1000\n",
            "225/225 [==============================] - 25s 111ms/step - loss: 0.0637 - acc: 0.9776 - val_loss: 0.0685 - val_acc: 0.9775\n",
            "Epoch 40/1000\n",
            "225/225 [==============================] - 25s 111ms/step - loss: 0.0631 - acc: 0.9779 - val_loss: 0.0678 - val_acc: 0.9775\n",
            "Epoch 41/1000\n",
            "225/225 [==============================] - 25s 111ms/step - loss: 0.0622 - acc: 0.9776 - val_loss: 0.0669 - val_acc: 0.9775\n",
            "Epoch 42/1000\n",
            "225/225 [==============================] - 25s 111ms/step - loss: 0.0613 - acc: 0.9776 - val_loss: 0.0662 - val_acc: 0.9775\n",
            "Epoch 43/1000\n",
            "225/225 [==============================] - 25s 111ms/step - loss: 0.0607 - acc: 0.9775 - val_loss: 0.0658 - val_acc: 0.9762\n",
            "Epoch 44/1000\n",
            "225/225 [==============================] - 25s 111ms/step - loss: 0.0601 - acc: 0.9778 - val_loss: 0.0639 - val_acc: 0.9762\n",
            "Epoch 45/1000\n",
            "225/225 [==============================] - 25s 111ms/step - loss: 0.0591 - acc: 0.9775 - val_loss: 0.0630 - val_acc: 0.9750\n",
            "Epoch 46/1000\n",
            "225/225 [==============================] - 25s 111ms/step - loss: 0.0585 - acc: 0.9778 - val_loss: 0.0629 - val_acc: 0.9750\n",
            "Epoch 47/1000\n",
            "225/225 [==============================] - 25s 111ms/step - loss: 0.0573 - acc: 0.9782 - val_loss: 0.0610 - val_acc: 0.9750\n",
            "Epoch 48/1000\n",
            "225/225 [==============================] - 25s 111ms/step - loss: 0.0565 - acc: 0.9782 - val_loss: 0.0606 - val_acc: 0.9750\n",
            "Epoch 49/1000\n",
            "225/225 [==============================] - 25s 111ms/step - loss: 0.0559 - acc: 0.9781 - val_loss: 0.0580 - val_acc: 0.9750\n",
            "Epoch 50/1000\n",
            "225/225 [==============================] - 25s 112ms/step - loss: 0.0553 - acc: 0.9783 - val_loss: 0.0570 - val_acc: 0.9750\n",
            "Epoch 51/1000\n",
            "225/225 [==============================] - 25s 112ms/step - loss: 0.0540 - acc: 0.9786 - val_loss: 0.0567 - val_acc: 0.9762\n",
            "Epoch 52/1000\n",
            "225/225 [==============================] - 25s 112ms/step - loss: 0.0534 - acc: 0.9789 - val_loss: 0.0558 - val_acc: 0.9762\n",
            "Epoch 53/1000\n",
            "225/225 [==============================] - 25s 112ms/step - loss: 0.0531 - acc: 0.9793 - val_loss: 0.0548 - val_acc: 0.9750\n",
            "Epoch 54/1000\n",
            "225/225 [==============================] - 25s 111ms/step - loss: 0.0522 - acc: 0.9800 - val_loss: 0.0538 - val_acc: 0.9750\n",
            "Epoch 55/1000\n",
            "225/225 [==============================] - 25s 111ms/step - loss: 0.0517 - acc: 0.9803 - val_loss: 0.0532 - val_acc: 0.9775\n",
            "Epoch 56/1000\n",
            "225/225 [==============================] - 25s 112ms/step - loss: 0.0513 - acc: 0.9807 - val_loss: 0.0534 - val_acc: 0.9762\n",
            "Epoch 57/1000\n",
            "225/225 [==============================] - 25s 112ms/step - loss: 0.0512 - acc: 0.9808 - val_loss: 0.0525 - val_acc: 0.9825\n",
            "Epoch 58/1000\n",
            "225/225 [==============================] - 25s 112ms/step - loss: 0.0504 - acc: 0.9811 - val_loss: 0.0530 - val_acc: 0.9762\n",
            "Epoch 59/1000\n",
            "225/225 [==============================] - 25s 111ms/step - loss: 0.0500 - acc: 0.9817 - val_loss: 0.0517 - val_acc: 0.9825\n",
            "Epoch 60/1000\n",
            "225/225 [==============================] - 25s 112ms/step - loss: 0.0495 - acc: 0.9815 - val_loss: 0.0514 - val_acc: 0.9825\n",
            "Epoch 61/1000\n",
            "225/225 [==============================] - 25s 111ms/step - loss: 0.0493 - acc: 0.9824 - val_loss: 0.0519 - val_acc: 0.9812\n",
            "Epoch 62/1000\n",
            "225/225 [==============================] - 25s 112ms/step - loss: 0.0493 - acc: 0.9822 - val_loss: 0.0506 - val_acc: 0.9812\n",
            "Epoch 63/1000\n",
            "225/225 [==============================] - 25s 111ms/step - loss: 0.0496 - acc: 0.9821 - val_loss: 0.0506 - val_acc: 0.9800\n",
            "Epoch 64/1000\n",
            "225/225 [==============================] - 25s 111ms/step - loss: 0.0480 - acc: 0.9836 - val_loss: 0.0501 - val_acc: 0.9812\n",
            "Epoch 65/1000\n",
            "225/225 [==============================] - 25s 112ms/step - loss: 0.0477 - acc: 0.9821 - val_loss: 0.0502 - val_acc: 0.9812\n",
            "Epoch 66/1000\n",
            "225/225 [==============================] - 25s 112ms/step - loss: 0.0482 - acc: 0.9831 - val_loss: 0.0497 - val_acc: 0.9812\n",
            "Epoch 67/1000\n",
            "225/225 [==============================] - 25s 112ms/step - loss: 0.0475 - acc: 0.9828 - val_loss: 0.0506 - val_acc: 0.9812\n",
            "Epoch 68/1000\n",
            "225/225 [==============================] - 25s 111ms/step - loss: 0.0470 - acc: 0.9835 - val_loss: 0.0492 - val_acc: 0.9812\n",
            "Epoch 69/1000\n",
            "225/225 [==============================] - 25s 112ms/step - loss: 0.0464 - acc: 0.9825 - val_loss: 0.0490 - val_acc: 0.9812\n",
            "Epoch 70/1000\n",
            "225/225 [==============================] - 25s 112ms/step - loss: 0.0467 - acc: 0.9831 - val_loss: 0.0499 - val_acc: 0.9800\n",
            "Epoch 71/1000\n",
            "225/225 [==============================] - 25s 112ms/step - loss: 0.0464 - acc: 0.9831 - val_loss: 0.0495 - val_acc: 0.9800\n",
            "Epoch 72/1000\n",
            "225/225 [==============================] - 25s 111ms/step - loss: 0.0459 - acc: 0.9840 - val_loss: 0.0485 - val_acc: 0.9812\n",
            "Epoch 73/1000\n",
            "225/225 [==============================] - 25s 111ms/step - loss: 0.0459 - acc: 0.9836 - val_loss: 0.0480 - val_acc: 0.9800\n",
            "Epoch 74/1000\n",
            "225/225 [==============================] - 25s 111ms/step - loss: 0.0455 - acc: 0.9840 - val_loss: 0.0491 - val_acc: 0.9812\n",
            "Epoch 75/1000\n",
            "225/225 [==============================] - 25s 112ms/step - loss: 0.0456 - acc: 0.9826 - val_loss: 0.0475 - val_acc: 0.9825\n",
            "Epoch 76/1000\n",
            "225/225 [==============================] - 25s 112ms/step - loss: 0.0449 - acc: 0.9842 - val_loss: 0.0473 - val_acc: 0.9825\n",
            "Epoch 77/1000\n",
            "225/225 [==============================] - 25s 112ms/step - loss: 0.0453 - acc: 0.9831 - val_loss: 0.0473 - val_acc: 0.9812\n",
            "Epoch 78/1000\n",
            "225/225 [==============================] - 25s 112ms/step - loss: 0.0445 - acc: 0.9844 - val_loss: 0.0482 - val_acc: 0.9812\n",
            "Epoch 79/1000\n",
            "225/225 [==============================] - 25s 112ms/step - loss: 0.0441 - acc: 0.9850 - val_loss: 0.0466 - val_acc: 0.9825\n",
            "Epoch 80/1000\n",
            "225/225 [==============================] - 25s 111ms/step - loss: 0.0440 - acc: 0.9846 - val_loss: 0.0465 - val_acc: 0.9825\n",
            "Epoch 81/1000\n",
            "225/225 [==============================] - 25s 111ms/step - loss: 0.0435 - acc: 0.9854 - val_loss: 0.0462 - val_acc: 0.9825\n",
            "Epoch 82/1000\n",
            "225/225 [==============================] - 25s 112ms/step - loss: 0.0428 - acc: 0.9849 - val_loss: 0.0464 - val_acc: 0.9850\n",
            "Epoch 83/1000\n",
            "225/225 [==============================] - 25s 112ms/step - loss: 0.0433 - acc: 0.9853 - val_loss: 0.0460 - val_acc: 0.9850\n",
            "Epoch 84/1000\n",
            "225/225 [==============================] - 25s 111ms/step - loss: 0.0433 - acc: 0.9844 - val_loss: 0.0465 - val_acc: 0.9825\n",
            "Epoch 85/1000\n",
            "225/225 [==============================] - 25s 111ms/step - loss: 0.0428 - acc: 0.9850 - val_loss: 0.0460 - val_acc: 0.9825\n",
            "Epoch 86/1000\n",
            "225/225 [==============================] - 25s 112ms/step - loss: 0.0422 - acc: 0.9850 - val_loss: 0.0455 - val_acc: 0.9850\n",
            "Epoch 87/1000\n",
            "225/225 [==============================] - 25s 112ms/step - loss: 0.0418 - acc: 0.9860 - val_loss: 0.0450 - val_acc: 0.9837\n",
            "Epoch 88/1000\n",
            "225/225 [==============================] - 25s 112ms/step - loss: 0.0417 - acc: 0.9862 - val_loss: 0.0480 - val_acc: 0.9825\n",
            "Epoch 89/1000\n",
            "225/225 [==============================] - 25s 112ms/step - loss: 0.0420 - acc: 0.9862 - val_loss: 0.0449 - val_acc: 0.9850\n",
            "Epoch 90/1000\n",
            "225/225 [==============================] - 25s 112ms/step - loss: 0.0412 - acc: 0.9860 - val_loss: 0.0449 - val_acc: 0.9850\n",
            "Epoch 91/1000\n",
            "225/225 [==============================] - 25s 112ms/step - loss: 0.0412 - acc: 0.9865 - val_loss: 0.0444 - val_acc: 0.9850\n",
            "Epoch 92/1000\n",
            "225/225 [==============================] - 25s 112ms/step - loss: 0.0410 - acc: 0.9857 - val_loss: 0.0467 - val_acc: 0.9825\n",
            "Epoch 93/1000\n",
            "225/225 [==============================] - 25s 111ms/step - loss: 0.0409 - acc: 0.9858 - val_loss: 0.0439 - val_acc: 0.9850\n",
            "Epoch 94/1000\n",
            "225/225 [==============================] - 25s 112ms/step - loss: 0.0405 - acc: 0.9862 - val_loss: 0.0442 - val_acc: 0.9850\n",
            "Epoch 95/1000\n",
            "225/225 [==============================] - 25s 112ms/step - loss: 0.0399 - acc: 0.9865 - val_loss: 0.0435 - val_acc: 0.9862\n",
            "Epoch 96/1000\n",
            "225/225 [==============================] - 25s 112ms/step - loss: 0.0399 - acc: 0.9862 - val_loss: 0.0449 - val_acc: 0.9837\n",
            "Epoch 97/1000\n",
            "225/225 [==============================] - 25s 111ms/step - loss: 0.0399 - acc: 0.9868 - val_loss: 0.0432 - val_acc: 0.9862\n",
            "Epoch 98/1000\n",
            "225/225 [==============================] - 25s 112ms/step - loss: 0.0396 - acc: 0.9869 - val_loss: 0.0435 - val_acc: 0.9837\n",
            "Epoch 99/1000\n",
            "225/225 [==============================] - 25s 112ms/step - loss: 0.0398 - acc: 0.9871 - val_loss: 0.0440 - val_acc: 0.9837\n",
            "Epoch 100/1000\n",
            "225/225 [==============================] - 25s 112ms/step - loss: 0.0391 - acc: 0.9872 - val_loss: 0.0426 - val_acc: 0.9862\n",
            "Epoch 101/1000\n",
            "225/225 [==============================] - 25s 111ms/step - loss: 0.0392 - acc: 0.9867 - val_loss: 0.0430 - val_acc: 0.9837\n",
            "Epoch 102/1000\n",
            "225/225 [==============================] - 25s 111ms/step - loss: 0.0390 - acc: 0.9862 - val_loss: 0.0425 - val_acc: 0.9875\n",
            "Epoch 103/1000\n",
            "225/225 [==============================] - 25s 112ms/step - loss: 0.0386 - acc: 0.9878 - val_loss: 0.0424 - val_acc: 0.9862\n",
            "Epoch 104/1000\n",
            "225/225 [==============================] - 25s 111ms/step - loss: 0.0381 - acc: 0.9879 - val_loss: 0.0421 - val_acc: 0.9862\n",
            "Epoch 105/1000\n",
            "225/225 [==============================] - 25s 112ms/step - loss: 0.0383 - acc: 0.9876 - val_loss: 0.0423 - val_acc: 0.9875\n",
            "Epoch 106/1000\n",
            "225/225 [==============================] - 25s 112ms/step - loss: 0.0385 - acc: 0.9868 - val_loss: 0.0423 - val_acc: 0.9875\n",
            "Epoch 107/1000\n",
            "225/225 [==============================] - 25s 112ms/step - loss: 0.0380 - acc: 0.9868 - val_loss: 0.0508 - val_acc: 0.9837\n",
            "Epoch 108/1000\n",
            "225/225 [==============================] - 25s 112ms/step - loss: 0.0382 - acc: 0.9876 - val_loss: 0.0428 - val_acc: 0.9850\n",
            "Epoch 109/1000\n",
            "225/225 [==============================] - 25s 112ms/step - loss: 0.0377 - acc: 0.9871 - val_loss: 0.0418 - val_acc: 0.9862\n",
            "Epoch 110/1000\n",
            "225/225 [==============================] - 25s 112ms/step - loss: 0.0376 - acc: 0.9875 - val_loss: 0.0413 - val_acc: 0.9875\n",
            "Epoch 111/1000\n",
            "225/225 [==============================] - 25s 111ms/step - loss: 0.0375 - acc: 0.9885 - val_loss: 0.0411 - val_acc: 0.9875\n",
            "Epoch 112/1000\n",
            "225/225 [==============================] - 25s 111ms/step - loss: 0.0372 - acc: 0.9881 - val_loss: 0.0418 - val_acc: 0.9875\n",
            "Epoch 113/1000\n",
            "225/225 [==============================] - 25s 112ms/step - loss: 0.0372 - acc: 0.9879 - val_loss: 0.0417 - val_acc: 0.9850\n",
            "Epoch 114/1000\n",
            "225/225 [==============================] - 25s 111ms/step - loss: 0.0371 - acc: 0.9876 - val_loss: 0.0405 - val_acc: 0.9887\n",
            "Epoch 115/1000\n",
            "225/225 [==============================] - 25s 112ms/step - loss: 0.0367 - acc: 0.9881 - val_loss: 0.0408 - val_acc: 0.9887\n",
            "Epoch 116/1000\n",
            "225/225 [==============================] - 25s 112ms/step - loss: 0.0368 - acc: 0.9878 - val_loss: 0.0404 - val_acc: 0.9887\n",
            "Epoch 117/1000\n",
            "225/225 [==============================] - 25s 111ms/step - loss: 0.0363 - acc: 0.9885 - val_loss: 0.0405 - val_acc: 0.9887\n",
            "Epoch 118/1000\n",
            "225/225 [==============================] - 25s 112ms/step - loss: 0.0356 - acc: 0.9893 - val_loss: 0.0402 - val_acc: 0.9887\n",
            "Epoch 119/1000\n",
            "225/225 [==============================] - 25s 112ms/step - loss: 0.0364 - acc: 0.9878 - val_loss: 0.0417 - val_acc: 0.9850\n",
            "Epoch 120/1000\n",
            "225/225 [==============================] - 25s 112ms/step - loss: 0.0354 - acc: 0.9889 - val_loss: 0.0399 - val_acc: 0.9887\n",
            "Epoch 121/1000\n",
            "225/225 [==============================] - 25s 112ms/step - loss: 0.0360 - acc: 0.9878 - val_loss: 0.0400 - val_acc: 0.9887\n",
            "Epoch 122/1000\n",
            "225/225 [==============================] - 25s 112ms/step - loss: 0.0353 - acc: 0.9886 - val_loss: 0.0404 - val_acc: 0.9862\n",
            "Epoch 123/1000\n",
            "225/225 [==============================] - 25s 111ms/step - loss: 0.0361 - acc: 0.9882 - val_loss: 0.0393 - val_acc: 0.9900\n",
            "Epoch 124/1000\n",
            "225/225 [==============================] - 25s 112ms/step - loss: 0.0348 - acc: 0.9889 - val_loss: 0.0404 - val_acc: 0.9862\n",
            "Epoch 125/1000\n",
            "225/225 [==============================] - 25s 112ms/step - loss: 0.0353 - acc: 0.9893 - val_loss: 0.0393 - val_acc: 0.9900\n",
            "Epoch 126/1000\n",
            "225/225 [==============================] - 25s 112ms/step - loss: 0.0349 - acc: 0.9885 - val_loss: 0.0390 - val_acc: 0.9900\n",
            "Epoch 127/1000\n",
            "225/225 [==============================] - 25s 112ms/step - loss: 0.0349 - acc: 0.9886 - val_loss: 0.0400 - val_acc: 0.9875\n",
            "Epoch 128/1000\n",
            "225/225 [==============================] - 25s 112ms/step - loss: 0.0347 - acc: 0.9889 - val_loss: 0.0385 - val_acc: 0.9900\n",
            "Epoch 129/1000\n",
            "225/225 [==============================] - 25s 112ms/step - loss: 0.0350 - acc: 0.9890 - val_loss: 0.0389 - val_acc: 0.9887\n",
            "Epoch 130/1000\n",
            "225/225 [==============================] - 25s 112ms/step - loss: 0.0344 - acc: 0.9887 - val_loss: 0.0384 - val_acc: 0.9900\n",
            "Epoch 131/1000\n",
            "225/225 [==============================] - 25s 112ms/step - loss: 0.0344 - acc: 0.9890 - val_loss: 0.0386 - val_acc: 0.9900\n",
            "Epoch 132/1000\n",
            "225/225 [==============================] - 25s 112ms/step - loss: 0.0340 - acc: 0.9894 - val_loss: 0.0381 - val_acc: 0.9900\n",
            "Epoch 133/1000\n",
            "225/225 [==============================] - 25s 111ms/step - loss: 0.0340 - acc: 0.9893 - val_loss: 0.0384 - val_acc: 0.9887\n",
            "Epoch 134/1000\n",
            "225/225 [==============================] - 25s 112ms/step - loss: 0.0344 - acc: 0.9896 - val_loss: 0.0377 - val_acc: 0.9900\n",
            "Epoch 135/1000\n",
            "225/225 [==============================] - 25s 111ms/step - loss: 0.0340 - acc: 0.9890 - val_loss: 0.0440 - val_acc: 0.9850\n",
            "Epoch 136/1000\n",
            "225/225 [==============================] - 25s 111ms/step - loss: 0.0337 - acc: 0.9893 - val_loss: 0.0378 - val_acc: 0.9900\n",
            "Epoch 137/1000\n",
            "225/225 [==============================] - 25s 111ms/step - loss: 0.0333 - acc: 0.9897 - val_loss: 0.0379 - val_acc: 0.9900\n",
            "Epoch 138/1000\n",
            "225/225 [==============================] - 25s 111ms/step - loss: 0.0341 - acc: 0.9890 - val_loss: 0.0372 - val_acc: 0.9900\n",
            "Epoch 139/1000\n",
            "225/225 [==============================] - 25s 112ms/step - loss: 0.0331 - acc: 0.9900 - val_loss: 0.0381 - val_acc: 0.9887\n",
            "Epoch 140/1000\n",
            "225/225 [==============================] - 25s 112ms/step - loss: 0.0336 - acc: 0.9890 - val_loss: 0.0376 - val_acc: 0.9887\n",
            "Epoch 141/1000\n",
            "225/225 [==============================] - 25s 112ms/step - loss: 0.0331 - acc: 0.9893 - val_loss: 0.0370 - val_acc: 0.9900\n",
            "Epoch 142/1000\n",
            "225/225 [==============================] - 26s 114ms/step - loss: 0.0344 - acc: 0.9887 - val_loss: 0.0384 - val_acc: 0.9900\n",
            "Epoch 143/1000\n",
            "225/225 [==============================] - 25s 112ms/step - loss: 0.0329 - acc: 0.9897 - val_loss: 0.0373 - val_acc: 0.9912\n",
            "Epoch 144/1000\n",
            "225/225 [==============================] - 25s 112ms/step - loss: 0.0331 - acc: 0.9894 - val_loss: 0.0368 - val_acc: 0.9900\n",
            "Epoch 145/1000\n",
            "225/225 [==============================] - 25s 111ms/step - loss: 0.0328 - acc: 0.9899 - val_loss: 0.0370 - val_acc: 0.9912\n",
            "Epoch 146/1000\n",
            "225/225 [==============================] - 25s 111ms/step - loss: 0.0323 - acc: 0.9899 - val_loss: 0.0399 - val_acc: 0.9875\n",
            "Epoch 147/1000\n",
            "225/225 [==============================] - 25s 112ms/step - loss: 0.0319 - acc: 0.9904 - val_loss: 0.0385 - val_acc: 0.9900\n",
            "Epoch 148/1000\n",
            "225/225 [==============================] - 25s 111ms/step - loss: 0.0326 - acc: 0.9896 - val_loss: 0.0418 - val_acc: 0.9875\n",
            "Epoch 149/1000\n",
            "225/225 [==============================] - 25s 112ms/step - loss: 0.0326 - acc: 0.9897 - val_loss: 0.0363 - val_acc: 0.9900\n",
            "Epoch 150/1000\n",
            "225/225 [==============================] - 25s 112ms/step - loss: 0.0327 - acc: 0.9892 - val_loss: 0.0379 - val_acc: 0.9900\n",
            "Epoch 151/1000\n",
            "225/225 [==============================] - 25s 111ms/step - loss: 0.0329 - acc: 0.9883 - val_loss: 0.0370 - val_acc: 0.9900\n",
            "Epoch 152/1000\n",
            "225/225 [==============================] - 25s 112ms/step - loss: 0.0319 - acc: 0.9912 - val_loss: 0.0361 - val_acc: 0.9912\n",
            "Epoch 153/1000\n",
            "225/225 [==============================] - 25s 112ms/step - loss: 0.0316 - acc: 0.9901 - val_loss: 0.0359 - val_acc: 0.9912\n",
            "Epoch 154/1000\n",
            "225/225 [==============================] - 25s 111ms/step - loss: 0.0317 - acc: 0.9892 - val_loss: 0.0377 - val_acc: 0.9900\n",
            "Epoch 155/1000\n",
            "225/225 [==============================] - 25s 111ms/step - loss: 0.0316 - acc: 0.9901 - val_loss: 0.0360 - val_acc: 0.9912\n",
            "Epoch 156/1000\n",
            "225/225 [==============================] - 25s 112ms/step - loss: 0.0321 - acc: 0.9908 - val_loss: 0.0360 - val_acc: 0.9887\n",
            "Epoch 157/1000\n",
            "225/225 [==============================] - 25s 112ms/step - loss: 0.0318 - acc: 0.9900 - val_loss: 0.0377 - val_acc: 0.9900\n",
            "Epoch 158/1000\n",
            "225/225 [==============================] - 25s 111ms/step - loss: 0.0312 - acc: 0.9904 - val_loss: 0.0354 - val_acc: 0.9912\n",
            "Epoch 159/1000\n",
            "225/225 [==============================] - 25s 111ms/step - loss: 0.0314 - acc: 0.9892 - val_loss: 0.0362 - val_acc: 0.9912\n",
            "Epoch 160/1000\n",
            "225/225 [==============================] - 25s 112ms/step - loss: 0.0316 - acc: 0.9901 - val_loss: 0.0362 - val_acc: 0.9912\n",
            "Epoch 161/1000\n",
            "225/225 [==============================] - 25s 112ms/step - loss: 0.0314 - acc: 0.9911 - val_loss: 0.0353 - val_acc: 0.9912\n",
            "Epoch 162/1000\n",
            "225/225 [==============================] - 25s 111ms/step - loss: 0.0314 - acc: 0.9897 - val_loss: 0.0374 - val_acc: 0.9900\n",
            "Epoch 163/1000\n",
            "225/225 [==============================] - 25s 112ms/step - loss: 0.0330 - acc: 0.9892 - val_loss: 0.0367 - val_acc: 0.9900\n",
            "Epoch 164/1000\n",
            "225/225 [==============================] - 25s 112ms/step - loss: 0.0311 - acc: 0.9900 - val_loss: 0.0373 - val_acc: 0.9900\n",
            "Epoch 165/1000\n",
            "225/225 [==============================] - 25s 112ms/step - loss: 0.0309 - acc: 0.9899 - val_loss: 0.0349 - val_acc: 0.9912\n",
            "Epoch 166/1000\n",
            "225/225 [==============================] - 25s 112ms/step - loss: 0.0311 - acc: 0.9897 - val_loss: 0.0378 - val_acc: 0.9900\n",
            "Epoch 167/1000\n",
            "225/225 [==============================] - 25s 112ms/step - loss: 0.0310 - acc: 0.9900 - val_loss: 0.0357 - val_acc: 0.9912\n",
            "Epoch 168/1000\n",
            "225/225 [==============================] - 25s 112ms/step - loss: 0.0313 - acc: 0.9904 - val_loss: 0.0347 - val_acc: 0.9912\n",
            "Epoch 169/1000\n",
            "225/225 [==============================] - 25s 112ms/step - loss: 0.0314 - acc: 0.9894 - val_loss: 0.0370 - val_acc: 0.9900\n",
            "Epoch 170/1000\n",
            "225/225 [==============================] - 25s 112ms/step - loss: 0.0306 - acc: 0.9907 - val_loss: 0.0344 - val_acc: 0.9912\n",
            "Epoch 171/1000\n",
            "225/225 [==============================] - 25s 112ms/step - loss: 0.0305 - acc: 0.9910 - val_loss: 0.0342 - val_acc: 0.9912\n",
            "Epoch 172/1000\n",
            "225/225 [==============================] - 25s 111ms/step - loss: 0.0306 - acc: 0.9900 - val_loss: 0.0346 - val_acc: 0.9900\n",
            "Epoch 173/1000\n",
            "225/225 [==============================] - 25s 111ms/step - loss: 0.0310 - acc: 0.9900 - val_loss: 0.0351 - val_acc: 0.9912\n",
            "Epoch 174/1000\n",
            "225/225 [==============================] - 25s 112ms/step - loss: 0.0307 - acc: 0.9907 - val_loss: 0.0341 - val_acc: 0.9900\n",
            "Epoch 175/1000\n",
            "225/225 [==============================] - 25s 112ms/step - loss: 0.0304 - acc: 0.9903 - val_loss: 0.0343 - val_acc: 0.9912\n",
            "Epoch 176/1000\n",
            "225/225 [==============================] - 25s 111ms/step - loss: 0.0306 - acc: 0.9907 - val_loss: 0.0383 - val_acc: 0.9887\n",
            "Epoch 177/1000\n",
            "225/225 [==============================] - 25s 112ms/step - loss: 0.0303 - acc: 0.9914 - val_loss: 0.0362 - val_acc: 0.9875\n",
            "Epoch 178/1000\n",
            "225/225 [==============================] - 25s 111ms/step - loss: 0.0307 - acc: 0.9904 - val_loss: 0.0344 - val_acc: 0.9912\n",
            "Epoch 179/1000\n",
            "225/225 [==============================] - 25s 112ms/step - loss: 0.0302 - acc: 0.9906 - val_loss: 0.0345 - val_acc: 0.9900\n",
            "Epoch 180/1000\n",
            "225/225 [==============================] - 25s 112ms/step - loss: 0.0303 - acc: 0.9904 - val_loss: 0.0380 - val_acc: 0.9887\n",
            "Epoch 181/1000\n",
            "225/225 [==============================] - 25s 112ms/step - loss: 0.0302 - acc: 0.9900 - val_loss: 0.0339 - val_acc: 0.9912\n",
            "Epoch 182/1000\n",
            "225/225 [==============================] - 25s 112ms/step - loss: 0.0302 - acc: 0.9904 - val_loss: 0.0431 - val_acc: 0.9900\n",
            "Epoch 183/1000\n",
            "225/225 [==============================] - 25s 112ms/step - loss: 0.0307 - acc: 0.9901 - val_loss: 0.0336 - val_acc: 0.9900\n",
            "Epoch 184/1000\n",
            "225/225 [==============================] - 25s 112ms/step - loss: 0.0301 - acc: 0.9908 - val_loss: 0.0389 - val_acc: 0.9887\n",
            "Epoch 185/1000\n",
            "225/225 [==============================] - 25s 111ms/step - loss: 0.0295 - acc: 0.9910 - val_loss: 0.0339 - val_acc: 0.9900\n",
            "Epoch 186/1000\n",
            "225/225 [==============================] - 25s 112ms/step - loss: 0.0310 - acc: 0.9892 - val_loss: 0.0356 - val_acc: 0.9900\n",
            "Epoch 187/1000\n",
            "225/225 [==============================] - 25s 112ms/step - loss: 0.0296 - acc: 0.9911 - val_loss: 0.0337 - val_acc: 0.9912\n",
            "Epoch 188/1000\n",
            "225/225 [==============================] - 25s 111ms/step - loss: 0.0299 - acc: 0.9911 - val_loss: 0.0338 - val_acc: 0.9900\n",
            "Epoch 189/1000\n",
            "225/225 [==============================] - 25s 111ms/step - loss: 0.0297 - acc: 0.9908 - val_loss: 0.0350 - val_acc: 0.9912\n",
            "Epoch 190/1000\n",
            "225/225 [==============================] - 25s 112ms/step - loss: 0.0301 - acc: 0.9914 - val_loss: 0.0337 - val_acc: 0.9900\n",
            "Epoch 191/1000\n",
            "225/225 [==============================] - 25s 111ms/step - loss: 0.0299 - acc: 0.9911 - val_loss: 0.0332 - val_acc: 0.9900\n",
            "Epoch 192/1000\n",
            "225/225 [==============================] - 25s 112ms/step - loss: 0.0295 - acc: 0.9912 - val_loss: 0.0336 - val_acc: 0.9900\n",
            "Epoch 193/1000\n",
            "225/225 [==============================] - 25s 111ms/step - loss: 0.0298 - acc: 0.9910 - val_loss: 0.0336 - val_acc: 0.9912\n",
            "Epoch 194/1000\n",
            "225/225 [==============================] - 25s 112ms/step - loss: 0.0291 - acc: 0.9907 - val_loss: 0.0341 - val_acc: 0.9912\n",
            "Epoch 195/1000\n",
            "225/225 [==============================] - 25s 112ms/step - loss: 0.0298 - acc: 0.9912 - val_loss: 0.0329 - val_acc: 0.9912\n",
            "Epoch 196/1000\n",
            "225/225 [==============================] - 25s 111ms/step - loss: 0.0286 - acc: 0.9914 - val_loss: 0.0340 - val_acc: 0.9887\n",
            "Epoch 197/1000\n",
            "225/225 [==============================] - 25s 112ms/step - loss: 0.0293 - acc: 0.9907 - val_loss: 0.0343 - val_acc: 0.9912\n",
            "Epoch 198/1000\n",
            "225/225 [==============================] - 25s 111ms/step - loss: 0.0292 - acc: 0.9907 - val_loss: 0.0330 - val_acc: 0.9912\n",
            "Epoch 199/1000\n",
            "225/225 [==============================] - 25s 111ms/step - loss: 0.0290 - acc: 0.9910 - val_loss: 0.0345 - val_acc: 0.9912\n",
            "Epoch 200/1000\n",
            "225/225 [==============================] - 25s 112ms/step - loss: 0.0290 - acc: 0.9912 - val_loss: 0.0330 - val_acc: 0.9912\n",
            "Epoch 201/1000\n",
            "225/225 [==============================] - 25s 111ms/step - loss: 0.0291 - acc: 0.9915 - val_loss: 0.0351 - val_acc: 0.9912\n",
            "Epoch 202/1000\n",
            "225/225 [==============================] - 25s 111ms/step - loss: 0.0294 - acc: 0.9910 - val_loss: 0.0336 - val_acc: 0.9912\n",
            "Epoch 203/1000\n",
            "225/225 [==============================] - 25s 111ms/step - loss: 0.0294 - acc: 0.9906 - val_loss: 0.0342 - val_acc: 0.9925\n",
            "Epoch 204/1000\n",
            "225/225 [==============================] - 25s 111ms/step - loss: 0.0290 - acc: 0.9917 - val_loss: 0.0336 - val_acc: 0.9912\n",
            "Epoch 205/1000\n",
            "225/225 [==============================] - 25s 112ms/step - loss: 0.0296 - acc: 0.9907 - val_loss: 0.0339 - val_acc: 0.9912\n"
          ]
        }
      ]
    },
    {
      "cell_type": "code",
      "metadata": {
        "colab": {
          "base_uri": "https://localhost:8080/"
        },
        "id": "S2RATno2vO9s",
        "outputId": "25927796-30b4-434d-ab26-a55b48382af8"
      },
      "source": [
        "model.save('/content/drive/MyDrive/final_models/with_attention/model5.h5')"
      ],
      "execution_count": null,
      "outputs": [
        {
          "name": "stderr",
          "output_type": "stream",
          "text": [
            "/usr/local/lib/python3.7/dist-packages/keras/utils/generic_utils.py:497: CustomMaskWarning: Custom mask layers require a config and must override get_config. When loading, the custom mask layer must be passed to the custom_objects argument.\n",
            "  category=CustomMaskWarning)\n"
          ]
        }
      ]
    },
    {
      "cell_type": "code",
      "metadata": {
        "colab": {
          "base_uri": "https://localhost:8080/"
        },
        "id": "tyQrgqRVvO9s",
        "outputId": "5ebe1eae-df26-4665-a246-bb07c079fb1e"
      },
      "source": [
        "#plot acc and loss\n",
        "import matplotlib.pyplot as plt\n",
        "epochs = range(len(history.history['loss']))\n",
        "plt.plot(epochs , history.history['val_loss'])\n",
        "plt.plot(epochs , history.history['loss'])\n",
        "plt.title('loss')\n",
        "plt.figure()\n",
        "plt.plot(epochs , history.history['val_acc'])\n",
        "plt.plot(epochs , history.history['acc'])\n",
        "plt.title('accuracy')\n",
        "plt.figure()\n",
        "plt.show()"
      ],
      "execution_count": null,
      "outputs": [
        {
          "data": {
            "image/png": "[encoded data removed]",
            "text/plain": [
              "<Figure size 432x288 with 1 Axes>"
            ]
          },
          "metadata": {
            "tags": []
          },
          "output_type": "display_data"
        },
        {
          "data": {
            "image/png": "[encoded data removed]",
            "text/plain": [
              "<Figure size 432x288 with 1 Axes>"
            ]
          },
          "metadata": {
            "tags": []
          },
          "output_type": "display_data"
        },
        {
          "data": {
            "text/plain": [
              "<Figure size 432x288 with 0 Axes>"
            ]
          },
          "metadata": {
            "tags": []
          },
          "output_type": "display_data"
        }
      ]
    },
    {
      "cell_type": "code",
      "metadata": {
        "colab": {
          "base_uri": "https://localhost:8080/"
        },
        "id": "tnv2Q14YvO9t",
        "outputId": "67ddb2d5-c581-41eb-b17a-34cbbc4d3744"
      },
      "source": [
        "model.evaluate(test_data , test_label)"
      ],
      "execution_count": null,
      "outputs": [
        {
          "name": "stdout",
          "output_type": "stream",
          "text": [
            "74/74 [==============================] - 3s 37ms/step - loss: 0.0362 - acc: 0.9872\n"
          ]
        },
        {
          "data": {
            "text/plain": [
              "[0.036203570663928986, 0.9872013926506042]"
            ]
          },
          "execution_count": 40,
          "metadata": {
            "tags": []
          },
          "output_type": "execute_result"
        }
      ]
    },
    {
      "cell_type": "code",
      "metadata": {
        "colab": {
          "base_uri": "https://localhost:8080/"
        },
        "id": "EZjFB7bAvO9t",
        "outputId": "f400051d-73bc-449e-fd6e-63f568e32c0f"
      },
      "source": [
        "# performance measurements on test data 2\n",
        "\n",
        "pred = model.predict(test_data)\n",
        "\n",
        "thresh = find_opt_thresh(test_label , pred)\n",
        "print(thresh)\n",
        "prediction = np.zeros(np.shape(pred))\n",
        "prediction[pred > thresh] = 1\n",
        "\n",
        "from sklearn.metrics import accuracy_score\n",
        "accuracy = accuracy_score(test_label   , prediction)\n",
        "print('accuracy is:' , np.round(accuracy*100,2) , '%')\n",
        "print('___________________________________________')\n",
        "from sklearn.metrics import precision_score\n",
        "pscore = precision_score(test_label   , prediction)\n",
        "print('precision score is:' , np.round(pscore*100,2) , '%')\n",
        "print('___________________________________________')\n",
        "from sklearn.metrics import recall_score\n",
        "rscore = recall_score(test_label   , prediction)\n",
        "print('recall score is:' , np.round(rscore*100,2) , '%')\n",
        "print('___________________________________________')\n",
        "from sklearn.metrics import f1_score\n",
        "fscore = f1_score(test_label   , prediction)\n",
        "print('f1 score is:' , np.round(fscore*100,2) , '%')\n",
        "print('___________________________________________')\n",
        "spc = specificity_score(test_label   , prediction)\n",
        "print('specificity is:' , np.round(spc*100,2) , '%')\n",
        "print('___________________________________________')\n",
        "sen = sensitivity_score(test_label   , prediction)\n",
        "print('sensitivity is:' , np.round(sen*100,2) , '%')\n",
        "print('___________________________________________')\n",
        "from sklearn.metrics import roc_auc_score\n",
        "auc = roc_auc_score(test_label   , prediction)\n",
        "print('AUC is:' , np.round(auc,4))"
      ],
      "execution_count": null,
      "outputs": [
        {
          "name": "stdout",
          "output_type": "stream",
          "text": [
            "[0.5073751]\n",
            "accuracy is: 98.76 %\n",
            "___________________________________________\n",
            "precision score is: 71.43 %\n",
            "___________________________________________\n",
            "recall score is: 75.47 %\n",
            "___________________________________________\n",
            "f1 score is: 73.39 %\n",
            "___________________________________________\n",
            "specificity is: 99.3 %\n",
            "___________________________________________\n",
            "sensitivity is: 75.47 %\n",
            "___________________________________________\n",
            "AUC is: 0.8739\n"
          ]
        }
      ]
    },
    {
      "cell_type": "markdown",
      "metadata": {
        "id": "Z2Pj994svZlW"
      },
      "source": [
        "#### Fold 6"
      ]
    },
    {
      "cell_type": "code",
      "metadata": {
        "id": "CB_hxcBUvZlW"
      },
      "source": [
        "model = CompModel()"
      ],
      "execution_count": null,
      "outputs": []
    },
    {
      "cell_type": "code",
      "metadata": {
        "colab": {
          "base_uri": "https://localhost:8080/"
        },
        "id": "EY_ZgDRSvZlW",
        "outputId": "8d7d7a10-f68e-4d3d-f3e2-7debc8695b12"
      },
      "source": [
        "history = model.fit(train_data[train_indices[5]], train_label[train_indices[5]],\n",
        "            epochs=1000,\n",
        "            validation_data = (train_data[test_indices[5]] , train_label[test_indices[5]]),\n",
        "            callbacks = [early_stopping_cb],\n",
        "            verbose = 1)"
      ],
      "execution_count": null,
      "outputs": [
        {
          "name": "stdout",
          "output_type": "stream",
          "text": [
            "Epoch 1/1000\n",
            "225/225 [==============================] - 28s 115ms/step - loss: 0.6758 - acc: 0.9778 - val_loss: 0.6380 - val_acc: 0.9775\n",
            "Epoch 2/1000\n",
            "225/225 [==============================] - 25s 112ms/step - loss: 0.3632 - acc: 0.9778 - val_loss: 0.1367 - val_acc: 0.9775\n",
            "Epoch 3/1000\n",
            "225/225 [==============================] - 25s 112ms/step - loss: 0.1296 - acc: 0.9778 - val_loss: 0.1285 - val_acc: 0.9775\n",
            "Epoch 4/1000\n",
            "225/225 [==============================] - 25s 112ms/step - loss: 0.1249 - acc: 0.9778 - val_loss: 0.1251 - val_acc: 0.9775\n",
            "Epoch 5/1000\n",
            "225/225 [==============================] - 25s 112ms/step - loss: 0.1219 - acc: 0.9778 - val_loss: 0.1224 - val_acc: 0.9775\n",
            "Epoch 6/1000\n",
            "225/225 [==============================] - 25s 112ms/step - loss: 0.1193 - acc: 0.9778 - val_loss: 0.1204 - val_acc: 0.9775\n",
            "Epoch 7/1000\n",
            "225/225 [==============================] - 25s 112ms/step - loss: 0.1173 - acc: 0.9778 - val_loss: 0.1180 - val_acc: 0.9775\n",
            "Epoch 8/1000\n",
            "225/225 [==============================] - 25s 112ms/step - loss: 0.1156 - acc: 0.9778 - val_loss: 0.1165 - val_acc: 0.9775\n",
            "Epoch 9/1000\n",
            "225/225 [==============================] - 25s 112ms/step - loss: 0.1140 - acc: 0.9778 - val_loss: 0.1148 - val_acc: 0.9775\n",
            "Epoch 10/1000\n",
            "225/225 [==============================] - 25s 112ms/step - loss: 0.1128 - acc: 0.9778 - val_loss: 0.1134 - val_acc: 0.9775\n",
            "Epoch 11/1000\n",
            "225/225 [==============================] - 25s 112ms/step - loss: 0.1114 - acc: 0.9778 - val_loss: 0.1129 - val_acc: 0.9775\n",
            "Epoch 12/1000\n",
            "225/225 [==============================] - 25s 112ms/step - loss: 0.1107 - acc: 0.9778 - val_loss: 0.1113 - val_acc: 0.9775\n",
            "Epoch 13/1000\n",
            "225/225 [==============================] - 25s 112ms/step - loss: 0.1097 - acc: 0.9778 - val_loss: 0.1102 - val_acc: 0.9775\n",
            "Epoch 14/1000\n",
            "225/225 [==============================] - 25s 112ms/step - loss: 0.1089 - acc: 0.9778 - val_loss: 0.1092 - val_acc: 0.9775\n",
            "Epoch 15/1000\n",
            "225/225 [==============================] - 25s 112ms/step - loss: 0.1080 - acc: 0.9778 - val_loss: 0.1083 - val_acc: 0.9775\n",
            "Epoch 16/1000\n",
            "225/225 [==============================] - 25s 112ms/step - loss: 0.1072 - acc: 0.9778 - val_loss: 0.1074 - val_acc: 0.9775\n",
            "Epoch 17/1000\n",
            "225/225 [==============================] - 25s 112ms/step - loss: 0.1061 - acc: 0.9778 - val_loss: 0.1063 - val_acc: 0.9775\n",
            "Epoch 18/1000\n",
            "225/225 [==============================] - 25s 112ms/step - loss: 0.1053 - acc: 0.9778 - val_loss: 0.1050 - val_acc: 0.9775\n",
            "Epoch 19/1000\n",
            "225/225 [==============================] - 25s 112ms/step - loss: 0.1038 - acc: 0.9778 - val_loss: 0.1039 - val_acc: 0.9775\n",
            "Epoch 20/1000\n",
            "225/225 [==============================] - 25s 112ms/step - loss: 0.1023 - acc: 0.9778 - val_loss: 0.1015 - val_acc: 0.9775\n",
            "Epoch 21/1000\n",
            "225/225 [==============================] - 25s 112ms/step - loss: 0.1001 - acc: 0.9778 - val_loss: 0.0991 - val_acc: 0.9775\n",
            "Epoch 22/1000\n",
            "225/225 [==============================] - 25s 112ms/step - loss: 0.0973 - acc: 0.9778 - val_loss: 0.0967 - val_acc: 0.9775\n",
            "Epoch 23/1000\n",
            "225/225 [==============================] - 25s 112ms/step - loss: 0.0941 - acc: 0.9778 - val_loss: 0.0925 - val_acc: 0.9775\n",
            "Epoch 24/1000\n",
            "225/225 [==============================] - 25s 112ms/step - loss: 0.0909 - acc: 0.9778 - val_loss: 0.0900 - val_acc: 0.9775\n",
            "Epoch 25/1000\n",
            "225/225 [==============================] - 25s 112ms/step - loss: 0.0878 - acc: 0.9778 - val_loss: 0.0857 - val_acc: 0.9775\n",
            "Epoch 26/1000\n",
            "225/225 [==============================] - 25s 112ms/step - loss: 0.0850 - acc: 0.9778 - val_loss: 0.0831 - val_acc: 0.9775\n",
            "Epoch 27/1000\n",
            "225/225 [==============================] - 25s 112ms/step - loss: 0.0824 - acc: 0.9778 - val_loss: 0.0803 - val_acc: 0.9775\n",
            "Epoch 28/1000\n",
            "225/225 [==============================] - 25s 112ms/step - loss: 0.0801 - acc: 0.9778 - val_loss: 0.0781 - val_acc: 0.9775\n",
            "Epoch 29/1000\n",
            "225/225 [==============================] - 25s 112ms/step - loss: 0.0781 - acc: 0.9778 - val_loss: 0.0762 - val_acc: 0.9775\n",
            "Epoch 30/1000\n",
            "225/225 [==============================] - 25s 112ms/step - loss: 0.0755 - acc: 0.9778 - val_loss: 0.0734 - val_acc: 0.9775\n",
            "Epoch 31/1000\n",
            "225/225 [==============================] - 25s 112ms/step - loss: 0.0735 - acc: 0.9778 - val_loss: 0.0706 - val_acc: 0.9775\n",
            "Epoch 32/1000\n",
            "225/225 [==============================] - 25s 112ms/step - loss: 0.0707 - acc: 0.9778 - val_loss: 0.0680 - val_acc: 0.9775\n",
            "Epoch 33/1000\n",
            "225/225 [==============================] - 25s 112ms/step - loss: 0.0685 - acc: 0.9778 - val_loss: 0.0657 - val_acc: 0.9775\n",
            "Epoch 34/1000\n",
            "225/225 [==============================] - 25s 112ms/step - loss: 0.0664 - acc: 0.9778 - val_loss: 0.0631 - val_acc: 0.9775\n",
            "Epoch 35/1000\n",
            "225/225 [==============================] - 25s 112ms/step - loss: 0.0646 - acc: 0.9778 - val_loss: 0.0617 - val_acc: 0.9775\n",
            "Epoch 36/1000\n",
            "225/225 [==============================] - 25s 112ms/step - loss: 0.0630 - acc: 0.9778 - val_loss: 0.0593 - val_acc: 0.9775\n",
            "Epoch 37/1000\n",
            "225/225 [==============================] - 25s 112ms/step - loss: 0.0611 - acc: 0.9778 - val_loss: 0.0578 - val_acc: 0.9775\n",
            "Epoch 38/1000\n",
            "225/225 [==============================] - 25s 112ms/step - loss: 0.0594 - acc: 0.9778 - val_loss: 0.0562 - val_acc: 0.9775\n",
            "Epoch 39/1000\n",
            "225/225 [==============================] - 25s 112ms/step - loss: 0.0579 - acc: 0.9776 - val_loss: 0.0549 - val_acc: 0.9775\n",
            "Epoch 40/1000\n",
            "225/225 [==============================] - 25s 112ms/step - loss: 0.0571 - acc: 0.9776 - val_loss: 0.0536 - val_acc: 0.9775\n",
            "Epoch 41/1000\n",
            "225/225 [==============================] - 25s 112ms/step - loss: 0.0554 - acc: 0.9775 - val_loss: 0.0524 - val_acc: 0.9787\n",
            "Epoch 42/1000\n",
            "225/225 [==============================] - 25s 112ms/step - loss: 0.0544 - acc: 0.9771 - val_loss: 0.0512 - val_acc: 0.9787\n",
            "Epoch 43/1000\n",
            "225/225 [==============================] - 25s 112ms/step - loss: 0.0530 - acc: 0.9774 - val_loss: 0.0499 - val_acc: 0.9787\n",
            "Epoch 44/1000\n",
            "225/225 [==============================] - 25s 112ms/step - loss: 0.0518 - acc: 0.9776 - val_loss: 0.0488 - val_acc: 0.9787\n",
            "Epoch 45/1000\n",
            "225/225 [==============================] - 25s 112ms/step - loss: 0.0507 - acc: 0.9782 - val_loss: 0.0482 - val_acc: 0.9800\n",
            "Epoch 46/1000\n",
            "225/225 [==============================] - 25s 112ms/step - loss: 0.0496 - acc: 0.9794 - val_loss: 0.0477 - val_acc: 0.9812\n",
            "Epoch 47/1000\n",
            "225/225 [==============================] - 25s 112ms/step - loss: 0.0495 - acc: 0.9804 - val_loss: 0.0465 - val_acc: 0.9825\n",
            "Epoch 48/1000\n",
            "225/225 [==============================] - 25s 112ms/step - loss: 0.0480 - acc: 0.9814 - val_loss: 0.0456 - val_acc: 0.9837\n",
            "Epoch 49/1000\n",
            "225/225 [==============================] - 25s 112ms/step - loss: 0.0472 - acc: 0.9824 - val_loss: 0.0452 - val_acc: 0.9825\n",
            "Epoch 50/1000\n",
            "225/225 [==============================] - 25s 112ms/step - loss: 0.0469 - acc: 0.9832 - val_loss: 0.0444 - val_acc: 0.9837\n",
            "Epoch 51/1000\n",
            "225/225 [==============================] - 25s 112ms/step - loss: 0.0459 - acc: 0.9842 - val_loss: 0.0436 - val_acc: 0.9837\n",
            "Epoch 52/1000\n",
            "225/225 [==============================] - 25s 112ms/step - loss: 0.0445 - acc: 0.9847 - val_loss: 0.0432 - val_acc: 0.9825\n",
            "Epoch 53/1000\n",
            "225/225 [==============================] - 25s 112ms/step - loss: 0.0443 - acc: 0.9851 - val_loss: 0.0427 - val_acc: 0.9850\n",
            "Epoch 54/1000\n",
            "225/225 [==============================] - 25s 112ms/step - loss: 0.0431 - acc: 0.9853 - val_loss: 0.0422 - val_acc: 0.9862\n",
            "Epoch 55/1000\n",
            "225/225 [==============================] - 25s 112ms/step - loss: 0.0428 - acc: 0.9854 - val_loss: 0.0416 - val_acc: 0.9850\n",
            "Epoch 56/1000\n",
            "225/225 [==============================] - 25s 112ms/step - loss: 0.0422 - acc: 0.9857 - val_loss: 0.0417 - val_acc: 0.9850\n",
            "Epoch 57/1000\n",
            "225/225 [==============================] - 25s 112ms/step - loss: 0.0418 - acc: 0.9861 - val_loss: 0.0411 - val_acc: 0.9875\n",
            "Epoch 58/1000\n",
            "225/225 [==============================] - 25s 112ms/step - loss: 0.0409 - acc: 0.9860 - val_loss: 0.0408 - val_acc: 0.9850\n",
            "Epoch 59/1000\n",
            "225/225 [==============================] - 25s 112ms/step - loss: 0.0405 - acc: 0.9853 - val_loss: 0.0408 - val_acc: 0.9850\n",
            "Epoch 60/1000\n",
            "225/225 [==============================] - 25s 112ms/step - loss: 0.0401 - acc: 0.9857 - val_loss: 0.0410 - val_acc: 0.9850\n",
            "Epoch 61/1000\n",
            "225/225 [==============================] - 25s 111ms/step - loss: 0.0392 - acc: 0.9871 - val_loss: 0.0401 - val_acc: 0.9875\n",
            "Epoch 62/1000\n",
            "225/225 [==============================] - 25s 111ms/step - loss: 0.0387 - acc: 0.9861 - val_loss: 0.0405 - val_acc: 0.9862\n",
            "Epoch 63/1000\n",
            "225/225 [==============================] - 25s 112ms/step - loss: 0.0383 - acc: 0.9868 - val_loss: 0.0409 - val_acc: 0.9850\n",
            "Epoch 64/1000\n",
            "225/225 [==============================] - 25s 111ms/step - loss: 0.0382 - acc: 0.9869 - val_loss: 0.0423 - val_acc: 0.9837\n",
            "Epoch 65/1000\n",
            "225/225 [==============================] - 25s 112ms/step - loss: 0.0377 - acc: 0.9882 - val_loss: 0.0417 - val_acc: 0.9850\n",
            "Epoch 66/1000\n",
            "225/225 [==============================] - 25s 112ms/step - loss: 0.0370 - acc: 0.9883 - val_loss: 0.0389 - val_acc: 0.9875\n",
            "Epoch 67/1000\n",
            "225/225 [==============================] - 25s 112ms/step - loss: 0.0366 - acc: 0.9874 - val_loss: 0.0387 - val_acc: 0.9875\n",
            "Epoch 68/1000\n",
            "225/225 [==============================] - 25s 112ms/step - loss: 0.0363 - acc: 0.9878 - val_loss: 0.0386 - val_acc: 0.9875\n",
            "Epoch 69/1000\n",
            "225/225 [==============================] - 25s 112ms/step - loss: 0.0358 - acc: 0.9882 - val_loss: 0.0390 - val_acc: 0.9875\n",
            "Epoch 70/1000\n",
            "225/225 [==============================] - 25s 112ms/step - loss: 0.0353 - acc: 0.9875 - val_loss: 0.0382 - val_acc: 0.9887\n",
            "Epoch 71/1000\n",
            "225/225 [==============================] - 25s 112ms/step - loss: 0.0354 - acc: 0.9890 - val_loss: 0.0397 - val_acc: 0.9875\n",
            "Epoch 72/1000\n",
            "225/225 [==============================] - 25s 112ms/step - loss: 0.0338 - acc: 0.9893 - val_loss: 0.0425 - val_acc: 0.9862\n",
            "Epoch 73/1000\n",
            "225/225 [==============================] - 25s 112ms/step - loss: 0.0343 - acc: 0.9879 - val_loss: 0.0389 - val_acc: 0.9875\n",
            "Epoch 74/1000\n",
            "225/225 [==============================] - 25s 112ms/step - loss: 0.0339 - acc: 0.9887 - val_loss: 0.0380 - val_acc: 0.9887\n",
            "Epoch 75/1000\n",
            "225/225 [==============================] - 25s 111ms/step - loss: 0.0342 - acc: 0.9883 - val_loss: 0.0384 - val_acc: 0.9875\n",
            "Epoch 76/1000\n",
            "225/225 [==============================] - 25s 111ms/step - loss: 0.0337 - acc: 0.9887 - val_loss: 0.0407 - val_acc: 0.9862\n",
            "Epoch 77/1000\n",
            "225/225 [==============================] - 25s 112ms/step - loss: 0.0337 - acc: 0.9886 - val_loss: 0.0397 - val_acc: 0.9875\n",
            "Epoch 78/1000\n",
            "225/225 [==============================] - 25s 111ms/step - loss: 0.0333 - acc: 0.9889 - val_loss: 0.0382 - val_acc: 0.9875\n",
            "Epoch 79/1000\n",
            "225/225 [==============================] - 25s 112ms/step - loss: 0.0332 - acc: 0.9892 - val_loss: 0.0411 - val_acc: 0.9862\n",
            "Epoch 80/1000\n",
            "225/225 [==============================] - 25s 112ms/step - loss: 0.0328 - acc: 0.9882 - val_loss: 0.0414 - val_acc: 0.9862\n",
            "Epoch 81/1000\n",
            "225/225 [==============================] - 25s 112ms/step - loss: 0.0325 - acc: 0.9899 - val_loss: 0.0436 - val_acc: 0.9862\n",
            "Epoch 82/1000\n",
            "225/225 [==============================] - 25s 111ms/step - loss: 0.0326 - acc: 0.9900 - val_loss: 0.0420 - val_acc: 0.9862\n",
            "Epoch 83/1000\n",
            "225/225 [==============================] - 25s 111ms/step - loss: 0.0323 - acc: 0.9897 - val_loss: 0.0381 - val_acc: 0.9900\n",
            "Epoch 84/1000\n",
            "225/225 [==============================] - 25s 112ms/step - loss: 0.0322 - acc: 0.9901 - val_loss: 0.0381 - val_acc: 0.9900\n"
          ]
        }
      ]
    },
    {
      "cell_type": "code",
      "metadata": {
        "colab": {
          "base_uri": "https://localhost:8080/"
        },
        "id": "phg9b36yvZlX",
        "outputId": "6b9d907e-efc0-4ec3-d434-596344d43c81"
      },
      "source": [
        "model.save('/content/drive/MyDrive/final_models/with_attention/model6.h5')"
      ],
      "execution_count": null,
      "outputs": [
        {
          "name": "stderr",
          "output_type": "stream",
          "text": [
            "/usr/local/lib/python3.7/dist-packages/keras/utils/generic_utils.py:497: CustomMaskWarning: Custom mask layers require a config and must override get_config. When loading, the custom mask layer must be passed to the custom_objects argument.\n",
            "  category=CustomMaskWarning)\n"
          ]
        }
      ]
    },
    {
      "cell_type": "code",
      "metadata": {
        "colab": {
          "base_uri": "https://localhost:8080/",
          "height": 562
        },
        "id": "gA62_3PIvZlX",
        "outputId": "ea3f0e92-6492-47aa-a5f5-a05069aed68a"
      },
      "source": [
        "#plot acc and loss\n",
        "import matplotlib.pyplot as plt\n",
        "epochs = range(len(history.history['loss']))\n",
        "plt.plot(epochs , history.history['val_loss'])\n",
        "plt.plot(epochs , history.history['loss'])\n",
        "plt.title('loss')\n",
        "plt.figure()\n",
        "plt.plot(epochs , history.history['val_acc'])\n",
        "plt.plot(epochs , history.history['acc'])\n",
        "plt.title('accuracy')\n",
        "plt.figure()\n",
        "plt.show()"
      ],
      "execution_count": null,
      "outputs": [
        {
          "data": {
            "image/png": "[encoded data removed]",
            "text/plain": [
              "<Figure size 432x288 with 1 Axes>"
            ]
          },
          "metadata": {
            "tags": []
          },
          "output_type": "display_data"
        },
        {
          "data": {
            "image/png": "[encoded data removed]",
            "text/plain": [
              "<Figure size 432x288 with 1 Axes>"
            ]
          },
          "metadata": {
            "tags": []
          },
          "output_type": "display_data"
        },
        {
          "data": {
            "text/plain": [
              "<Figure size 432x288 with 0 Axes>"
            ]
          },
          "metadata": {
            "tags": []
          },
          "output_type": "display_data"
        }
      ]
    },
    {
      "cell_type": "code",
      "metadata": {
        "colab": {
          "base_uri": "https://localhost:8080/"
        },
        "id": "Z5zF2MlcvZlX",
        "outputId": "b253f289-4662-4c46-99a2-c7d5c4d11f4b"
      },
      "source": [
        "model.evaluate(test_data , test_label)"
      ],
      "execution_count": null,
      "outputs": [
        {
          "name": "stdout",
          "output_type": "stream",
          "text": [
            "74/74 [==============================] - 3s 36ms/step - loss: 0.0340 - acc: 0.9889\n"
          ]
        },
        {
          "data": {
            "text/plain": [
              "[0.034002166241407394, 0.9889078736305237]"
            ]
          },
          "execution_count": 46,
          "metadata": {
            "tags": []
          },
          "output_type": "execute_result"
        }
      ]
    },
    {
      "cell_type": "code",
      "metadata": {
        "colab": {
          "base_uri": "https://localhost:8080/"
        },
        "id": "y2jknz4vvZlX",
        "outputId": "465ded29-be04-4efa-d9a1-f5eeecd1e40a"
      },
      "source": [
        "# performance measurements on test data 2\n",
        "\n",
        "pred = model.predict(test_data)\n",
        "\n",
        "thresh = find_opt_thresh(test_label , pred)\n",
        "print(thresh)\n",
        "prediction = np.zeros(np.shape(pred))\n",
        "prediction[pred > thresh] = 1\n",
        "\n",
        "from sklearn.metrics import accuracy_score\n",
        "accuracy = accuracy_score(test_label   , prediction)\n",
        "print('accuracy is:' , np.round(accuracy*100,2) , '%')\n",
        "print('___________________________________________')\n",
        "from sklearn.metrics import precision_score\n",
        "pscore = precision_score(test_label   , prediction)\n",
        "print('precision score is:' , np.round(pscore*100,2) , '%')\n",
        "print('___________________________________________')\n",
        "from sklearn.metrics import recall_score\n",
        "rscore = recall_score(test_label   , prediction)\n",
        "print('recall score is:' , np.round(rscore*100,2) , '%')\n",
        "print('___________________________________________')\n",
        "from sklearn.metrics import f1_score\n",
        "fscore = f1_score(test_label   , prediction)\n",
        "print('f1 score is:' , np.round(fscore*100,2) , '%')\n",
        "print('___________________________________________')\n",
        "spc = specificity_score(test_label   , prediction)\n",
        "print('specificity is:' , np.round(spc*100,2) , '%')\n",
        "print('___________________________________________')\n",
        "sen = sensitivity_score(test_label   , prediction)\n",
        "print('sensitivity is:' , np.round(sen*100,2) , '%')\n",
        "print('___________________________________________')\n",
        "from sklearn.metrics import roc_auc_score\n",
        "auc = roc_auc_score(test_label   , prediction)\n",
        "print('AUC is:' , np.round(auc,4))"
      ],
      "execution_count": null,
      "outputs": [
        {
          "name": "stdout",
          "output_type": "stream",
          "text": [
            "[0.47863546]\n",
            "accuracy is: 98.93 %\n",
            "___________________________________________\n",
            "precision score is: 75.93 %\n",
            "___________________________________________\n",
            "recall score is: 77.36 %\n",
            "___________________________________________\n",
            "f1 score is: 76.64 %\n",
            "___________________________________________\n",
            "specificity is: 99.43 %\n",
            "___________________________________________\n",
            "sensitivity is: 77.36 %\n",
            "___________________________________________\n",
            "AUC is: 0.884\n"
          ]
        }
      ]
    },
    {
      "cell_type": "markdown",
      "metadata": {
        "id": "92c0Hv40vlH0"
      },
      "source": [
        "#### Fold 7"
      ]
    },
    {
      "cell_type": "code",
      "metadata": {
        "id": "XDWn0mjkvlH0"
      },
      "source": [
        "model = CompModel()"
      ],
      "execution_count": null,
      "outputs": []
    },
    {
      "cell_type": "code",
      "metadata": {
        "colab": {
          "base_uri": "https://localhost:8080/"
        },
        "id": "a_Lcl0pvvlH0",
        "outputId": "8d21dd5c-a1bb-4a2c-f9b2-8cfb03b06f73"
      },
      "source": [
        "history = model.fit(train_data[train_indices[6]], train_label[train_indices[6]],\n",
        "            epochs=1000,\n",
        "            validation_data = (train_data[test_indices[6]] , train_label[test_indices[6]]),\n",
        "            callbacks = [early_stopping_cb],\n",
        "            verbose = 1)"
      ],
      "execution_count": null,
      "outputs": [
        {
          "name": "stdout",
          "output_type": "stream",
          "text": [
            "Epoch 1/1000\n",
            "225/225 [==============================] - 46s 117ms/step - loss: 0.6689 - acc: 0.9739 - val_loss: 0.6181 - val_acc: 0.9775\n",
            "Epoch 2/1000\n",
            "225/225 [==============================] - 25s 112ms/step - loss: 0.3432 - acc: 0.9778 - val_loss: 0.1260 - val_acc: 0.9775\n",
            "Epoch 3/1000\n",
            "225/225 [==============================] - 25s 112ms/step - loss: 0.1274 - acc: 0.9778 - val_loss: 0.1193 - val_acc: 0.9775\n",
            "Epoch 4/1000\n",
            "225/225 [==============================] - 25s 112ms/step - loss: 0.1223 - acc: 0.9778 - val_loss: 0.1163 - val_acc: 0.9775\n",
            "Epoch 5/1000\n",
            "225/225 [==============================] - 25s 112ms/step - loss: 0.1187 - acc: 0.9778 - val_loss: 0.1145 - val_acc: 0.9775\n",
            "Epoch 6/1000\n",
            "225/225 [==============================] - 25s 112ms/step - loss: 0.1158 - acc: 0.9778 - val_loss: 0.1124 - val_acc: 0.9775\n",
            "Epoch 7/1000\n",
            "225/225 [==============================] - 25s 112ms/step - loss: 0.1137 - acc: 0.9778 - val_loss: 0.1111 - val_acc: 0.9775\n",
            "Epoch 8/1000\n",
            "225/225 [==============================] - 25s 112ms/step - loss: 0.1121 - acc: 0.9778 - val_loss: 0.1102 - val_acc: 0.9775\n",
            "Epoch 9/1000\n",
            "225/225 [==============================] - 25s 112ms/step - loss: 0.1108 - acc: 0.9778 - val_loss: 0.1097 - val_acc: 0.9775\n",
            "Epoch 10/1000\n",
            "225/225 [==============================] - 25s 112ms/step - loss: 0.1097 - acc: 0.9778 - val_loss: 0.1092 - val_acc: 0.9775\n",
            "Epoch 11/1000\n",
            "225/225 [==============================] - 25s 112ms/step - loss: 0.1091 - acc: 0.9778 - val_loss: 0.1086 - val_acc: 0.9775\n",
            "Epoch 12/1000\n",
            "225/225 [==============================] - 25s 112ms/step - loss: 0.1085 - acc: 0.9778 - val_loss: 0.1084 - val_acc: 0.9775\n",
            "Epoch 13/1000\n",
            "225/225 [==============================] - 25s 112ms/step - loss: 0.1082 - acc: 0.9778 - val_loss: 0.1080 - val_acc: 0.9775\n",
            "Epoch 14/1000\n",
            "225/225 [==============================] - 25s 112ms/step - loss: 0.1076 - acc: 0.9778 - val_loss: 0.1078 - val_acc: 0.9775\n",
            "Epoch 15/1000\n",
            "225/225 [==============================] - 25s 112ms/step - loss: 0.1072 - acc: 0.9778 - val_loss: 0.1077 - val_acc: 0.9775\n",
            "Epoch 16/1000\n",
            "225/225 [==============================] - 25s 112ms/step - loss: 0.1069 - acc: 0.9778 - val_loss: 0.1077 - val_acc: 0.9775\n",
            "Epoch 17/1000\n",
            "225/225 [==============================] - 25s 112ms/step - loss: 0.1065 - acc: 0.9778 - val_loss: 0.1077 - val_acc: 0.9775\n",
            "Epoch 18/1000\n",
            "225/225 [==============================] - 25s 112ms/step - loss: 0.1064 - acc: 0.9778 - val_loss: 0.1073 - val_acc: 0.9775\n",
            "Epoch 19/1000\n",
            "225/225 [==============================] - 25s 112ms/step - loss: 0.1063 - acc: 0.9778 - val_loss: 0.1072 - val_acc: 0.9775\n",
            "Epoch 20/1000\n",
            "225/225 [==============================] - 25s 112ms/step - loss: 0.1058 - acc: 0.9778 - val_loss: 0.1072 - val_acc: 0.9775\n",
            "Epoch 21/1000\n",
            "225/225 [==============================] - 25s 112ms/step - loss: 0.1056 - acc: 0.9778 - val_loss: 0.1068 - val_acc: 0.9775\n",
            "Epoch 22/1000\n",
            "225/225 [==============================] - 25s 112ms/step - loss: 0.1050 - acc: 0.9778 - val_loss: 0.1070 - val_acc: 0.9775\n",
            "Epoch 23/1000\n",
            "225/225 [==============================] - 25s 112ms/step - loss: 0.1046 - acc: 0.9778 - val_loss: 0.1064 - val_acc: 0.9775\n",
            "Epoch 24/1000\n",
            "225/225 [==============================] - 25s 112ms/step - loss: 0.1040 - acc: 0.9778 - val_loss: 0.1057 - val_acc: 0.9775\n",
            "Epoch 25/1000\n",
            "225/225 [==============================] - 25s 112ms/step - loss: 0.1029 - acc: 0.9778 - val_loss: 0.1052 - val_acc: 0.9775\n",
            "Epoch 26/1000\n",
            "225/225 [==============================] - 25s 113ms/step - loss: 0.1015 - acc: 0.9778 - val_loss: 0.1037 - val_acc: 0.9775\n",
            "Epoch 27/1000\n",
            "225/225 [==============================] - 25s 113ms/step - loss: 0.0989 - acc: 0.9778 - val_loss: 0.1018 - val_acc: 0.9775\n",
            "Epoch 28/1000\n",
            "225/225 [==============================] - 25s 112ms/step - loss: 0.0960 - acc: 0.9778 - val_loss: 0.0998 - val_acc: 0.9775\n",
            "Epoch 29/1000\n",
            "225/225 [==============================] - 25s 112ms/step - loss: 0.0924 - acc: 0.9778 - val_loss: 0.0972 - val_acc: 0.9775\n",
            "Epoch 30/1000\n",
            "225/225 [==============================] - 25s 112ms/step - loss: 0.0877 - acc: 0.9778 - val_loss: 0.0936 - val_acc: 0.9775\n",
            "Epoch 31/1000\n",
            "225/225 [==============================] - 25s 112ms/step - loss: 0.0819 - acc: 0.9778 - val_loss: 0.0902 - val_acc: 0.9775\n",
            "Epoch 32/1000\n",
            "225/225 [==============================] - 25s 112ms/step - loss: 0.0759 - acc: 0.9778 - val_loss: 0.0858 - val_acc: 0.9775\n",
            "Epoch 33/1000\n",
            "225/225 [==============================] - 25s 112ms/step - loss: 0.0703 - acc: 0.9778 - val_loss: 0.0832 - val_acc: 0.9775\n",
            "Epoch 34/1000\n",
            "225/225 [==============================] - 25s 112ms/step - loss: 0.0656 - acc: 0.9778 - val_loss: 0.0785 - val_acc: 0.9775\n",
            "Epoch 35/1000\n",
            "225/225 [==============================] - 25s 112ms/step - loss: 0.0615 - acc: 0.9778 - val_loss: 0.0762 - val_acc: 0.9775\n",
            "Epoch 36/1000\n",
            "225/225 [==============================] - 25s 112ms/step - loss: 0.0582 - acc: 0.9776 - val_loss: 0.0700 - val_acc: 0.9775\n",
            "Epoch 37/1000\n",
            "225/225 [==============================] - 25s 112ms/step - loss: 0.0550 - acc: 0.9781 - val_loss: 0.0661 - val_acc: 0.9775\n",
            "Epoch 38/1000\n",
            "225/225 [==============================] - 25s 112ms/step - loss: 0.0523 - acc: 0.9786 - val_loss: 0.0635 - val_acc: 0.9787\n",
            "Epoch 39/1000\n",
            "225/225 [==============================] - 25s 112ms/step - loss: 0.0500 - acc: 0.9783 - val_loss: 0.0610 - val_acc: 0.9787\n",
            "Epoch 40/1000\n",
            "225/225 [==============================] - 25s 112ms/step - loss: 0.0484 - acc: 0.9792 - val_loss: 0.0585 - val_acc: 0.9787\n",
            "Epoch 41/1000\n",
            "225/225 [==============================] - 25s 112ms/step - loss: 0.0473 - acc: 0.9789 - val_loss: 0.0551 - val_acc: 0.9775\n",
            "Epoch 42/1000\n",
            "225/225 [==============================] - 25s 112ms/step - loss: 0.0453 - acc: 0.9800 - val_loss: 0.0537 - val_acc: 0.9787\n",
            "Epoch 43/1000\n",
            "225/225 [==============================] - 25s 112ms/step - loss: 0.0441 - acc: 0.9804 - val_loss: 0.0526 - val_acc: 0.9787\n",
            "Epoch 44/1000\n",
            "225/225 [==============================] - 25s 112ms/step - loss: 0.0425 - acc: 0.9821 - val_loss: 0.0501 - val_acc: 0.9787\n",
            "Epoch 45/1000\n",
            "225/225 [==============================] - 25s 112ms/step - loss: 0.0408 - acc: 0.9837 - val_loss: 0.0474 - val_acc: 0.9825\n",
            "Epoch 46/1000\n",
            "225/225 [==============================] - 25s 112ms/step - loss: 0.0396 - acc: 0.9850 - val_loss: 0.0467 - val_acc: 0.9825\n",
            "Epoch 47/1000\n",
            "225/225 [==============================] - 25s 112ms/step - loss: 0.0385 - acc: 0.9851 - val_loss: 0.0444 - val_acc: 0.9837\n",
            "Epoch 48/1000\n",
            "225/225 [==============================] - 25s 112ms/step - loss: 0.0377 - acc: 0.9862 - val_loss: 0.0438 - val_acc: 0.9837\n",
            "Epoch 49/1000\n",
            "225/225 [==============================] - 25s 112ms/step - loss: 0.0367 - acc: 0.9871 - val_loss: 0.0433 - val_acc: 0.9837\n",
            "Epoch 50/1000\n",
            "225/225 [==============================] - 25s 112ms/step - loss: 0.0358 - acc: 0.9875 - val_loss: 0.0418 - val_acc: 0.9862\n",
            "Epoch 51/1000\n",
            "225/225 [==============================] - 25s 112ms/step - loss: 0.0361 - acc: 0.9876 - val_loss: 0.0406 - val_acc: 0.9862\n",
            "Epoch 52/1000\n",
            "225/225 [==============================] - 25s 112ms/step - loss: 0.0344 - acc: 0.9885 - val_loss: 0.0582 - val_acc: 0.9812\n",
            "Epoch 53/1000\n",
            "225/225 [==============================] - 25s 112ms/step - loss: 0.0354 - acc: 0.9871 - val_loss: 0.0426 - val_acc: 0.9837\n",
            "Epoch 54/1000\n",
            "225/225 [==============================] - 25s 112ms/step - loss: 0.0343 - acc: 0.9885 - val_loss: 0.0394 - val_acc: 0.9875\n",
            "Epoch 55/1000\n",
            "225/225 [==============================] - 25s 112ms/step - loss: 0.0337 - acc: 0.9890 - val_loss: 0.0413 - val_acc: 0.9837\n",
            "Epoch 56/1000\n",
            "225/225 [==============================] - 25s 112ms/step - loss: 0.0334 - acc: 0.9894 - val_loss: 0.0383 - val_acc: 0.9887\n",
            "Epoch 57/1000\n",
            "225/225 [==============================] - 25s 112ms/step - loss: 0.0334 - acc: 0.9893 - val_loss: 0.0379 - val_acc: 0.9875\n",
            "Epoch 58/1000\n",
            "225/225 [==============================] - 25s 112ms/step - loss: 0.0330 - acc: 0.9892 - val_loss: 0.0394 - val_acc: 0.9875\n",
            "Epoch 59/1000\n",
            "225/225 [==============================] - 25s 112ms/step - loss: 0.0330 - acc: 0.9900 - val_loss: 0.0393 - val_acc: 0.9875\n",
            "Epoch 60/1000\n",
            "225/225 [==============================] - 25s 112ms/step - loss: 0.0323 - acc: 0.9883 - val_loss: 0.0388 - val_acc: 0.9862\n",
            "Epoch 61/1000\n",
            "225/225 [==============================] - 25s 112ms/step - loss: 0.0328 - acc: 0.9894 - val_loss: 0.0401 - val_acc: 0.9862\n",
            "Epoch 62/1000\n",
            "225/225 [==============================] - 25s 112ms/step - loss: 0.0324 - acc: 0.9890 - val_loss: 0.0372 - val_acc: 0.9862\n",
            "Epoch 63/1000\n",
            "225/225 [==============================] - 25s 112ms/step - loss: 0.0319 - acc: 0.9910 - val_loss: 0.0463 - val_acc: 0.9837\n",
            "Epoch 64/1000\n",
            "225/225 [==============================] - 25s 112ms/step - loss: 0.0323 - acc: 0.9892 - val_loss: 0.0388 - val_acc: 0.9875\n",
            "Epoch 65/1000\n",
            "225/225 [==============================] - 25s 112ms/step - loss: 0.0322 - acc: 0.9903 - val_loss: 0.0373 - val_acc: 0.9887\n",
            "Epoch 66/1000\n",
            "225/225 [==============================] - 25s 112ms/step - loss: 0.0319 - acc: 0.9899 - val_loss: 0.0382 - val_acc: 0.9875\n",
            "Epoch 67/1000\n",
            "225/225 [==============================] - 25s 112ms/step - loss: 0.0309 - acc: 0.9901 - val_loss: 0.0383 - val_acc: 0.9875\n",
            "Epoch 68/1000\n",
            "225/225 [==============================] - 25s 112ms/step - loss: 0.0318 - acc: 0.9897 - val_loss: 0.0362 - val_acc: 0.9900\n",
            "Epoch 69/1000\n",
            "225/225 [==============================] - 25s 112ms/step - loss: 0.0314 - acc: 0.9901 - val_loss: 0.0367 - val_acc: 0.9887\n",
            "Epoch 70/1000\n",
            "225/225 [==============================] - 25s 112ms/step - loss: 0.0312 - acc: 0.9900 - val_loss: 0.0375 - val_acc: 0.9875\n",
            "Epoch 71/1000\n",
            "225/225 [==============================] - 25s 112ms/step - loss: 0.0312 - acc: 0.9908 - val_loss: 0.0438 - val_acc: 0.9837\n",
            "Epoch 72/1000\n",
            "225/225 [==============================] - 25s 112ms/step - loss: 0.0311 - acc: 0.9904 - val_loss: 0.0412 - val_acc: 0.9837\n",
            "Epoch 73/1000\n",
            "225/225 [==============================] - 25s 112ms/step - loss: 0.0310 - acc: 0.9901 - val_loss: 0.0359 - val_acc: 0.9887\n",
            "Epoch 74/1000\n",
            "225/225 [==============================] - 25s 112ms/step - loss: 0.0307 - acc: 0.9906 - val_loss: 0.0369 - val_acc: 0.9875\n",
            "Epoch 75/1000\n",
            "225/225 [==============================] - 25s 112ms/step - loss: 0.0304 - acc: 0.9906 - val_loss: 0.0355 - val_acc: 0.9887\n",
            "Epoch 76/1000\n",
            "225/225 [==============================] - 25s 112ms/step - loss: 0.0309 - acc: 0.9906 - val_loss: 0.0378 - val_acc: 0.9875\n",
            "Epoch 77/1000\n",
            "225/225 [==============================] - 25s 112ms/step - loss: 0.0310 - acc: 0.9907 - val_loss: 0.0360 - val_acc: 0.9850\n",
            "Epoch 78/1000\n",
            "225/225 [==============================] - 25s 112ms/step - loss: 0.0308 - acc: 0.9914 - val_loss: 0.0386 - val_acc: 0.9875\n",
            "Epoch 79/1000\n",
            "225/225 [==============================] - 25s 112ms/step - loss: 0.0307 - acc: 0.9903 - val_loss: 0.0402 - val_acc: 0.9837\n",
            "Epoch 80/1000\n",
            "225/225 [==============================] - 25s 112ms/step - loss: 0.0308 - acc: 0.9911 - val_loss: 0.0367 - val_acc: 0.9887\n",
            "Epoch 81/1000\n",
            "225/225 [==============================] - 25s 112ms/step - loss: 0.0309 - acc: 0.9901 - val_loss: 0.0354 - val_acc: 0.9875\n",
            "Epoch 82/1000\n",
            "225/225 [==============================] - 25s 112ms/step - loss: 0.0309 - acc: 0.9906 - val_loss: 0.0353 - val_acc: 0.9875\n",
            "Epoch 83/1000\n",
            "225/225 [==============================] - 25s 112ms/step - loss: 0.0304 - acc: 0.9903 - val_loss: 0.0505 - val_acc: 0.9837\n",
            "Epoch 84/1000\n",
            "225/225 [==============================] - 25s 112ms/step - loss: 0.0306 - acc: 0.9896 - val_loss: 0.0461 - val_acc: 0.9837\n",
            "Epoch 85/1000\n",
            "225/225 [==============================] - 25s 112ms/step - loss: 0.0311 - acc: 0.9906 - val_loss: 0.0358 - val_acc: 0.9900\n",
            "Epoch 86/1000\n",
            "225/225 [==============================] - 25s 112ms/step - loss: 0.0304 - acc: 0.9906 - val_loss: 0.0411 - val_acc: 0.9850\n",
            "Epoch 87/1000\n",
            "225/225 [==============================] - 25s 112ms/step - loss: 0.0306 - acc: 0.9912 - val_loss: 0.0415 - val_acc: 0.9850\n",
            "Epoch 88/1000\n",
            "225/225 [==============================] - 25s 112ms/step - loss: 0.0305 - acc: 0.9901 - val_loss: 0.0354 - val_acc: 0.9887\n",
            "Epoch 89/1000\n",
            "225/225 [==============================] - 25s 112ms/step - loss: 0.0306 - acc: 0.9903 - val_loss: 0.0368 - val_acc: 0.9875\n",
            "Epoch 90/1000\n",
            "225/225 [==============================] - 25s 112ms/step - loss: 0.0302 - acc: 0.9903 - val_loss: 0.0406 - val_acc: 0.9850\n",
            "Epoch 91/1000\n",
            "225/225 [==============================] - 25s 112ms/step - loss: 0.0309 - acc: 0.9900 - val_loss: 0.0374 - val_acc: 0.9875\n",
            "Epoch 92/1000\n",
            "225/225 [==============================] - 25s 112ms/step - loss: 0.0301 - acc: 0.9910 - val_loss: 0.0352 - val_acc: 0.9875\n",
            "Epoch 93/1000\n",
            "225/225 [==============================] - 25s 112ms/step - loss: 0.0303 - acc: 0.9903 - val_loss: 0.0352 - val_acc: 0.9875\n",
            "Epoch 94/1000\n",
            "225/225 [==============================] - 25s 112ms/step - loss: 0.0298 - acc: 0.9912 - val_loss: 0.0352 - val_acc: 0.9887\n",
            "Epoch 95/1000\n",
            "225/225 [==============================] - 25s 112ms/step - loss: 0.0300 - acc: 0.9904 - val_loss: 0.0355 - val_acc: 0.9900\n",
            "Epoch 96/1000\n",
            "225/225 [==============================] - 25s 112ms/step - loss: 0.0301 - acc: 0.9910 - val_loss: 0.0402 - val_acc: 0.9850\n",
            "Epoch 97/1000\n",
            "225/225 [==============================] - 25s 112ms/step - loss: 0.0305 - acc: 0.9904 - val_loss: 0.0370 - val_acc: 0.9875\n",
            "Epoch 98/1000\n",
            "225/225 [==============================] - 25s 112ms/step - loss: 0.0296 - acc: 0.9904 - val_loss: 0.0357 - val_acc: 0.9887\n",
            "Epoch 99/1000\n",
            "225/225 [==============================] - 25s 112ms/step - loss: 0.0298 - acc: 0.9908 - val_loss: 0.0352 - val_acc: 0.9900\n",
            "Epoch 100/1000\n",
            "225/225 [==============================] - 25s 112ms/step - loss: 0.0298 - acc: 0.9915 - val_loss: 0.0349 - val_acc: 0.9875\n",
            "Epoch 101/1000\n",
            "225/225 [==============================] - 25s 112ms/step - loss: 0.0292 - acc: 0.9910 - val_loss: 0.0349 - val_acc: 0.9887\n",
            "Epoch 102/1000\n",
            "225/225 [==============================] - 25s 112ms/step - loss: 0.0300 - acc: 0.9904 - val_loss: 0.0360 - val_acc: 0.9887\n",
            "Epoch 103/1000\n",
            "225/225 [==============================] - 25s 112ms/step - loss: 0.0292 - acc: 0.9900 - val_loss: 0.0382 - val_acc: 0.9875\n",
            "Epoch 104/1000\n",
            "225/225 [==============================] - 25s 112ms/step - loss: 0.0296 - acc: 0.9906 - val_loss: 0.0348 - val_acc: 0.9875\n",
            "Epoch 105/1000\n",
            "225/225 [==============================] - 25s 112ms/step - loss: 0.0293 - acc: 0.9904 - val_loss: 0.0378 - val_acc: 0.9875\n",
            "Epoch 106/1000\n",
            "225/225 [==============================] - 25s 112ms/step - loss: 0.0295 - acc: 0.9912 - val_loss: 0.0411 - val_acc: 0.9850\n",
            "Epoch 107/1000\n",
            "225/225 [==============================] - 25s 113ms/step - loss: 0.0292 - acc: 0.9908 - val_loss: 0.0421 - val_acc: 0.9850\n",
            "Epoch 108/1000\n",
            "225/225 [==============================] - 25s 112ms/step - loss: 0.0299 - acc: 0.9908 - val_loss: 0.0386 - val_acc: 0.9875\n",
            "Epoch 109/1000\n",
            "225/225 [==============================] - 25s 112ms/step - loss: 0.0301 - acc: 0.9900 - val_loss: 0.0356 - val_acc: 0.9887\n",
            "Epoch 110/1000\n",
            "225/225 [==============================] - 25s 112ms/step - loss: 0.0299 - acc: 0.9901 - val_loss: 0.0348 - val_acc: 0.9875\n",
            "Epoch 111/1000\n",
            "225/225 [==============================] - 25s 112ms/step - loss: 0.0294 - acc: 0.9910 - val_loss: 0.0354 - val_acc: 0.9887\n",
            "Epoch 112/1000\n",
            "225/225 [==============================] - 25s 112ms/step - loss: 0.0293 - acc: 0.9911 - val_loss: 0.0456 - val_acc: 0.9850\n",
            "Epoch 113/1000\n",
            "225/225 [==============================] - 25s 112ms/step - loss: 0.0299 - acc: 0.9903 - val_loss: 0.0411 - val_acc: 0.9850\n",
            "Epoch 114/1000\n",
            "225/225 [==============================] - 25s 112ms/step - loss: 0.0298 - acc: 0.9910 - val_loss: 0.0374 - val_acc: 0.9887\n"
          ]
        }
      ]
    },
    {
      "cell_type": "code",
      "metadata": {
        "colab": {
          "base_uri": "https://localhost:8080/"
        },
        "id": "k8O9Js5wvlH1",
        "outputId": "10a295ad-c1e5-4708-88e8-733d6c8bd80c"
      },
      "source": [
        "model.save('/content/drive/MyDrive/final_models/with_attention/model7.h5')"
      ],
      "execution_count": null,
      "outputs": [
        {
          "name": "stderr",
          "output_type": "stream",
          "text": [
            "/usr/local/lib/python3.7/dist-packages/keras/utils/generic_utils.py:497: CustomMaskWarning: Custom mask layers require a config and must override get_config. When loading, the custom mask layer must be passed to the custom_objects argument.\n",
            "  category=CustomMaskWarning)\n"
          ]
        }
      ]
    },
    {
      "cell_type": "code",
      "metadata": {
        "colab": {
          "base_uri": "https://localhost:8080/",
          "height": 562
        },
        "id": "im4mzxXvvlH1",
        "outputId": "1ec1eacc-52d5-4403-88e3-648b99cb3703"
      },
      "source": [
        "#plot acc and loss\n",
        "import matplotlib.pyplot as plt\n",
        "epochs = range(len(history.history['loss']))\n",
        "plt.plot(epochs , history.history['val_loss'])\n",
        "plt.plot(epochs , history.history['loss'])\n",
        "plt.title('loss')\n",
        "plt.figure()\n",
        "plt.plot(epochs , history.history['val_acc'])\n",
        "plt.plot(epochs , history.history['acc'])\n",
        "plt.title('accuracy')\n",
        "plt.figure()\n",
        "plt.show()"
      ],
      "execution_count": null,
      "outputs": [
        {
          "data": {
            "image/png": "[encoded data removed]",
            "text/plain": [
              "<Figure size 432x288 with 1 Axes>"
            ]
          },
          "metadata": {},
          "output_type": "display_data"
        },
        {
          "data": {
            "image/png": "[encoded data removed]",
            "text/plain": [
              "<Figure size 432x288 with 1 Axes>"
            ]
          },
          "metadata": {},
          "output_type": "display_data"
        },
        {
          "data": {
            "text/plain": [
              "<Figure size 432x288 with 0 Axes>"
            ]
          },
          "metadata": {},
          "output_type": "display_data"
        }
      ]
    },
    {
      "cell_type": "code",
      "metadata": {
        "colab": {
          "base_uri": "https://localhost:8080/"
        },
        "id": "6wv4drkrvlH1",
        "outputId": "f4c2624f-a575-4b09-b372-cd453406509b"
      },
      "source": [
        "model.evaluate(test_data , test_label)"
      ],
      "execution_count": null,
      "outputs": [
        {
          "name": "stdout",
          "output_type": "stream",
          "text": [
            "74/74 [==============================] - 4s 42ms/step - loss: 0.0328 - acc: 0.9881\n"
          ]
        },
        {
          "data": {
            "text/plain": [
              "[0.03281950205564499, 0.988054633140564]"
            ]
          },
          "execution_count": 16,
          "metadata": {},
          "output_type": "execute_result"
        }
      ]
    },
    {
      "cell_type": "code",
      "metadata": {
        "colab": {
          "base_uri": "https://localhost:8080/"
        },
        "id": "3tQnLtgIvlH1",
        "outputId": "f17e7d57-a3f4-42c7-ec7b-025f0249f067"
      },
      "source": [
        "# performance measurements on test data 2\n",
        "\n",
        "pred = model.predict(test_data)\n",
        "\n",
        "thresh = find_opt_thresh(test_label , pred)\n",
        "print(thresh)\n",
        "prediction = np.zeros(np.shape(pred))\n",
        "prediction[pred > thresh] = 1\n",
        "\n",
        "from sklearn.metrics import accuracy_score\n",
        "accuracy = accuracy_score(test_label   , prediction)\n",
        "print('accuracy is:' , np.round(accuracy*100,2) , '%')\n",
        "print('___________________________________________')\n",
        "from sklearn.metrics import precision_score\n",
        "pscore = precision_score(test_label   , prediction)\n",
        "print('precision score is:' , np.round(pscore*100,2) , '%')\n",
        "print('___________________________________________')\n",
        "from sklearn.metrics import recall_score\n",
        "rscore = recall_score(test_label   , prediction)\n",
        "print('recall score is:' , np.round(rscore*100,2) , '%')\n",
        "print('___________________________________________')\n",
        "from sklearn.metrics import f1_score\n",
        "fscore = f1_score(test_label   , prediction)\n",
        "print('f1 score is:' , np.round(fscore*100,2) , '%')\n",
        "print('___________________________________________')\n",
        "spc = specificity_score(test_label   , prediction)\n",
        "print('specificity is:' , np.round(spc*100,2) , '%')\n",
        "print('___________________________________________')\n",
        "sen = sensitivity_score(test_label   , prediction)\n",
        "print('sensitivity is:' , np.round(sen*100,2) , '%')\n",
        "print('___________________________________________')\n",
        "from sklearn.metrics import roc_auc_score\n",
        "auc = roc_auc_score(test_label   , prediction)\n",
        "print('AUC is:' , np.round(auc,4))"
      ],
      "execution_count": null,
      "outputs": [
        {
          "name": "stdout",
          "output_type": "stream",
          "text": [
            "[0.3256756]\n",
            "accuracy is: 98.89 %\n",
            "___________________________________________\n",
            "precision score is: 70.15 %\n",
            "___________________________________________\n",
            "recall score is: 88.68 %\n",
            "___________________________________________\n",
            "f1 score is: 78.33 %\n",
            "___________________________________________\n",
            "specificity is: 99.13 %\n",
            "___________________________________________\n",
            "sensitivity is: 88.68 %\n",
            "___________________________________________\n",
            "AUC is: 0.939\n"
          ]
        }
      ]
    },
    {
      "cell_type": "markdown",
      "metadata": {
        "id": "Hp0456QqvvNL"
      },
      "source": [
        "#### Fold 8"
      ]
    },
    {
      "cell_type": "code",
      "metadata": {
        "id": "tSA1Z09BvvNV"
      },
      "source": [
        "model = CompModel()"
      ],
      "execution_count": null,
      "outputs": []
    },
    {
      "cell_type": "code",
      "metadata": {
        "colab": {
          "base_uri": "https://localhost:8080/"
        },
        "id": "O79B1jzwvvNV",
        "outputId": "7b3582fa-9eb4-4511-fd09-a0c0fb8108bf"
      },
      "source": [
        "history = model.fit(train_data[train_indices[7]], train_label[train_indices[7]],\n",
        "            epochs=1000,\n",
        "            validation_data = (train_data[test_indices[7]] , train_label[test_indices[7]]),\n",
        "            callbacks = [early_stopping_cb],\n",
        "            verbose = 1)"
      ],
      "execution_count": null,
      "outputs": [
        {
          "name": "stdout",
          "output_type": "stream",
          "text": [
            "Epoch 1/1000\n",
            "225/225 [==============================] - 30s 116ms/step - loss: 0.6735 - acc: 0.9736 - val_loss: 0.6238 - val_acc: 0.9775\n",
            "Epoch 2/1000\n",
            "225/225 [==============================] - 25s 112ms/step - loss: 0.3206 - acc: 0.9778 - val_loss: 0.1285 - val_acc: 0.9775\n",
            "Epoch 3/1000\n",
            "225/225 [==============================] - 25s 112ms/step - loss: 0.1199 - acc: 0.9778 - val_loss: 0.1239 - val_acc: 0.9775\n",
            "Epoch 4/1000\n",
            "225/225 [==============================] - 25s 112ms/step - loss: 0.1166 - acc: 0.9778 - val_loss: 0.1197 - val_acc: 0.9775\n",
            "Epoch 5/1000\n",
            "225/225 [==============================] - 25s 112ms/step - loss: 0.1142 - acc: 0.9778 - val_loss: 0.1171 - val_acc: 0.9775\n",
            "Epoch 6/1000\n",
            "225/225 [==============================] - 25s 112ms/step - loss: 0.1125 - acc: 0.9778 - val_loss: 0.1150 - val_acc: 0.9775\n",
            "Epoch 7/1000\n",
            "225/225 [==============================] - 25s 112ms/step - loss: 0.1110 - acc: 0.9778 - val_loss: 0.1136 - val_acc: 0.9775\n",
            "Epoch 8/1000\n",
            "225/225 [==============================] - 25s 112ms/step - loss: 0.1098 - acc: 0.9778 - val_loss: 0.1118 - val_acc: 0.9775\n",
            "Epoch 9/1000\n",
            "225/225 [==============================] - 25s 112ms/step - loss: 0.1090 - acc: 0.9778 - val_loss: 0.1107 - val_acc: 0.9775\n",
            "Epoch 10/1000\n",
            "225/225 [==============================] - 25s 112ms/step - loss: 0.1082 - acc: 0.9778 - val_loss: 0.1096 - val_acc: 0.9775\n",
            "Epoch 11/1000\n",
            "225/225 [==============================] - 25s 112ms/step - loss: 0.1073 - acc: 0.9778 - val_loss: 0.1084 - val_acc: 0.9775\n",
            "Epoch 12/1000\n",
            "225/225 [==============================] - 25s 112ms/step - loss: 0.1065 - acc: 0.9778 - val_loss: 0.1073 - val_acc: 0.9775\n",
            "Epoch 13/1000\n",
            "225/225 [==============================] - 25s 112ms/step - loss: 0.1055 - acc: 0.9778 - val_loss: 0.1064 - val_acc: 0.9775\n",
            "Epoch 14/1000\n",
            "225/225 [==============================] - 25s 112ms/step - loss: 0.1041 - acc: 0.9778 - val_loss: 0.1040 - val_acc: 0.9775\n",
            "Epoch 15/1000\n",
            "225/225 [==============================] - 25s 112ms/step - loss: 0.1024 - acc: 0.9778 - val_loss: 0.1017 - val_acc: 0.9775\n",
            "Epoch 16/1000\n",
            "225/225 [==============================] - 25s 112ms/step - loss: 0.1001 - acc: 0.9778 - val_loss: 0.0987 - val_acc: 0.9775\n",
            "Epoch 17/1000\n",
            "225/225 [==============================] - 25s 112ms/step - loss: 0.0970 - acc: 0.9778 - val_loss: 0.0940 - val_acc: 0.9775\n",
            "Epoch 18/1000\n",
            "225/225 [==============================] - 25s 112ms/step - loss: 0.0929 - acc: 0.9778 - val_loss: 0.0882 - val_acc: 0.9775\n",
            "Epoch 19/1000\n",
            "225/225 [==============================] - 25s 112ms/step - loss: 0.0884 - acc: 0.9778 - val_loss: 0.0818 - val_acc: 0.9775\n",
            "Epoch 20/1000\n",
            "225/225 [==============================] - 25s 112ms/step - loss: 0.0828 - acc: 0.9778 - val_loss: 0.0745 - val_acc: 0.9775\n",
            "Epoch 21/1000\n",
            "225/225 [==============================] - 25s 112ms/step - loss: 0.0770 - acc: 0.9778 - val_loss: 0.0678 - val_acc: 0.9775\n",
            "Epoch 22/1000\n",
            "225/225 [==============================] - 25s 112ms/step - loss: 0.0719 - acc: 0.9778 - val_loss: 0.0628 - val_acc: 0.9775\n",
            "Epoch 23/1000\n",
            "225/225 [==============================] - 25s 112ms/step - loss: 0.0688 - acc: 0.9778 - val_loss: 0.0592 - val_acc: 0.9775\n",
            "Epoch 24/1000\n",
            "225/225 [==============================] - 25s 112ms/step - loss: 0.0656 - acc: 0.9778 - val_loss: 0.0568 - val_acc: 0.9775\n",
            "Epoch 25/1000\n",
            "225/225 [==============================] - 25s 112ms/step - loss: 0.0632 - acc: 0.9778 - val_loss: 0.0553 - val_acc: 0.9775\n",
            "Epoch 26/1000\n",
            "225/225 [==============================] - 25s 112ms/step - loss: 0.0608 - acc: 0.9778 - val_loss: 0.0551 - val_acc: 0.9775\n",
            "Epoch 27/1000\n",
            "225/225 [==============================] - 25s 112ms/step - loss: 0.0594 - acc: 0.9779 - val_loss: 0.0534 - val_acc: 0.9775\n",
            "Epoch 28/1000\n",
            "225/225 [==============================] - 25s 112ms/step - loss: 0.0573 - acc: 0.9781 - val_loss: 0.0522 - val_acc: 0.9775\n",
            "Epoch 29/1000\n",
            "225/225 [==============================] - 25s 112ms/step - loss: 0.0557 - acc: 0.9785 - val_loss: 0.0516 - val_acc: 0.9775\n",
            "Epoch 30/1000\n",
            "225/225 [==============================] - 25s 112ms/step - loss: 0.0543 - acc: 0.9787 - val_loss: 0.0509 - val_acc: 0.9787\n",
            "Epoch 31/1000\n",
            "225/225 [==============================] - 25s 112ms/step - loss: 0.0530 - acc: 0.9787 - val_loss: 0.0516 - val_acc: 0.9787\n",
            "Epoch 32/1000\n",
            "225/225 [==============================] - 25s 112ms/step - loss: 0.0514 - acc: 0.9786 - val_loss: 0.0493 - val_acc: 0.9800\n",
            "Epoch 33/1000\n",
            "225/225 [==============================] - 25s 112ms/step - loss: 0.0501 - acc: 0.9790 - val_loss: 0.0485 - val_acc: 0.9800\n",
            "Epoch 34/1000\n",
            "225/225 [==============================] - 25s 112ms/step - loss: 0.0485 - acc: 0.9792 - val_loss: 0.0488 - val_acc: 0.9825\n",
            "Epoch 35/1000\n",
            "225/225 [==============================] - 25s 112ms/step - loss: 0.0467 - acc: 0.9801 - val_loss: 0.0468 - val_acc: 0.9825\n",
            "Epoch 36/1000\n",
            "225/225 [==============================] - 25s 112ms/step - loss: 0.0451 - acc: 0.9810 - val_loss: 0.0462 - val_acc: 0.9837\n",
            "Epoch 37/1000\n",
            "225/225 [==============================] - 25s 112ms/step - loss: 0.0443 - acc: 0.9822 - val_loss: 0.0463 - val_acc: 0.9850\n",
            "Epoch 38/1000\n",
            "225/225 [==============================] - 25s 112ms/step - loss: 0.0427 - acc: 0.9833 - val_loss: 0.0440 - val_acc: 0.9862\n",
            "Epoch 39/1000\n",
            "225/225 [==============================] - 25s 112ms/step - loss: 0.0417 - acc: 0.9843 - val_loss: 0.0452 - val_acc: 0.9862\n",
            "Epoch 40/1000\n",
            "225/225 [==============================] - 25s 112ms/step - loss: 0.0402 - acc: 0.9854 - val_loss: 0.0435 - val_acc: 0.9862\n",
            "Epoch 41/1000\n",
            "225/225 [==============================] - 25s 112ms/step - loss: 0.0392 - acc: 0.9867 - val_loss: 0.0424 - val_acc: 0.9875\n",
            "Epoch 42/1000\n",
            "225/225 [==============================] - 25s 112ms/step - loss: 0.0389 - acc: 0.9874 - val_loss: 0.0420 - val_acc: 0.9875\n",
            "Epoch 43/1000\n",
            "225/225 [==============================] - 25s 112ms/step - loss: 0.0386 - acc: 0.9871 - val_loss: 0.0416 - val_acc: 0.9887\n",
            "Epoch 44/1000\n",
            "225/225 [==============================] - 25s 112ms/step - loss: 0.0377 - acc: 0.9867 - val_loss: 0.0408 - val_acc: 0.9887\n",
            "Epoch 45/1000\n",
            "225/225 [==============================] - 25s 112ms/step - loss: 0.0367 - acc: 0.9872 - val_loss: 0.0407 - val_acc: 0.9875\n",
            "Epoch 46/1000\n",
            "225/225 [==============================] - 25s 112ms/step - loss: 0.0366 - acc: 0.9876 - val_loss: 0.0401 - val_acc: 0.9887\n",
            "Epoch 47/1000\n",
            "225/225 [==============================] - 25s 112ms/step - loss: 0.0359 - acc: 0.9874 - val_loss: 0.0433 - val_acc: 0.9850\n",
            "Epoch 48/1000\n",
            "225/225 [==============================] - 25s 112ms/step - loss: 0.0358 - acc: 0.9879 - val_loss: 0.0391 - val_acc: 0.9887\n",
            "Epoch 49/1000\n",
            "225/225 [==============================] - 25s 112ms/step - loss: 0.0353 - acc: 0.9885 - val_loss: 0.0390 - val_acc: 0.9887\n",
            "Epoch 50/1000\n",
            "225/225 [==============================] - 25s 112ms/step - loss: 0.0351 - acc: 0.9878 - val_loss: 0.0387 - val_acc: 0.9887\n",
            "Epoch 51/1000\n",
            "225/225 [==============================] - 25s 112ms/step - loss: 0.0347 - acc: 0.9881 - val_loss: 0.0383 - val_acc: 0.9900\n",
            "Epoch 52/1000\n",
            "225/225 [==============================] - 25s 112ms/step - loss: 0.0344 - acc: 0.9887 - val_loss: 0.0401 - val_acc: 0.9875\n",
            "Epoch 53/1000\n",
            "225/225 [==============================] - 25s 112ms/step - loss: 0.0341 - acc: 0.9886 - val_loss: 0.0406 - val_acc: 0.9862\n",
            "Epoch 54/1000\n",
            "225/225 [==============================] - 25s 112ms/step - loss: 0.0341 - acc: 0.9886 - val_loss: 0.0397 - val_acc: 0.9875\n",
            "Epoch 55/1000\n",
            "225/225 [==============================] - 25s 112ms/step - loss: 0.0344 - acc: 0.9879 - val_loss: 0.0416 - val_acc: 0.9862\n",
            "Epoch 56/1000\n",
            "225/225 [==============================] - 25s 112ms/step - loss: 0.0338 - acc: 0.9882 - val_loss: 0.0374 - val_acc: 0.9912\n",
            "Epoch 57/1000\n",
            "225/225 [==============================] - 25s 112ms/step - loss: 0.0338 - acc: 0.9885 - val_loss: 0.0374 - val_acc: 0.9912\n",
            "Epoch 58/1000\n",
            "225/225 [==============================] - 25s 112ms/step - loss: 0.0333 - acc: 0.9886 - val_loss: 0.0374 - val_acc: 0.9912\n",
            "Epoch 59/1000\n",
            "225/225 [==============================] - 25s 112ms/step - loss: 0.0327 - acc: 0.9901 - val_loss: 0.0385 - val_acc: 0.9887\n",
            "Epoch 60/1000\n",
            "225/225 [==============================] - 25s 112ms/step - loss: 0.0325 - acc: 0.9892 - val_loss: 0.0397 - val_acc: 0.9862\n",
            "Epoch 61/1000\n",
            "225/225 [==============================] - 25s 112ms/step - loss: 0.0329 - acc: 0.9889 - val_loss: 0.0371 - val_acc: 0.9912\n",
            "Epoch 62/1000\n",
            "225/225 [==============================] - 25s 112ms/step - loss: 0.0326 - acc: 0.9889 - val_loss: 0.0368 - val_acc: 0.9925\n",
            "Epoch 63/1000\n",
            "225/225 [==============================] - 25s 112ms/step - loss: 0.0323 - acc: 0.9890 - val_loss: 0.0367 - val_acc: 0.9912\n",
            "Epoch 64/1000\n",
            "225/225 [==============================] - 25s 112ms/step - loss: 0.0319 - acc: 0.9896 - val_loss: 0.0365 - val_acc: 0.9925\n",
            "Epoch 65/1000\n",
            "225/225 [==============================] - 25s 112ms/step - loss: 0.0320 - acc: 0.9890 - val_loss: 0.0365 - val_acc: 0.9925\n",
            "Epoch 66/1000\n",
            "225/225 [==============================] - 25s 112ms/step - loss: 0.0321 - acc: 0.9886 - val_loss: 0.0365 - val_acc: 0.9925\n",
            "Epoch 67/1000\n",
            "225/225 [==============================] - 25s 112ms/step - loss: 0.0317 - acc: 0.9894 - val_loss: 0.0367 - val_acc: 0.9912\n",
            "Epoch 68/1000\n",
            "225/225 [==============================] - 25s 112ms/step - loss: 0.0320 - acc: 0.9893 - val_loss: 0.0366 - val_acc: 0.9912\n",
            "Epoch 69/1000\n",
            "225/225 [==============================] - 25s 112ms/step - loss: 0.0321 - acc: 0.9890 - val_loss: 0.0379 - val_acc: 0.9862\n",
            "Epoch 70/1000\n",
            "225/225 [==============================] - 25s 112ms/step - loss: 0.0315 - acc: 0.9897 - val_loss: 0.0364 - val_acc: 0.9925\n",
            "Epoch 71/1000\n",
            "225/225 [==============================] - 25s 112ms/step - loss: 0.0317 - acc: 0.9893 - val_loss: 0.0372 - val_acc: 0.9862\n",
            "Epoch 72/1000\n",
            "225/225 [==============================] - 25s 112ms/step - loss: 0.0312 - acc: 0.9893 - val_loss: 0.0363 - val_acc: 0.9925\n",
            "Epoch 73/1000\n",
            "225/225 [==============================] - 25s 112ms/step - loss: 0.0316 - acc: 0.9889 - val_loss: 0.0373 - val_acc: 0.9925\n",
            "Epoch 74/1000\n",
            "225/225 [==============================] - 25s 112ms/step - loss: 0.0313 - acc: 0.9896 - val_loss: 0.0364 - val_acc: 0.9925\n",
            "Epoch 75/1000\n",
            "225/225 [==============================] - 25s 112ms/step - loss: 0.0312 - acc: 0.9894 - val_loss: 0.0361 - val_acc: 0.9925\n",
            "Epoch 76/1000\n",
            "225/225 [==============================] - 25s 112ms/step - loss: 0.0313 - acc: 0.9886 - val_loss: 0.0361 - val_acc: 0.9925\n",
            "Epoch 77/1000\n",
            "225/225 [==============================] - 25s 112ms/step - loss: 0.0312 - acc: 0.9894 - val_loss: 0.0369 - val_acc: 0.9887\n",
            "Epoch 78/1000\n",
            "225/225 [==============================] - 25s 113ms/step - loss: 0.0307 - acc: 0.9894 - val_loss: 0.0362 - val_acc: 0.9925\n",
            "Epoch 79/1000\n",
            "225/225 [==============================] - 25s 113ms/step - loss: 0.0304 - acc: 0.9904 - val_loss: 0.0363 - val_acc: 0.9900\n",
            "Epoch 80/1000\n",
            "225/225 [==============================] - 25s 112ms/step - loss: 0.0302 - acc: 0.9901 - val_loss: 0.0363 - val_acc: 0.9925\n",
            "Epoch 81/1000\n",
            "225/225 [==============================] - 25s 112ms/step - loss: 0.0308 - acc: 0.9894 - val_loss: 0.0363 - val_acc: 0.9925\n",
            "Epoch 82/1000\n",
            "225/225 [==============================] - 25s 112ms/step - loss: 0.0299 - acc: 0.9907 - val_loss: 0.0384 - val_acc: 0.9912\n",
            "Epoch 83/1000\n",
            "225/225 [==============================] - 25s 112ms/step - loss: 0.0316 - acc: 0.9892 - val_loss: 0.0360 - val_acc: 0.9925\n",
            "Epoch 84/1000\n",
            "225/225 [==============================] - 25s 112ms/step - loss: 0.0304 - acc: 0.9894 - val_loss: 0.0361 - val_acc: 0.9925\n",
            "Epoch 85/1000\n",
            "225/225 [==============================] - 25s 112ms/step - loss: 0.0303 - acc: 0.9899 - val_loss: 0.0379 - val_acc: 0.9862\n",
            "Epoch 86/1000\n",
            "225/225 [==============================] - 25s 112ms/step - loss: 0.0310 - acc: 0.9899 - val_loss: 0.0364 - val_acc: 0.9912\n",
            "Epoch 87/1000\n",
            "225/225 [==============================] - 25s 112ms/step - loss: 0.0297 - acc: 0.9903 - val_loss: 0.0367 - val_acc: 0.9900\n",
            "Epoch 88/1000\n",
            "225/225 [==============================] - 25s 112ms/step - loss: 0.0303 - acc: 0.9897 - val_loss: 0.0367 - val_acc: 0.9912\n",
            "Epoch 89/1000\n",
            "225/225 [==============================] - 25s 112ms/step - loss: 0.0301 - acc: 0.9899 - val_loss: 0.0368 - val_acc: 0.9925\n",
            "Epoch 90/1000\n",
            "225/225 [==============================] - 25s 112ms/step - loss: 0.0299 - acc: 0.9906 - val_loss: 0.0362 - val_acc: 0.9925\n",
            "Epoch 91/1000\n",
            "225/225 [==============================] - 25s 112ms/step - loss: 0.0297 - acc: 0.9894 - val_loss: 0.0360 - val_acc: 0.9925\n",
            "Epoch 92/1000\n",
            "225/225 [==============================] - 25s 112ms/step - loss: 0.0293 - acc: 0.9899 - val_loss: 0.0366 - val_acc: 0.9900\n",
            "Epoch 93/1000\n",
            "225/225 [==============================] - 25s 112ms/step - loss: 0.0295 - acc: 0.9901 - val_loss: 0.0364 - val_acc: 0.9912\n"
          ]
        }
      ]
    },
    {
      "cell_type": "code",
      "metadata": {
        "colab": {
          "base_uri": "https://localhost:8080/"
        },
        "id": "BhRo0m4wvvNW",
        "outputId": "46d28f0c-427c-4f6a-f01a-295c3aa86ccc"
      },
      "source": [
        "model.save('/content/drive/MyDrive/final_models/with_attention/model8.h5')"
      ],
      "execution_count": null,
      "outputs": [
        {
          "name": "stderr",
          "output_type": "stream",
          "text": [
            "/usr/local/lib/python3.7/dist-packages/keras/utils/generic_utils.py:497: CustomMaskWarning: Custom mask layers require a config and must override get_config. When loading, the custom mask layer must be passed to the custom_objects argument.\n",
            "  category=CustomMaskWarning)\n"
          ]
        }
      ]
    },
    {
      "cell_type": "code",
      "metadata": {
        "colab": {
          "base_uri": "https://localhost:8080/",
          "height": 562
        },
        "id": "qKbDkgBSvvNX",
        "outputId": "8532c057-6862-420e-c514-ba1c3f8efcc6"
      },
      "source": [
        "#plot acc and loss\n",
        "import matplotlib.pyplot as plt\n",
        "epochs = range(len(history.history['loss']))\n",
        "plt.plot(epochs , history.history['val_loss'])\n",
        "plt.plot(epochs , history.history['loss'])\n",
        "plt.title('loss')\n",
        "plt.figure()\n",
        "plt.plot(epochs , history.history['val_acc'])\n",
        "plt.plot(epochs , history.history['acc'])\n",
        "plt.title('accuracy')\n",
        "plt.figure()\n",
        "plt.show()"
      ],
      "execution_count": null,
      "outputs": [
        {
          "data": {
            "image/png": "[encoded data removed]",
            "text/plain": [
              "<Figure size 432x288 with 1 Axes>"
            ]
          },
          "metadata": {},
          "output_type": "display_data"
        },
        {
          "data": {
            "image/png": "[encoded data removed]",
            "text/plain": [
              "<Figure size 432x288 with 1 Axes>"
            ]
          },
          "metadata": {},
          "output_type": "display_data"
        },
        {
          "data": {
            "text/plain": [
              "<Figure size 432x288 with 0 Axes>"
            ]
          },
          "metadata": {},
          "output_type": "display_data"
        }
      ]
    },
    {
      "cell_type": "code",
      "metadata": {
        "colab": {
          "base_uri": "https://localhost:8080/"
        },
        "id": "hmPMbBRsvvNX",
        "outputId": "b42c3dc4-6989-4c95-c341-69b4fff91971"
      },
      "source": [
        "model.evaluate(test_data , test_label)"
      ],
      "execution_count": null,
      "outputs": [
        {
          "name": "stdout",
          "output_type": "stream",
          "text": [
            "74/74 [==============================] - 4s 37ms/step - loss: 0.0341 - acc: 0.9872\n"
          ]
        },
        {
          "data": {
            "text/plain": [
              "[0.034136295318603516, 0.9872013926506042]"
            ]
          },
          "execution_count": 22,
          "metadata": {},
          "output_type": "execute_result"
        }
      ]
    },
    {
      "cell_type": "code",
      "metadata": {
        "colab": {
          "base_uri": "https://localhost:8080/"
        },
        "id": "9l--VHwhvvNX",
        "outputId": "5c9873c2-44c2-499b-c195-74b10b3fc280"
      },
      "source": [
        "# performance measurements on test data 2\n",
        "\n",
        "pred = model.predict(test_data)\n",
        "\n",
        "thresh = find_opt_thresh(test_label , pred)\n",
        "print(thresh)\n",
        "prediction = np.zeros(np.shape(pred))\n",
        "prediction[pred > thresh] = 1\n",
        "\n",
        "from sklearn.metrics import accuracy_score\n",
        "accuracy = accuracy_score(test_label   , prediction)\n",
        "print('accuracy is:' , np.round(accuracy*100,2) , '%')\n",
        "print('___________________________________________')\n",
        "from sklearn.metrics import precision_score\n",
        "pscore = precision_score(test_label   , prediction)\n",
        "print('precision score is:' , np.round(pscore*100,2) , '%')\n",
        "print('___________________________________________')\n",
        "from sklearn.metrics import recall_score\n",
        "rscore = recall_score(test_label   , prediction)\n",
        "print('recall score is:' , np.round(rscore*100,2) , '%')\n",
        "print('___________________________________________')\n",
        "from sklearn.metrics import f1_score\n",
        "fscore = f1_score(test_label   , prediction)\n",
        "print('f1 score is:' , np.round(fscore*100,2) , '%')\n",
        "print('___________________________________________')\n",
        "spc = specificity_score(test_label   , prediction)\n",
        "print('specificity is:' , np.round(spc*100,2) , '%')\n",
        "print('___________________________________________')\n",
        "sen = sensitivity_score(test_label   , prediction)\n",
        "print('sensitivity is:' , np.round(sen*100,2) , '%')\n",
        "print('___________________________________________')\n",
        "from sklearn.metrics import roc_auc_score\n",
        "auc = roc_auc_score(test_label   , prediction)\n",
        "print('AUC is:' , np.round(auc,4))"
      ],
      "execution_count": null,
      "outputs": [
        {
          "name": "stdout",
          "output_type": "stream",
          "text": [
            "[0.2969392]\n",
            "accuracy is: 98.89 %\n",
            "___________________________________________\n",
            "precision score is: 72.13 %\n",
            "___________________________________________\n",
            "recall score is: 83.02 %\n",
            "___________________________________________\n",
            "f1 score is: 77.19 %\n",
            "___________________________________________\n",
            "specificity is: 99.26 %\n",
            "___________________________________________\n",
            "sensitivity is: 83.02 %\n",
            "___________________________________________\n",
            "AUC is: 0.9114\n"
          ]
        }
      ]
    },
    {
      "cell_type": "markdown",
      "metadata": {
        "id": "hNjuQYAMv3dG"
      },
      "source": [
        "#### Fold 9"
      ]
    },
    {
      "cell_type": "code",
      "metadata": {
        "id": "703VFOY1v3dH"
      },
      "source": [
        "model = CompModel()"
      ],
      "execution_count": null,
      "outputs": []
    },
    {
      "cell_type": "code",
      "metadata": {
        "colab": {
          "base_uri": "https://localhost:8080/"
        },
        "id": "hdWcQ6Rev3dH",
        "outputId": "4082217c-3e15-4041-c679-ae1af0b5aa22"
      },
      "source": [
        "history = model.fit(train_data[train_indices[8]], train_label[train_indices[8]],\n",
        "            epochs=1000,\n",
        "            validation_data = (train_data[test_indices[8]] , train_label[test_indices[8]]),\n",
        "            callbacks = [early_stopping_cb],\n",
        "            verbose = 1)"
      ],
      "execution_count": null,
      "outputs": [
        {
          "name": "stdout",
          "output_type": "stream",
          "text": [
            "Epoch 1/1000\n",
            "225/225 [==============================] - 29s 115ms/step - loss: 0.6755 - acc: 0.9778 - val_loss: 0.6384 - val_acc: 0.9775\n",
            "Epoch 2/1000\n",
            "225/225 [==============================] - 25s 109ms/step - loss: 0.3904 - acc: 0.9778 - val_loss: 0.1347 - val_acc: 0.9775\n",
            "Epoch 3/1000\n",
            "225/225 [==============================] - 25s 110ms/step - loss: 0.1253 - acc: 0.9778 - val_loss: 0.1268 - val_acc: 0.9775\n",
            "Epoch 4/1000\n",
            "225/225 [==============================] - 25s 110ms/step - loss: 0.1202 - acc: 0.9778 - val_loss: 0.1230 - val_acc: 0.9775\n",
            "Epoch 5/1000\n",
            "225/225 [==============================] - 25s 109ms/step - loss: 0.1173 - acc: 0.9778 - val_loss: 0.1186 - val_acc: 0.9775\n",
            "Epoch 6/1000\n",
            "225/225 [==============================] - 25s 109ms/step - loss: 0.1147 - acc: 0.9778 - val_loss: 0.1160 - val_acc: 0.9775\n",
            "Epoch 7/1000\n",
            "225/225 [==============================] - 25s 109ms/step - loss: 0.1128 - acc: 0.9778 - val_loss: 0.1141 - val_acc: 0.9775\n",
            "Epoch 8/1000\n",
            "225/225 [==============================] - 25s 109ms/step - loss: 0.1112 - acc: 0.9778 - val_loss: 0.1132 - val_acc: 0.9775\n",
            "Epoch 9/1000\n",
            "225/225 [==============================] - 25s 109ms/step - loss: 0.1107 - acc: 0.9778 - val_loss: 0.1118 - val_acc: 0.9775\n",
            "Epoch 10/1000\n",
            "225/225 [==============================] - 25s 109ms/step - loss: 0.1096 - acc: 0.9778 - val_loss: 0.1108 - val_acc: 0.9775\n",
            "Epoch 11/1000\n",
            "225/225 [==============================] - 25s 109ms/step - loss: 0.1089 - acc: 0.9778 - val_loss: 0.1101 - val_acc: 0.9775\n",
            "Epoch 12/1000\n",
            "225/225 [==============================] - 25s 109ms/step - loss: 0.1083 - acc: 0.9778 - val_loss: 0.1094 - val_acc: 0.9775\n",
            "Epoch 13/1000\n",
            "225/225 [==============================] - 25s 109ms/step - loss: 0.1076 - acc: 0.9778 - val_loss: 0.1086 - val_acc: 0.9775\n",
            "Epoch 14/1000\n",
            "225/225 [==============================] - 25s 110ms/step - loss: 0.1072 - acc: 0.9778 - val_loss: 0.1080 - val_acc: 0.9775\n",
            "Epoch 15/1000\n",
            "225/225 [==============================] - 25s 109ms/step - loss: 0.1066 - acc: 0.9778 - val_loss: 0.1074 - val_acc: 0.9775\n",
            "Epoch 16/1000\n",
            "225/225 [==============================] - 25s 109ms/step - loss: 0.1060 - acc: 0.9778 - val_loss: 0.1066 - val_acc: 0.9775\n",
            "Epoch 17/1000\n",
            "225/225 [==============================] - 25s 109ms/step - loss: 0.1055 - acc: 0.9778 - val_loss: 0.1063 - val_acc: 0.9775\n",
            "Epoch 18/1000\n",
            "225/225 [==============================] - 25s 109ms/step - loss: 0.1049 - acc: 0.9778 - val_loss: 0.1051 - val_acc: 0.9775\n",
            "Epoch 19/1000\n",
            "225/225 [==============================] - 25s 109ms/step - loss: 0.1038 - acc: 0.9778 - val_loss: 0.1041 - val_acc: 0.9775\n",
            "Epoch 20/1000\n",
            "225/225 [==============================] - 25s 109ms/step - loss: 0.1027 - acc: 0.9778 - val_loss: 0.1022 - val_acc: 0.9775\n",
            "Epoch 21/1000\n",
            "225/225 [==============================] - 25s 109ms/step - loss: 0.1010 - acc: 0.9778 - val_loss: 0.1001 - val_acc: 0.9775\n",
            "Epoch 22/1000\n",
            "225/225 [==============================] - 25s 109ms/step - loss: 0.0988 - acc: 0.9778 - val_loss: 0.0977 - val_acc: 0.9775\n",
            "Epoch 23/1000\n",
            "225/225 [==============================] - 25s 109ms/step - loss: 0.0963 - acc: 0.9778 - val_loss: 0.0947 - val_acc: 0.9775\n",
            "Epoch 24/1000\n",
            "225/225 [==============================] - 25s 109ms/step - loss: 0.0934 - acc: 0.9778 - val_loss: 0.0919 - val_acc: 0.9775\n",
            "Epoch 25/1000\n",
            "225/225 [==============================] - 25s 109ms/step - loss: 0.0901 - acc: 0.9778 - val_loss: 0.0885 - val_acc: 0.9775\n",
            "Epoch 26/1000\n",
            "225/225 [==============================] - 25s 109ms/step - loss: 0.0871 - acc: 0.9778 - val_loss: 0.0845 - val_acc: 0.9775\n",
            "Epoch 27/1000\n",
            "225/225 [==============================] - 25s 109ms/step - loss: 0.0842 - acc: 0.9778 - val_loss: 0.0818 - val_acc: 0.9775\n",
            "Epoch 28/1000\n",
            "225/225 [==============================] - 25s 109ms/step - loss: 0.0818 - acc: 0.9778 - val_loss: 0.0799 - val_acc: 0.9775\n",
            "Epoch 29/1000\n",
            "225/225 [==============================] - 25s 109ms/step - loss: 0.0799 - acc: 0.9778 - val_loss: 0.0771 - val_acc: 0.9775\n",
            "Epoch 30/1000\n",
            "225/225 [==============================] - 25s 109ms/step - loss: 0.0780 - acc: 0.9778 - val_loss: 0.0752 - val_acc: 0.9775\n",
            "Epoch 31/1000\n",
            "225/225 [==============================] - 25s 109ms/step - loss: 0.0765 - acc: 0.9778 - val_loss: 0.0737 - val_acc: 0.9775\n",
            "Epoch 32/1000\n",
            "225/225 [==============================] - 25s 109ms/step - loss: 0.0750 - acc: 0.9778 - val_loss: 0.0720 - val_acc: 0.9775\n",
            "Epoch 33/1000\n",
            "225/225 [==============================] - 25s 109ms/step - loss: 0.0739 - acc: 0.9778 - val_loss: 0.0716 - val_acc: 0.9775\n",
            "Epoch 34/1000\n",
            "225/225 [==============================] - 25s 109ms/step - loss: 0.0729 - acc: 0.9778 - val_loss: 0.0697 - val_acc: 0.9775\n",
            "Epoch 35/1000\n",
            "225/225 [==============================] - 25s 109ms/step - loss: 0.0717 - acc: 0.9778 - val_loss: 0.0681 - val_acc: 0.9775\n",
            "Epoch 36/1000\n",
            "225/225 [==============================] - 25s 109ms/step - loss: 0.0704 - acc: 0.9778 - val_loss: 0.0665 - val_acc: 0.9775\n",
            "Epoch 37/1000\n",
            "225/225 [==============================] - 25s 109ms/step - loss: 0.0696 - acc: 0.9778 - val_loss: 0.0653 - val_acc: 0.9775\n",
            "Epoch 38/1000\n",
            "225/225 [==============================] - 25s 109ms/step - loss: 0.0685 - acc: 0.9778 - val_loss: 0.0643 - val_acc: 0.9775\n",
            "Epoch 39/1000\n",
            "225/225 [==============================] - 25s 109ms/step - loss: 0.0678 - acc: 0.9778 - val_loss: 0.0633 - val_acc: 0.9775\n",
            "Epoch 40/1000\n",
            "225/225 [==============================] - 25s 110ms/step - loss: 0.0669 - acc: 0.9778 - val_loss: 0.0625 - val_acc: 0.9775\n",
            "Epoch 41/1000\n",
            "225/225 [==============================] - 25s 110ms/step - loss: 0.0661 - acc: 0.9778 - val_loss: 0.0626 - val_acc: 0.9775\n",
            "Epoch 42/1000\n",
            "225/225 [==============================] - 25s 110ms/step - loss: 0.0653 - acc: 0.9778 - val_loss: 0.0605 - val_acc: 0.9775\n",
            "Epoch 43/1000\n",
            "225/225 [==============================] - 25s 109ms/step - loss: 0.0645 - acc: 0.9782 - val_loss: 0.0596 - val_acc: 0.9775\n",
            "Epoch 44/1000\n",
            "225/225 [==============================] - 25s 109ms/step - loss: 0.0634 - acc: 0.9789 - val_loss: 0.0612 - val_acc: 0.9775\n",
            "Epoch 45/1000\n",
            "225/225 [==============================] - 25s 109ms/step - loss: 0.0633 - acc: 0.9790 - val_loss: 0.0581 - val_acc: 0.9750\n",
            "Epoch 46/1000\n",
            "225/225 [==============================] - 25s 109ms/step - loss: 0.0624 - acc: 0.9793 - val_loss: 0.0571 - val_acc: 0.9750\n",
            "Epoch 47/1000\n",
            "225/225 [==============================] - 25s 109ms/step - loss: 0.0615 - acc: 0.9796 - val_loss: 0.0562 - val_acc: 0.9750\n",
            "Epoch 48/1000\n",
            "225/225 [==============================] - 25s 109ms/step - loss: 0.0606 - acc: 0.9793 - val_loss: 0.0553 - val_acc: 0.9762\n",
            "Epoch 49/1000\n",
            "225/225 [==============================] - 25s 109ms/step - loss: 0.0596 - acc: 0.9786 - val_loss: 0.0545 - val_acc: 0.9750\n",
            "Epoch 50/1000\n",
            "225/225 [==============================] - 25s 109ms/step - loss: 0.0588 - acc: 0.9787 - val_loss: 0.0535 - val_acc: 0.9762\n",
            "Epoch 51/1000\n",
            "225/225 [==============================] - 25s 109ms/step - loss: 0.0580 - acc: 0.9787 - val_loss: 0.0533 - val_acc: 0.9775\n",
            "Epoch 52/1000\n",
            "225/225 [==============================] - 25s 109ms/step - loss: 0.0570 - acc: 0.9786 - val_loss: 0.0516 - val_acc: 0.9762\n",
            "Epoch 53/1000\n",
            "225/225 [==============================] - 25s 109ms/step - loss: 0.0561 - acc: 0.9787 - val_loss: 0.0507 - val_acc: 0.9762\n",
            "Epoch 54/1000\n",
            "225/225 [==============================] - 25s 109ms/step - loss: 0.0552 - acc: 0.9786 - val_loss: 0.0504 - val_acc: 0.9775\n",
            "Epoch 55/1000\n",
            "225/225 [==============================] - 25s 109ms/step - loss: 0.0543 - acc: 0.9794 - val_loss: 0.0487 - val_acc: 0.9762\n",
            "Epoch 56/1000\n",
            "225/225 [==============================] - 25s 109ms/step - loss: 0.0538 - acc: 0.9793 - val_loss: 0.0480 - val_acc: 0.9762\n",
            "Epoch 57/1000\n",
            "225/225 [==============================] - 25s 109ms/step - loss: 0.0524 - acc: 0.9794 - val_loss: 0.0478 - val_acc: 0.9762\n",
            "Epoch 58/1000\n",
            "225/225 [==============================] - 25s 109ms/step - loss: 0.0520 - acc: 0.9793 - val_loss: 0.0459 - val_acc: 0.9762\n",
            "Epoch 59/1000\n",
            "225/225 [==============================] - 24s 109ms/step - loss: 0.0511 - acc: 0.9801 - val_loss: 0.0450 - val_acc: 0.9775\n",
            "Epoch 60/1000\n",
            "225/225 [==============================] - 25s 109ms/step - loss: 0.0504 - acc: 0.9808 - val_loss: 0.0441 - val_acc: 0.9787\n",
            "Epoch 61/1000\n",
            "225/225 [==============================] - 25s 109ms/step - loss: 0.0493 - acc: 0.9818 - val_loss: 0.0449 - val_acc: 0.9762\n",
            "Epoch 62/1000\n",
            "225/225 [==============================] - 25s 109ms/step - loss: 0.0490 - acc: 0.9817 - val_loss: 0.0433 - val_acc: 0.9837\n",
            "Epoch 63/1000\n",
            "225/225 [==============================] - 25s 109ms/step - loss: 0.0476 - acc: 0.9833 - val_loss: 0.0426 - val_acc: 0.9787\n",
            "Epoch 64/1000\n",
            "225/225 [==============================] - 25s 109ms/step - loss: 0.0481 - acc: 0.9837 - val_loss: 0.0411 - val_acc: 0.9837\n",
            "Epoch 65/1000\n",
            "225/225 [==============================] - 25s 109ms/step - loss: 0.0469 - acc: 0.9837 - val_loss: 0.0421 - val_acc: 0.9862\n",
            "Epoch 66/1000\n",
            "225/225 [==============================] - 25s 109ms/step - loss: 0.0466 - acc: 0.9847 - val_loss: 0.0406 - val_acc: 0.9862\n",
            "Epoch 67/1000\n",
            "225/225 [==============================] - 25s 109ms/step - loss: 0.0459 - acc: 0.9849 - val_loss: 0.0442 - val_acc: 0.9887\n",
            "Epoch 68/1000\n",
            "225/225 [==============================] - 25s 109ms/step - loss: 0.0455 - acc: 0.9851 - val_loss: 0.0395 - val_acc: 0.9900\n",
            "Epoch 69/1000\n",
            "225/225 [==============================] - 25s 109ms/step - loss: 0.0452 - acc: 0.9853 - val_loss: 0.0391 - val_acc: 0.9900\n",
            "Epoch 70/1000\n",
            "225/225 [==============================] - 25s 109ms/step - loss: 0.0444 - acc: 0.9851 - val_loss: 0.0384 - val_acc: 0.9900\n",
            "Epoch 71/1000\n",
            "225/225 [==============================] - 25s 109ms/step - loss: 0.0433 - acc: 0.9861 - val_loss: 0.0376 - val_acc: 0.9850\n",
            "Epoch 72/1000\n",
            "225/225 [==============================] - 25s 109ms/step - loss: 0.0433 - acc: 0.9862 - val_loss: 0.0363 - val_acc: 0.9900\n",
            "Epoch 73/1000\n",
            "225/225 [==============================] - 25s 109ms/step - loss: 0.0434 - acc: 0.9860 - val_loss: 0.0364 - val_acc: 0.9912\n",
            "Epoch 74/1000\n",
            "225/225 [==============================] - 24s 109ms/step - loss: 0.0429 - acc: 0.9858 - val_loss: 0.0382 - val_acc: 0.9875\n",
            "Epoch 75/1000\n",
            "225/225 [==============================] - 25s 109ms/step - loss: 0.0422 - acc: 0.9869 - val_loss: 0.0355 - val_acc: 0.9900\n",
            "Epoch 76/1000\n",
            "225/225 [==============================] - 24s 109ms/step - loss: 0.0417 - acc: 0.9864 - val_loss: 0.0352 - val_acc: 0.9900\n",
            "Epoch 77/1000\n",
            "225/225 [==============================] - 25s 109ms/step - loss: 0.0413 - acc: 0.9862 - val_loss: 0.0343 - val_acc: 0.9887\n",
            "Epoch 78/1000\n",
            "225/225 [==============================] - 25s 109ms/step - loss: 0.0411 - acc: 0.9875 - val_loss: 0.0353 - val_acc: 0.9900\n",
            "Epoch 79/1000\n",
            "225/225 [==============================] - 25s 109ms/step - loss: 0.0406 - acc: 0.9869 - val_loss: 0.0336 - val_acc: 0.9912\n",
            "Epoch 80/1000\n",
            "225/225 [==============================] - 25s 109ms/step - loss: 0.0406 - acc: 0.9874 - val_loss: 0.0342 - val_acc: 0.9887\n",
            "Epoch 81/1000\n",
            "225/225 [==============================] - 25s 109ms/step - loss: 0.0398 - acc: 0.9872 - val_loss: 0.0337 - val_acc: 0.9900\n",
            "Epoch 82/1000\n",
            "225/225 [==============================] - 24s 109ms/step - loss: 0.0395 - acc: 0.9879 - val_loss: 0.0339 - val_acc: 0.9887\n",
            "Epoch 83/1000\n",
            "225/225 [==============================] - 25s 109ms/step - loss: 0.0396 - acc: 0.9875 - val_loss: 0.0344 - val_acc: 0.9900\n",
            "Epoch 84/1000\n",
            "225/225 [==============================] - 25s 109ms/step - loss: 0.0391 - acc: 0.9874 - val_loss: 0.0354 - val_acc: 0.9887\n",
            "Epoch 85/1000\n",
            "225/225 [==============================] - 25s 109ms/step - loss: 0.0386 - acc: 0.9871 - val_loss: 0.0343 - val_acc: 0.9887\n",
            "Epoch 86/1000\n",
            "225/225 [==============================] - 25s 109ms/step - loss: 0.0387 - acc: 0.9878 - val_loss: 0.0340 - val_acc: 0.9887\n",
            "Epoch 87/1000\n",
            "225/225 [==============================] - 25s 109ms/step - loss: 0.0385 - acc: 0.9872 - val_loss: 0.0321 - val_acc: 0.9900\n",
            "Epoch 88/1000\n",
            "225/225 [==============================] - 25s 109ms/step - loss: 0.0381 - acc: 0.9885 - val_loss: 0.0314 - val_acc: 0.9900\n",
            "Epoch 89/1000\n",
            "225/225 [==============================] - 25s 109ms/step - loss: 0.0378 - acc: 0.9883 - val_loss: 0.0331 - val_acc: 0.9887\n",
            "Epoch 90/1000\n",
            "225/225 [==============================] - 25s 109ms/step - loss: 0.0375 - acc: 0.9879 - val_loss: 0.0310 - val_acc: 0.9900\n",
            "Epoch 91/1000\n",
            "225/225 [==============================] - 24s 109ms/step - loss: 0.0370 - acc: 0.9883 - val_loss: 0.0309 - val_acc: 0.9900\n",
            "Epoch 92/1000\n",
            "225/225 [==============================] - 25s 109ms/step - loss: 0.0368 - acc: 0.9868 - val_loss: 0.0326 - val_acc: 0.9900\n",
            "Epoch 93/1000\n",
            "225/225 [==============================] - 25s 109ms/step - loss: 0.0368 - acc: 0.9883 - val_loss: 0.0316 - val_acc: 0.9900\n",
            "Epoch 94/1000\n",
            "225/225 [==============================] - 25s 109ms/step - loss: 0.0362 - acc: 0.9882 - val_loss: 0.0303 - val_acc: 0.9912\n",
            "Epoch 95/1000\n",
            "225/225 [==============================] - 25s 110ms/step - loss: 0.0360 - acc: 0.9875 - val_loss: 0.0303 - val_acc: 0.9887\n",
            "Epoch 96/1000\n",
            "225/225 [==============================] - 25s 110ms/step - loss: 0.0365 - acc: 0.9889 - val_loss: 0.0325 - val_acc: 0.9875\n",
            "Epoch 97/1000\n",
            "225/225 [==============================] - 25s 109ms/step - loss: 0.0357 - acc: 0.9882 - val_loss: 0.0326 - val_acc: 0.9862\n",
            "Epoch 98/1000\n",
            "225/225 [==============================] - 25s 109ms/step - loss: 0.0358 - acc: 0.9886 - val_loss: 0.0300 - val_acc: 0.9912\n",
            "Epoch 99/1000\n",
            "225/225 [==============================] - 25s 109ms/step - loss: 0.0359 - acc: 0.9881 - val_loss: 0.0303 - val_acc: 0.9900\n",
            "Epoch 100/1000\n",
            "225/225 [==============================] - 25s 109ms/step - loss: 0.0355 - acc: 0.9894 - val_loss: 0.0339 - val_acc: 0.9862\n",
            "Epoch 101/1000\n",
            "225/225 [==============================] - 25s 109ms/step - loss: 0.0352 - acc: 0.9889 - val_loss: 0.0296 - val_acc: 0.9912\n",
            "Epoch 102/1000\n",
            "225/225 [==============================] - 25s 109ms/step - loss: 0.0349 - acc: 0.9879 - val_loss: 0.0296 - val_acc: 0.9900\n",
            "Epoch 103/1000\n",
            "225/225 [==============================] - 25s 109ms/step - loss: 0.0351 - acc: 0.9892 - val_loss: 0.0301 - val_acc: 0.9887\n",
            "Epoch 104/1000\n",
            "225/225 [==============================] - 25s 109ms/step - loss: 0.0348 - acc: 0.9890 - val_loss: 0.0295 - val_acc: 0.9900\n",
            "Epoch 105/1000\n",
            "225/225 [==============================] - 25s 109ms/step - loss: 0.0346 - acc: 0.9890 - val_loss: 0.0313 - val_acc: 0.9862\n",
            "Epoch 106/1000\n",
            "225/225 [==============================] - 25s 109ms/step - loss: 0.0348 - acc: 0.9896 - val_loss: 0.0348 - val_acc: 0.9862\n",
            "Epoch 107/1000\n",
            "225/225 [==============================] - 25s 109ms/step - loss: 0.0346 - acc: 0.9894 - val_loss: 0.0305 - val_acc: 0.9887\n",
            "Epoch 108/1000\n",
            "225/225 [==============================] - 25s 109ms/step - loss: 0.0346 - acc: 0.9893 - val_loss: 0.0300 - val_acc: 0.9887\n",
            "Epoch 109/1000\n",
            "225/225 [==============================] - 25s 109ms/step - loss: 0.0345 - acc: 0.9896 - val_loss: 0.0310 - val_acc: 0.9862\n",
            "Epoch 110/1000\n",
            "225/225 [==============================] - 25s 109ms/step - loss: 0.0341 - acc: 0.9897 - val_loss: 0.0297 - val_acc: 0.9925\n",
            "Epoch 111/1000\n",
            "225/225 [==============================] - 25s 109ms/step - loss: 0.0337 - acc: 0.9894 - val_loss: 0.0293 - val_acc: 0.9887\n",
            "Epoch 112/1000\n",
            "225/225 [==============================] - 25s 109ms/step - loss: 0.0344 - acc: 0.9900 - val_loss: 0.0306 - val_acc: 0.9875\n",
            "Epoch 113/1000\n",
            "225/225 [==============================] - 25s 109ms/step - loss: 0.0340 - acc: 0.9890 - val_loss: 0.0332 - val_acc: 0.9862\n",
            "Epoch 114/1000\n",
            "225/225 [==============================] - 25s 109ms/step - loss: 0.0336 - acc: 0.9899 - val_loss: 0.0299 - val_acc: 0.9862\n",
            "Epoch 115/1000\n",
            "225/225 [==============================] - 25s 109ms/step - loss: 0.0333 - acc: 0.9897 - val_loss: 0.0339 - val_acc: 0.9862\n",
            "Epoch 116/1000\n",
            "225/225 [==============================] - 25s 109ms/step - loss: 0.0333 - acc: 0.9897 - val_loss: 0.0296 - val_acc: 0.9887\n",
            "Epoch 117/1000\n",
            "225/225 [==============================] - 25s 109ms/step - loss: 0.0323 - acc: 0.9899 - val_loss: 0.0313 - val_acc: 0.9912\n",
            "Epoch 118/1000\n",
            "225/225 [==============================] - 25s 109ms/step - loss: 0.0333 - acc: 0.9900 - val_loss: 0.0300 - val_acc: 0.9875\n",
            "Epoch 119/1000\n",
            "225/225 [==============================] - 25s 109ms/step - loss: 0.0332 - acc: 0.9894 - val_loss: 0.0299 - val_acc: 0.9875\n",
            "Epoch 120/1000\n",
            "225/225 [==============================] - 25s 109ms/step - loss: 0.0335 - acc: 0.9893 - val_loss: 0.0296 - val_acc: 0.9900\n",
            "Epoch 121/1000\n",
            "225/225 [==============================] - 25s 109ms/step - loss: 0.0326 - acc: 0.9906 - val_loss: 0.0301 - val_acc: 0.9912\n"
          ]
        }
      ]
    },
    {
      "cell_type": "code",
      "metadata": {
        "colab": {
          "base_uri": "https://localhost:8080/"
        },
        "id": "oOnmKXfdv3dI",
        "outputId": "984d8ffe-db28-4837-db19-451eab1652a8"
      },
      "source": [
        "model.save('/content/drive/MyDrive/final_models/with_attention/model9.h5')"
      ],
      "execution_count": null,
      "outputs": [
        {
          "name": "stderr",
          "output_type": "stream",
          "text": [
            "/usr/local/lib/python3.7/dist-packages/keras/utils/generic_utils.py:497: CustomMaskWarning: Custom mask layers require a config and must override get_config. When loading, the custom mask layer must be passed to the custom_objects argument.\n",
            "  category=CustomMaskWarning)\n"
          ]
        }
      ]
    },
    {
      "cell_type": "code",
      "metadata": {
        "colab": {
          "base_uri": "https://localhost:8080/",
          "height": 562
        },
        "id": "uQDhoWNJv3dI",
        "outputId": "f9d6b0e8-4b51-427d-862b-ff331ade6538"
      },
      "source": [
        "#plot acc and loss\n",
        "import matplotlib.pyplot as plt\n",
        "epochs = range(len(history.history['loss']))\n",
        "plt.plot(epochs , history.history['val_loss'])\n",
        "plt.plot(epochs , history.history['loss'])\n",
        "plt.title('loss')\n",
        "plt.figure()\n",
        "plt.plot(epochs , history.history['val_acc'])\n",
        "plt.plot(epochs , history.history['acc'])\n",
        "plt.title('accuracy')\n",
        "plt.figure()\n",
        "plt.show()"
      ],
      "execution_count": null,
      "outputs": [
        {
          "data": {
            "image/png": "[encoded data removed]",
            "text/plain": [
              "<Figure size 432x288 with 1 Axes>"
            ]
          },
          "metadata": {},
          "output_type": "display_data"
        },
        {
          "data": {
            "image/png": "[encoded data removed]",
            "text/plain": [
              "<Figure size 432x288 with 1 Axes>"
            ]
          },
          "metadata": {},
          "output_type": "display_data"
        },
        {
          "data": {
            "text/plain": [
              "<Figure size 432x288 with 0 Axes>"
            ]
          },
          "metadata": {},
          "output_type": "display_data"
        }
      ]
    },
    {
      "cell_type": "code",
      "metadata": {
        "colab": {
          "base_uri": "https://localhost:8080/"
        },
        "id": "hWAvClORv3dI",
        "outputId": "185699ed-5632-43eb-c45a-6b6d58c95f64"
      },
      "source": [
        "model.evaluate(test_data , test_label)"
      ],
      "execution_count": null,
      "outputs": [
        {
          "name": "stdout",
          "output_type": "stream",
          "text": [
            "74/74 [==============================] - 4s 37ms/step - loss: 0.0354 - acc: 0.9876\n"
          ]
        },
        {
          "data": {
            "text/plain": [
              "[0.03542938455939293, 0.9876279830932617]"
            ]
          },
          "execution_count": 28,
          "metadata": {},
          "output_type": "execute_result"
        }
      ]
    },
    {
      "cell_type": "code",
      "metadata": {
        "colab": {
          "base_uri": "https://localhost:8080/"
        },
        "id": "bkprcsPov3dJ",
        "outputId": "c42933c4-d35a-4c77-a735-fb06122cbd37"
      },
      "source": [
        "# performance measurements on test data 2\n",
        "\n",
        "pred = model.predict(test_data)\n",
        "\n",
        "thresh = find_opt_thresh(test_label , pred)\n",
        "print(thresh)\n",
        "prediction = np.zeros(np.shape(pred))\n",
        "prediction[pred > thresh] = 1\n",
        "\n",
        "from sklearn.metrics import accuracy_score\n",
        "accuracy = accuracy_score(test_label   , prediction)\n",
        "print('accuracy is:' , np.round(accuracy*100,2) , '%')\n",
        "print('___________________________________________')\n",
        "from sklearn.metrics import precision_score\n",
        "pscore = precision_score(test_label   , prediction)\n",
        "print('precision score is:' , np.round(pscore*100,2) , '%')\n",
        "print('___________________________________________')\n",
        "from sklearn.metrics import recall_score\n",
        "rscore = recall_score(test_label   , prediction)\n",
        "print('recall score is:' , np.round(rscore*100,2) , '%')\n",
        "print('___________________________________________')\n",
        "from sklearn.metrics import f1_score\n",
        "fscore = f1_score(test_label   , prediction)\n",
        "print('f1 score is:' , np.round(fscore*100,2) , '%')\n",
        "print('___________________________________________')\n",
        "spc = specificity_score(test_label   , prediction)\n",
        "print('specificity is:' , np.round(spc*100,2) , '%')\n",
        "print('___________________________________________')\n",
        "sen = sensitivity_score(test_label   , prediction)\n",
        "print('sensitivity is:' , np.round(sen*100,2) , '%')\n",
        "print('___________________________________________')\n",
        "from sklearn.metrics import roc_auc_score\n",
        "auc = roc_auc_score(test_label   , prediction)\n",
        "print('AUC is:' , np.round(auc,4))"
      ],
      "execution_count": null,
      "outputs": [
        {
          "name": "stdout",
          "output_type": "stream",
          "text": [
            "[0.4620613]\n",
            "accuracy is: 98.85 %\n",
            "___________________________________________\n",
            "precision score is: 76.0 %\n",
            "___________________________________________\n",
            "recall score is: 71.7 %\n",
            "___________________________________________\n",
            "f1 score is: 73.79 %\n",
            "___________________________________________\n",
            "specificity is: 99.48 %\n",
            "___________________________________________\n",
            "sensitivity is: 71.7 %\n",
            "___________________________________________\n",
            "AUC is: 0.8559\n"
          ]
        }
      ]
    },
    {
      "cell_type": "markdown",
      "metadata": {
        "id": "uOc5BT7dv96W"
      },
      "source": [
        "#### Fold 10"
      ]
    },
    {
      "cell_type": "code",
      "metadata": {
        "id": "GYuXguqqv96W"
      },
      "source": [
        "model = CompModel()"
      ],
      "execution_count": null,
      "outputs": []
    },
    {
      "cell_type": "code",
      "metadata": {
        "colab": {
          "base_uri": "https://localhost:8080/"
        },
        "id": "Ogv2-ENOv96W",
        "outputId": "40b8893a-2819-4e84-af08-ad3c489527d7"
      },
      "source": [
        "history = model.fit(train_data[train_indices[9]], train_label[train_indices[9]],\n",
        "            epochs=1000,\n",
        "            validation_data = (train_data[test_indices[9]] , train_label[test_indices[9]]),\n",
        "            callbacks = [early_stopping_cb],\n",
        "            verbose = 1)"
      ],
      "execution_count": null,
      "outputs": [
        {
          "name": "stdout",
          "output_type": "stream",
          "text": [
            "Epoch 1/1000\n",
            "225/225 [==============================] - 29s 113ms/step - loss: 0.6711 - acc: 0.9778 - val_loss: 0.6187 - val_acc: 0.9775\n",
            "Epoch 2/1000\n",
            "225/225 [==============================] - 25s 110ms/step - loss: 0.3307 - acc: 0.9778 - val_loss: 0.1257 - val_acc: 0.9775\n",
            "Epoch 3/1000\n",
            "225/225 [==============================] - 25s 110ms/step - loss: 0.1196 - acc: 0.9778 - val_loss: 0.1203 - val_acc: 0.9775\n",
            "Epoch 4/1000\n",
            "225/225 [==============================] - 25s 110ms/step - loss: 0.1164 - acc: 0.9778 - val_loss: 0.1174 - val_acc: 0.9775\n",
            "Epoch 5/1000\n",
            "225/225 [==============================] - 25s 110ms/step - loss: 0.1141 - acc: 0.9778 - val_loss: 0.1153 - val_acc: 0.9775\n",
            "Epoch 6/1000\n",
            "225/225 [==============================] - 25s 110ms/step - loss: 0.1125 - acc: 0.9778 - val_loss: 0.1134 - val_acc: 0.9775\n",
            "Epoch 7/1000\n",
            "225/225 [==============================] - 25s 110ms/step - loss: 0.1111 - acc: 0.9778 - val_loss: 0.1121 - val_acc: 0.9775\n",
            "Epoch 8/1000\n",
            "225/225 [==============================] - 25s 110ms/step - loss: 0.1099 - acc: 0.9778 - val_loss: 0.1107 - val_acc: 0.9775\n",
            "Epoch 9/1000\n",
            "225/225 [==============================] - 25s 110ms/step - loss: 0.1088 - acc: 0.9778 - val_loss: 0.1096 - val_acc: 0.9775\n",
            "Epoch 10/1000\n",
            "225/225 [==============================] - 25s 110ms/step - loss: 0.1077 - acc: 0.9778 - val_loss: 0.1083 - val_acc: 0.9775\n",
            "Epoch 11/1000\n",
            "225/225 [==============================] - 25s 110ms/step - loss: 0.1069 - acc: 0.9778 - val_loss: 0.1072 - val_acc: 0.9775\n",
            "Epoch 12/1000\n",
            "225/225 [==============================] - 25s 110ms/step - loss: 0.1049 - acc: 0.9778 - val_loss: 0.1052 - val_acc: 0.9775\n",
            "Epoch 13/1000\n",
            "225/225 [==============================] - 25s 110ms/step - loss: 0.1027 - acc: 0.9778 - val_loss: 0.1006 - val_acc: 0.9775\n",
            "Epoch 14/1000\n",
            "225/225 [==============================] - 25s 110ms/step - loss: 0.0992 - acc: 0.9778 - val_loss: 0.0956 - val_acc: 0.9775\n",
            "Epoch 15/1000\n",
            "225/225 [==============================] - 25s 110ms/step - loss: 0.0949 - acc: 0.9778 - val_loss: 0.0908 - val_acc: 0.9775\n",
            "Epoch 16/1000\n",
            "225/225 [==============================] - 25s 110ms/step - loss: 0.0916 - acc: 0.9778 - val_loss: 0.0853 - val_acc: 0.9775\n",
            "Epoch 17/1000\n",
            "225/225 [==============================] - 25s 110ms/step - loss: 0.0877 - acc: 0.9778 - val_loss: 0.0814 - val_acc: 0.9775\n",
            "Epoch 18/1000\n",
            "225/225 [==============================] - 25s 110ms/step - loss: 0.0851 - acc: 0.9778 - val_loss: 0.0779 - val_acc: 0.9775\n",
            "Epoch 19/1000\n",
            "225/225 [==============================] - 25s 110ms/step - loss: 0.0830 - acc: 0.9778 - val_loss: 0.0753 - val_acc: 0.9775\n",
            "Epoch 20/1000\n",
            "225/225 [==============================] - 25s 110ms/step - loss: 0.0809 - acc: 0.9778 - val_loss: 0.0740 - val_acc: 0.9775\n",
            "Epoch 21/1000\n",
            "225/225 [==============================] - 25s 110ms/step - loss: 0.0794 - acc: 0.9778 - val_loss: 0.0710 - val_acc: 0.9775\n",
            "Epoch 22/1000\n",
            "225/225 [==============================] - 25s 110ms/step - loss: 0.0781 - acc: 0.9778 - val_loss: 0.0696 - val_acc: 0.9775\n",
            "Epoch 23/1000\n",
            "225/225 [==============================] - 25s 110ms/step - loss: 0.0769 - acc: 0.9778 - val_loss: 0.0705 - val_acc: 0.9775\n",
            "Epoch 24/1000\n",
            "225/225 [==============================] - 25s 110ms/step - loss: 0.0759 - acc: 0.9778 - val_loss: 0.0670 - val_acc: 0.9775\n",
            "Epoch 25/1000\n",
            "225/225 [==============================] - 25s 110ms/step - loss: 0.0746 - acc: 0.9778 - val_loss: 0.0663 - val_acc: 0.9775\n",
            "Epoch 26/1000\n",
            "225/225 [==============================] - 25s 110ms/step - loss: 0.0740 - acc: 0.9778 - val_loss: 0.0652 - val_acc: 0.9775\n",
            "Epoch 27/1000\n",
            "225/225 [==============================] - 25s 110ms/step - loss: 0.0732 - acc: 0.9778 - val_loss: 0.0653 - val_acc: 0.9775\n",
            "Epoch 28/1000\n",
            "225/225 [==============================] - 25s 110ms/step - loss: 0.0726 - acc: 0.9778 - val_loss: 0.0639 - val_acc: 0.9775\n",
            "Epoch 29/1000\n",
            "225/225 [==============================] - 25s 110ms/step - loss: 0.0719 - acc: 0.9778 - val_loss: 0.0636 - val_acc: 0.9775\n",
            "Epoch 30/1000\n",
            "225/225 [==============================] - 25s 110ms/step - loss: 0.0708 - acc: 0.9778 - val_loss: 0.0627 - val_acc: 0.9775\n",
            "Epoch 31/1000\n",
            "225/225 [==============================] - 25s 110ms/step - loss: 0.0706 - acc: 0.9778 - val_loss: 0.0619 - val_acc: 0.9775\n",
            "Epoch 32/1000\n",
            "225/225 [==============================] - 25s 110ms/step - loss: 0.0699 - acc: 0.9778 - val_loss: 0.0614 - val_acc: 0.9775\n",
            "Epoch 33/1000\n",
            "225/225 [==============================] - 25s 110ms/step - loss: 0.0695 - acc: 0.9778 - val_loss: 0.0633 - val_acc: 0.9775\n",
            "Epoch 34/1000\n",
            "225/225 [==============================] - 25s 110ms/step - loss: 0.0691 - acc: 0.9778 - val_loss: 0.0604 - val_acc: 0.9775\n",
            "Epoch 35/1000\n",
            "225/225 [==============================] - 25s 110ms/step - loss: 0.0682 - acc: 0.9778 - val_loss: 0.0597 - val_acc: 0.9775\n",
            "Epoch 36/1000\n",
            "225/225 [==============================] - 25s 110ms/step - loss: 0.0675 - acc: 0.9778 - val_loss: 0.0605 - val_acc: 0.9775\n",
            "Epoch 37/1000\n",
            "225/225 [==============================] - 25s 110ms/step - loss: 0.0671 - acc: 0.9778 - val_loss: 0.0585 - val_acc: 0.9775\n",
            "Epoch 38/1000\n",
            "225/225 [==============================] - 25s 110ms/step - loss: 0.0662 - acc: 0.9778 - val_loss: 0.0586 - val_acc: 0.9775\n",
            "Epoch 39/1000\n",
            "225/225 [==============================] - 25s 110ms/step - loss: 0.0653 - acc: 0.9778 - val_loss: 0.0574 - val_acc: 0.9775\n",
            "Epoch 40/1000\n",
            "225/225 [==============================] - 25s 110ms/step - loss: 0.0646 - acc: 0.9778 - val_loss: 0.0569 - val_acc: 0.9775\n",
            "Epoch 41/1000\n",
            "225/225 [==============================] - 25s 110ms/step - loss: 0.0647 - acc: 0.9778 - val_loss: 0.0565 - val_acc: 0.9775\n",
            "Epoch 42/1000\n",
            "225/225 [==============================] - 25s 110ms/step - loss: 0.0638 - acc: 0.9776 - val_loss: 0.0566 - val_acc: 0.9775\n",
            "Epoch 43/1000\n",
            "225/225 [==============================] - 25s 110ms/step - loss: 0.0633 - acc: 0.9775 - val_loss: 0.0551 - val_acc: 0.9775\n",
            "Epoch 44/1000\n",
            "225/225 [==============================] - 25s 110ms/step - loss: 0.0625 - acc: 0.9778 - val_loss: 0.0550 - val_acc: 0.9775\n",
            "Epoch 45/1000\n",
            "225/225 [==============================] - 25s 110ms/step - loss: 0.0619 - acc: 0.9779 - val_loss: 0.0577 - val_acc: 0.9775\n",
            "Epoch 46/1000\n",
            "225/225 [==============================] - 25s 110ms/step - loss: 0.0615 - acc: 0.9778 - val_loss: 0.0532 - val_acc: 0.9775\n",
            "Epoch 47/1000\n",
            "225/225 [==============================] - 25s 110ms/step - loss: 0.0606 - acc: 0.9772 - val_loss: 0.0533 - val_acc: 0.9787\n",
            "Epoch 48/1000\n",
            "225/225 [==============================] - 25s 110ms/step - loss: 0.0598 - acc: 0.9771 - val_loss: 0.0528 - val_acc: 0.9787\n",
            "Epoch 49/1000\n",
            "225/225 [==============================] - 25s 110ms/step - loss: 0.0596 - acc: 0.9771 - val_loss: 0.0512 - val_acc: 0.9787\n",
            "Epoch 50/1000\n",
            "225/225 [==============================] - 25s 110ms/step - loss: 0.0587 - acc: 0.9771 - val_loss: 0.0519 - val_acc: 0.9787\n",
            "Epoch 51/1000\n",
            "225/225 [==============================] - 25s 110ms/step - loss: 0.0575 - acc: 0.9774 - val_loss: 0.0500 - val_acc: 0.9787\n",
            "Epoch 52/1000\n",
            "225/225 [==============================] - 25s 110ms/step - loss: 0.0572 - acc: 0.9771 - val_loss: 0.0489 - val_acc: 0.9787\n",
            "Epoch 53/1000\n",
            "225/225 [==============================] - 25s 110ms/step - loss: 0.0561 - acc: 0.9774 - val_loss: 0.0493 - val_acc: 0.9812\n",
            "Epoch 54/1000\n",
            "225/225 [==============================] - 25s 110ms/step - loss: 0.0558 - acc: 0.9769 - val_loss: 0.0477 - val_acc: 0.9800\n",
            "Epoch 55/1000\n",
            "225/225 [==============================] - 25s 110ms/step - loss: 0.0547 - acc: 0.9778 - val_loss: 0.0463 - val_acc: 0.9800\n",
            "Epoch 56/1000\n",
            "225/225 [==============================] - 25s 110ms/step - loss: 0.0542 - acc: 0.9778 - val_loss: 0.0455 - val_acc: 0.9812\n",
            "Epoch 57/1000\n",
            "225/225 [==============================] - 25s 110ms/step - loss: 0.0538 - acc: 0.9783 - val_loss: 0.0453 - val_acc: 0.9850\n",
            "Epoch 58/1000\n",
            "225/225 [==============================] - 25s 110ms/step - loss: 0.0532 - acc: 0.9785 - val_loss: 0.0445 - val_acc: 0.9837\n",
            "Epoch 59/1000\n",
            "225/225 [==============================] - 25s 110ms/step - loss: 0.0516 - acc: 0.9801 - val_loss: 0.0431 - val_acc: 0.9837\n",
            "Epoch 60/1000\n",
            "225/225 [==============================] - 25s 110ms/step - loss: 0.0512 - acc: 0.9808 - val_loss: 0.0426 - val_acc: 0.9837\n",
            "Epoch 61/1000\n",
            "225/225 [==============================] - 25s 110ms/step - loss: 0.0507 - acc: 0.9822 - val_loss: 0.0416 - val_acc: 0.9837\n",
            "Epoch 62/1000\n",
            "225/225 [==============================] - 25s 110ms/step - loss: 0.0498 - acc: 0.9814 - val_loss: 0.0408 - val_acc: 0.9875\n",
            "Epoch 63/1000\n",
            "225/225 [==============================] - 25s 110ms/step - loss: 0.0486 - acc: 0.9833 - val_loss: 0.0412 - val_acc: 0.9837\n",
            "Epoch 64/1000\n",
            "225/225 [==============================] - 25s 111ms/step - loss: 0.0487 - acc: 0.9831 - val_loss: 0.0405 - val_acc: 0.9862\n",
            "Epoch 65/1000\n",
            "225/225 [==============================] - 25s 111ms/step - loss: 0.0477 - acc: 0.9840 - val_loss: 0.0390 - val_acc: 0.9875\n",
            "Epoch 66/1000\n",
            "225/225 [==============================] - 25s 110ms/step - loss: 0.0468 - acc: 0.9842 - val_loss: 0.0393 - val_acc: 0.9875\n",
            "Epoch 67/1000\n",
            "225/225 [==============================] - 25s 110ms/step - loss: 0.0461 - acc: 0.9836 - val_loss: 0.0404 - val_acc: 0.9875\n",
            "Epoch 68/1000\n",
            "225/225 [==============================] - 25s 110ms/step - loss: 0.0456 - acc: 0.9836 - val_loss: 0.0378 - val_acc: 0.9887\n",
            "Epoch 69/1000\n",
            "225/225 [==============================] - 25s 110ms/step - loss: 0.0448 - acc: 0.9844 - val_loss: 0.0382 - val_acc: 0.9875\n",
            "Epoch 70/1000\n",
            "225/225 [==============================] - 25s 110ms/step - loss: 0.0442 - acc: 0.9849 - val_loss: 0.0380 - val_acc: 0.9887\n",
            "Epoch 71/1000\n",
            "225/225 [==============================] - 25s 110ms/step - loss: 0.0433 - acc: 0.9844 - val_loss: 0.0394 - val_acc: 0.9862\n",
            "Epoch 72/1000\n",
            "225/225 [==============================] - 25s 110ms/step - loss: 0.0420 - acc: 0.9853 - val_loss: 0.0360 - val_acc: 0.9875\n",
            "Epoch 73/1000\n",
            "225/225 [==============================] - 25s 110ms/step - loss: 0.0417 - acc: 0.9862 - val_loss: 0.0355 - val_acc: 0.9875\n",
            "Epoch 74/1000\n",
            "225/225 [==============================] - 25s 110ms/step - loss: 0.0414 - acc: 0.9856 - val_loss: 0.0355 - val_acc: 0.9900\n",
            "Epoch 75/1000\n",
            "225/225 [==============================] - 25s 110ms/step - loss: 0.0400 - acc: 0.9861 - val_loss: 0.0356 - val_acc: 0.9887\n",
            "Epoch 76/1000\n",
            "225/225 [==============================] - 25s 110ms/step - loss: 0.0395 - acc: 0.9858 - val_loss: 0.0355 - val_acc: 0.9887\n",
            "Epoch 77/1000\n",
            "225/225 [==============================] - 25s 110ms/step - loss: 0.0394 - acc: 0.9864 - val_loss: 0.0346 - val_acc: 0.9862\n",
            "Epoch 78/1000\n",
            "225/225 [==============================] - 25s 110ms/step - loss: 0.0386 - acc: 0.9871 - val_loss: 0.0346 - val_acc: 0.9887\n",
            "Epoch 79/1000\n",
            "225/225 [==============================] - 25s 110ms/step - loss: 0.0389 - acc: 0.9867 - val_loss: 0.0343 - val_acc: 0.9875\n",
            "Epoch 80/1000\n",
            "225/225 [==============================] - 25s 110ms/step - loss: 0.0378 - acc: 0.9865 - val_loss: 0.0339 - val_acc: 0.9887\n",
            "Epoch 81/1000\n",
            "225/225 [==============================] - 25s 110ms/step - loss: 0.0375 - acc: 0.9869 - val_loss: 0.0346 - val_acc: 0.9862\n",
            "Epoch 82/1000\n",
            "225/225 [==============================] - 25s 110ms/step - loss: 0.0367 - acc: 0.9871 - val_loss: 0.0391 - val_acc: 0.9887\n",
            "Epoch 83/1000\n",
            "225/225 [==============================] - 25s 110ms/step - loss: 0.0372 - acc: 0.9869 - val_loss: 0.0339 - val_acc: 0.9862\n",
            "Epoch 84/1000\n",
            "225/225 [==============================] - 25s 110ms/step - loss: 0.0361 - acc: 0.9871 - val_loss: 0.0339 - val_acc: 0.9862\n",
            "Epoch 85/1000\n",
            "225/225 [==============================] - 25s 110ms/step - loss: 0.0369 - acc: 0.9868 - val_loss: 0.0360 - val_acc: 0.9875\n",
            "Epoch 86/1000\n",
            "225/225 [==============================] - 25s 110ms/step - loss: 0.0362 - acc: 0.9871 - val_loss: 0.0338 - val_acc: 0.9862\n",
            "Epoch 87/1000\n",
            "225/225 [==============================] - 25s 110ms/step - loss: 0.0363 - acc: 0.9875 - val_loss: 0.0345 - val_acc: 0.9862\n",
            "Epoch 88/1000\n",
            "225/225 [==============================] - 25s 110ms/step - loss: 0.0357 - acc: 0.9874 - val_loss: 0.0336 - val_acc: 0.9862\n",
            "Epoch 89/1000\n",
            "225/225 [==============================] - 25s 110ms/step - loss: 0.0352 - acc: 0.9876 - val_loss: 0.0344 - val_acc: 0.9875\n",
            "Epoch 90/1000\n",
            "225/225 [==============================] - 25s 110ms/step - loss: 0.0352 - acc: 0.9883 - val_loss: 0.0346 - val_acc: 0.9875\n",
            "Epoch 91/1000\n",
            "225/225 [==============================] - 25s 110ms/step - loss: 0.0360 - acc: 0.9875 - val_loss: 0.0338 - val_acc: 0.9862\n",
            "Epoch 92/1000\n",
            "225/225 [==============================] - 25s 110ms/step - loss: 0.0348 - acc: 0.9882 - val_loss: 0.0378 - val_acc: 0.9887\n",
            "Epoch 93/1000\n",
            "225/225 [==============================] - 25s 110ms/step - loss: 0.0352 - acc: 0.9878 - val_loss: 0.0334 - val_acc: 0.9862\n",
            "Epoch 94/1000\n",
            "225/225 [==============================] - 25s 110ms/step - loss: 0.0348 - acc: 0.9875 - val_loss: 0.0346 - val_acc: 0.9900\n",
            "Epoch 95/1000\n",
            "225/225 [==============================] - 25s 110ms/step - loss: 0.0348 - acc: 0.9879 - val_loss: 0.0341 - val_acc: 0.9862\n",
            "Epoch 96/1000\n",
            "225/225 [==============================] - 25s 110ms/step - loss: 0.0353 - acc: 0.9868 - val_loss: 0.0330 - val_acc: 0.9862\n",
            "Epoch 97/1000\n",
            "225/225 [==============================] - 25s 111ms/step - loss: 0.0354 - acc: 0.9882 - val_loss: 0.0347 - val_acc: 0.9900\n",
            "Epoch 98/1000\n",
            "225/225 [==============================] - 25s 110ms/step - loss: 0.0339 - acc: 0.9894 - val_loss: 0.0332 - val_acc: 0.9862\n",
            "Epoch 99/1000\n",
            "225/225 [==============================] - 25s 111ms/step - loss: 0.0340 - acc: 0.9886 - val_loss: 0.0329 - val_acc: 0.9862\n",
            "Epoch 100/1000\n",
            "225/225 [==============================] - 25s 110ms/step - loss: 0.0343 - acc: 0.9887 - val_loss: 0.0331 - val_acc: 0.9862\n",
            "Epoch 101/1000\n",
            "225/225 [==============================] - 25s 111ms/step - loss: 0.0342 - acc: 0.9885 - val_loss: 0.0330 - val_acc: 0.9862\n",
            "Epoch 102/1000\n",
            "225/225 [==============================] - 25s 110ms/step - loss: 0.0338 - acc: 0.9885 - val_loss: 0.0329 - val_acc: 0.9862\n",
            "Epoch 103/1000\n",
            "225/225 [==============================] - 25s 110ms/step - loss: 0.0338 - acc: 0.9886 - val_loss: 0.0419 - val_acc: 0.9862\n",
            "Epoch 104/1000\n",
            "225/225 [==============================] - 25s 110ms/step - loss: 0.0343 - acc: 0.9885 - val_loss: 0.0342 - val_acc: 0.9900\n",
            "Epoch 105/1000\n",
            "225/225 [==============================] - 25s 110ms/step - loss: 0.0333 - acc: 0.9882 - val_loss: 0.0353 - val_acc: 0.9900\n",
            "Epoch 106/1000\n",
            "225/225 [==============================] - 25s 110ms/step - loss: 0.0335 - acc: 0.9890 - val_loss: 0.0369 - val_acc: 0.9900\n",
            "Epoch 107/1000\n",
            "225/225 [==============================] - 25s 110ms/step - loss: 0.0331 - acc: 0.9883 - val_loss: 0.0345 - val_acc: 0.9900\n",
            "Epoch 108/1000\n",
            "225/225 [==============================] - 25s 110ms/step - loss: 0.0330 - acc: 0.9889 - val_loss: 0.0369 - val_acc: 0.9900\n",
            "Epoch 109/1000\n",
            "225/225 [==============================] - 25s 110ms/step - loss: 0.0331 - acc: 0.9887 - val_loss: 0.0334 - val_acc: 0.9887\n"
          ]
        }
      ]
    },
    {
      "cell_type": "code",
      "metadata": {
        "colab": {
          "base_uri": "https://localhost:8080/"
        },
        "id": "x7glmVRZv96X",
        "outputId": "03d2efea-7bc7-4503-a54c-f5bd9a63813f"
      },
      "source": [
        "model.save('/content/drive/MyDrive/final_models/with_attention/model10.h5')"
      ],
      "execution_count": null,
      "outputs": [
        {
          "name": "stderr",
          "output_type": "stream",
          "text": [
            "/usr/local/lib/python3.7/dist-packages/keras/utils/generic_utils.py:497: CustomMaskWarning: Custom mask layers require a config and must override get_config. When loading, the custom mask layer must be passed to the custom_objects argument.\n",
            "  category=CustomMaskWarning)\n"
          ]
        }
      ]
    },
    {
      "cell_type": "code",
      "metadata": {
        "colab": {
          "base_uri": "https://localhost:8080/"
        },
        "id": "ykmmdzklv96X",
        "outputId": "c0aa8b78-2824-462d-8b2b-5d5c436583b8"
      },
      "source": [
        "#plot acc and loss\n",
        "import matplotlib.pyplot as plt\n",
        "epochs = range(len(history.history['loss']))\n",
        "plt.plot(epochs , history.history['val_loss'])\n",
        "plt.plot(epochs , history.history['loss'])\n",
        "plt.title('loss')\n",
        "plt.figure()\n",
        "plt.plot(epochs , history.history['val_acc'])\n",
        "plt.plot(epochs , history.history['acc'])\n",
        "plt.title('accuracy')\n",
        "plt.figure()\n",
        "plt.show()"
      ],
      "execution_count": null,
      "outputs": [
        {
          "data": {
            "image/png": "[encoded data removed]",
            "text/plain": [
              "<Figure size 432x288 with 1 Axes>"
            ]
          },
          "metadata": {},
          "output_type": "display_data"
        },
        {
          "data": {
            "image/png": "[encoded data removed]",
            "text/plain": [
              "<Figure size 432x288 with 1 Axes>"
            ]
          },
          "metadata": {},
          "output_type": "display_data"
        },
        {
          "data": {
            "text/plain": [
              "<Figure size 432x288 with 0 Axes>"
            ]
          },
          "metadata": {},
          "output_type": "display_data"
        }
      ]
    },
    {
      "cell_type": "code",
      "metadata": {
        "colab": {
          "base_uri": "https://localhost:8080/"
        },
        "id": "pDLCpxNev96X",
        "outputId": "138aada4-66b1-4fc0-a879-96eb4b83a084"
      },
      "source": [
        "model.evaluate(test_data , test_label)"
      ],
      "execution_count": null,
      "outputs": [
        {
          "name": "stdout",
          "output_type": "stream",
          "text": [
            "74/74 [==============================] - 4s 37ms/step - loss: 0.0340 - acc: 0.9859\n"
          ]
        },
        {
          "data": {
            "text/plain": [
              "[0.03396012261509895, 0.9859215021133423]"
            ]
          },
          "execution_count": 34,
          "metadata": {},
          "output_type": "execute_result"
        }
      ]
    },
    {
      "cell_type": "code",
      "metadata": {
        "colab": {
          "base_uri": "https://localhost:8080/"
        },
        "id": "DqEk7T5vv96Y",
        "outputId": "bd285494-212a-4a69-a6a7-2a77eefc9878"
      },
      "source": [
        "# performance measurements on test data 2\n",
        "\n",
        "pred = model.predict(test_data)\n",
        "\n",
        "thresh = find_opt_thresh(test_label , pred)\n",
        "print(thresh)\n",
        "prediction = np.zeros(np.shape(pred))\n",
        "prediction[pred > thresh] = 1\n",
        "\n",
        "from sklearn.metrics import accuracy_score\n",
        "accuracy = accuracy_score(test_label   , prediction)\n",
        "print('accuracy is:' , np.round(accuracy*100,2) , '%')\n",
        "print('___________________________________________')\n",
        "from sklearn.metrics import precision_score\n",
        "pscore = precision_score(test_label   , prediction)\n",
        "print('precision score is:' , np.round(pscore*100,2) , '%')\n",
        "print('___________________________________________')\n",
        "from sklearn.metrics import recall_score\n",
        "rscore = recall_score(test_label   , prediction)\n",
        "print('recall score is:' , np.round(rscore*100,2) , '%')\n",
        "print('___________________________________________')\n",
        "from sklearn.metrics import f1_score\n",
        "fscore = f1_score(test_label   , prediction)\n",
        "print('f1 score is:' , np.round(fscore*100,2) , '%')\n",
        "print('___________________________________________')\n",
        "spc = specificity_score(test_label   , prediction)\n",
        "print('specificity is:' , np.round(spc*100,2) , '%')\n",
        "print('___________________________________________')\n",
        "sen = sensitivity_score(test_label   , prediction)\n",
        "print('sensitivity is:' , np.round(sen*100,2) , '%')\n",
        "print('___________________________________________')\n",
        "from sklearn.metrics import roc_auc_score\n",
        "auc = roc_auc_score(test_label   , prediction)\n",
        "print('AUC is:' , np.round(auc,4))"
      ],
      "execution_count": null,
      "outputs": [
        {
          "name": "stdout",
          "output_type": "stream",
          "text": [
            "[0.35624602]\n",
            "accuracy is: 98.81 %\n",
            "___________________________________________\n",
            "precision score is: 71.19 %\n",
            "___________________________________________\n",
            "recall score is: 79.25 %\n",
            "___________________________________________\n",
            "f1 score is: 75.0 %\n",
            "___________________________________________\n",
            "specificity is: 99.26 %\n",
            "___________________________________________\n",
            "sensitivity is: 79.25 %\n",
            "___________________________________________\n",
            "AUC is: 0.8925\n"
          ]
        }
      ]
    },
    {
      "cell_type": "markdown",
      "metadata": {
        "id": "A-OoFRQgIkgA"
      },
      "source": [
        "#Statistics"
      ]
    },
    {
      "cell_type": "code",
      "metadata": {
        "id": "xulrBoeHInag"
      },
      "source": [
        "from sklearn.metrics import accuracy_score\n",
        "from sklearn.metrics import f1_score\n",
        "from sklearn.metrics import roc_auc_score\n",
        "import os\n",
        "from tqdm import tqdm\n",
        "import numpy as np\n",
        "import tensorflow as tf"
      ],
      "execution_count": null,
      "outputs": []
    },
    {
      "cell_type": "code",
      "metadata": {
        "id": "__fRV1KeItJj"
      },
      "source": [
        "models_base_dir = '/content/drive/MyDrive/final_models/with_attention'\n",
        "\n",
        "models_dir = []\n",
        "for i in range(10):\n",
        "  models_dir.append(os.path.join(models_base_dir , f'model{i+1}.h5'))"
      ],
      "execution_count": null,
      "outputs": []
    },
    {
      "cell_type": "code",
      "metadata": {
        "colab": {
          "background_save": true,
          "base_uri": "https://localhost:8080/"
        },
        "id": "KnxUfEXFJfge",
        "outputId": "5d0226f2-3149-49b1-d0f0-e0adf961f950"
      },
      "source": [
        "models_dir"
      ],
      "execution_count": null,
      "outputs": [
        {
          "data": {
            "text/plain": [
              "['/content/drive/MyDrive/final_models/with_attention/model1.h5',\n",
              " '/content/drive/MyDrive/final_models/with_attention/model2.h5',\n",
              " '/content/drive/MyDrive/final_models/with_attention/model3.h5',\n",
              " '/content/drive/MyDrive/final_models/with_attention/model4.h5',\n",
              " '/content/drive/MyDrive/final_models/with_attention/model5.h5',\n",
              " '/content/drive/MyDrive/final_models/with_attention/model6.h5',\n",
              " '/content/drive/MyDrive/final_models/with_attention/model7.h5',\n",
              " '/content/drive/MyDrive/final_models/with_attention/model8.h5',\n",
              " '/content/drive/MyDrive/final_models/with_attention/model9.h5',\n",
              " '/content/drive/MyDrive/final_models/with_attention/model10.h5']"
            ]
          },
          "execution_count": null,
          "metadata": {},
          "output_type": "execute_result"
        }
      ]
    },
    {
      "cell_type": "code",
      "metadata": {
        "colab": {
          "base_uri": "https://localhost:8080/"
        },
        "id": "HGMZ1CaLJhKT",
        "outputId": "9770f846-3d16-4a63-b903-bec26f4551ad"
      },
      "source": [
        "thresholds = []\n",
        "\n",
        "for i in tqdm(range(10)):\n",
        "  model = tf.keras.models.load_model(models_dir[i])\n",
        "  pred = model.predict(test_data)\n",
        "  thresh = find_opt_thresh(test_label , pred)\n",
        "  thresholds.append(thresh)"
      ],
      "execution_count": null,
      "outputs": [
        {
          "name": "stderr",
          "output_type": "stream",
          "text": [
            "  0%|          | 0/10 [00:00<?, ?it/s]/usr/local/lib/python3.7/dist-packages/ipykernel_launcher.py:21: RuntimeWarning: invalid value encountered in true_divide\n",
            "100%|██████████| 10/10 [02:22<00:00, 14.28s/it]\n"
          ]
        }
      ]
    },
    {
      "cell_type": "code",
      "metadata": {
        "id": "W-oP2ZWJKSQf"
      },
      "source": [
        "thresholds.append([0.5])"
      ],
      "execution_count": null,
      "outputs": []
    },
    {
      "cell_type": "code",
      "metadata": {
        "colab": {
          "base_uri": "https://localhost:8080/"
        },
        "id": "X_eBeYsUNb_8",
        "outputId": "260e7a59-9eec-4f21-fbcc-c04b04fc57d5"
      },
      "source": [
        "thresholds"
      ],
      "execution_count": null,
      "outputs": [
        {
          "data": {
            "text/plain": [
              "[[0.57995415],\n",
              " [0.11051235],\n",
              " [0.5123092],\n",
              " [0.5376344],\n",
              " [0.5073752],\n",
              " [0.47863552],\n",
              " [0.3256756],\n",
              " [0.29693928],\n",
              " [0.46206117],\n",
              " [0.35624647],\n",
              " [0.5]]"
            ]
          },
          "execution_count": 10,
          "metadata": {},
          "output_type": "execute_result"
        }
      ]
    },
    {
      "cell_type": "code",
      "metadata": {
        "colab": {
          "base_uri": "https://localhost:8080/"
        },
        "id": "45jvA2ABNd5Y",
        "outputId": "496f8a7f-31d9-469f-b031-4cc9277305c1"
      },
      "source": [
        "for thresh in tqdm(thresholds[:6]):\n",
        "  acc_list = []\n",
        "  fscore_list = []\n",
        "  spc_list = []\n",
        "  auc_list = []\n",
        "  for model_dir in models_dir:\n",
        "    model = tf.keras.models.load_model(model_dir)\n",
        "    pred = model.predict(test_data)\n",
        "    prediction = np.zeros(np.shape(pred))\n",
        "    prediction[pred > thresh] = 1\n",
        "    accuracy = accuracy_score(test_label   , prediction)\n",
        "    fscore = f1_score(test_label   , prediction)\n",
        "    spc = specificity_score(test_label   , prediction)\n",
        "    auc = roc_auc_score(test_label   , prediction)\n",
        "    acc_list.append(accuracy)\n",
        "    fscore_list.append(fscore)\n",
        "    spc_list.append(spc)\n",
        "    auc_list.append(auc)\n",
        "  print('___________')\n",
        "  print('Threshold:' , thresh)\n",
        "  print('Accuracy:' , np.round(np.mean(acc_list)*100 , 2) , '%  +-' ,np.round(np.std(acc_list)*100 , 2) , '%')\n",
        "  print('F1 Score:' , np.round(np.mean(fscore_list)*100 , 2) , '%  +-' ,np.round(np.std(fscore_list)*100 , 2) , '%')\n",
        "  print('Specificity:' , np.round(np.mean(spc_list)*100 , 2) , '%  +-' ,np.round(np.std(spc_list)*100 , 2) , '%')\n",
        "  print('AUC:' , np.round(np.mean(auc_list) , 4) , '+-' ,np.round(np.std(auc_list), 4) )"
      ],
      "execution_count": null,
      "outputs": [
        {
          "name": "stderr",
          "output_type": "stream",
          "text": [
            " 17%|█▋        | 1/6 [01:46<08:53, 106.61s/it]"
          ]
        },
        {
          "name": "stdout",
          "output_type": "stream",
          "text": [
            "___________\n",
            "Threshold: [0.57995415]\n",
            "Accuracy: 98.79 %  +- 0.08 %\n",
            "F1 Score: 72.23 %  +- 2.65 %\n",
            "Specificity: 99.46 %  +- 0.12 %\n",
            "AUC: 0.8464 +- 0.0291\n"
          ]
        },
        {
          "name": "stderr",
          "output_type": "stream",
          "text": [
            "\r 33%|███▎      | 2/6 [03:32<07:04, 106.07s/it]"
          ]
        },
        {
          "name": "stdout",
          "output_type": "stream",
          "text": [
            "___________\n",
            "Threshold: [0.11051235]\n",
            "Accuracy: 98.19 %  +- 0.34 %\n",
            "F1 Score: 68.69 %  +- 3.9 %\n",
            "Specificity: 98.45 %  +- 0.37 %\n",
            "AUC: 0.9271 +- 0.008\n"
          ]
        },
        {
          "name": "stderr",
          "output_type": "stream",
          "text": [
            "\r 50%|█████     | 3/6 [05:18<05:18, 106.24s/it]"
          ]
        },
        {
          "name": "stdout",
          "output_type": "stream",
          "text": [
            "___________\n",
            "Threshold: [0.5123092]\n",
            "Accuracy: 98.79 %  +- 0.1 %\n",
            "F1 Score: 73.18 %  +- 2.97 %\n",
            "Specificity: 99.38 %  +- 0.1 %\n",
            "AUC: 0.863 +- 0.0292\n"
          ]
        },
        {
          "name": "stderr",
          "output_type": "stream",
          "text": [
            "\r 67%|██████▋   | 4/6 [07:04<03:32, 106.06s/it]"
          ]
        },
        {
          "name": "stdout",
          "output_type": "stream",
          "text": [
            "___________\n",
            "Threshold: [0.5376344]\n",
            "Accuracy: 98.79 %  +- 0.1 %\n",
            "F1 Score: 72.88 %  +- 2.99 %\n",
            "Specificity: 99.41 %  +- 0.1 %\n",
            "AUC: 0.8574 +- 0.0286\n"
          ]
        },
        {
          "name": "stderr",
          "output_type": "stream",
          "text": [
            "\r 83%|████████▎ | 5/6 [08:51<01:46, 106.44s/it]"
          ]
        },
        {
          "name": "stdout",
          "output_type": "stream",
          "text": [
            "___________\n",
            "Threshold: [0.5073752]\n",
            "Accuracy: 98.79 %  +- 0.09 %\n",
            "F1 Score: 73.23 %  +- 2.8 %\n",
            "Specificity: 99.38 %  +- 0.1 %\n",
            "AUC: 0.8639 +- 0.029\n"
          ]
        },
        {
          "name": "stderr",
          "output_type": "stream",
          "text": [
            "100%|██████████| 6/6 [10:39<00:00, 106.65s/it]"
          ]
        },
        {
          "name": "stdout",
          "output_type": "stream",
          "text": [
            "___________\n",
            "Threshold: [0.47863552]\n",
            "Accuracy: 98.78 %  +- 0.1 %\n",
            "F1 Score: 73.37 %  +- 2.4 %\n",
            "Specificity: 99.34 %  +- 0.12 %\n",
            "AUC: 0.8693 +- 0.0243\n"
          ]
        },
        {
          "name": "stderr",
          "output_type": "stream",
          "text": [
            "\n"
          ]
        }
      ]
    },
    {
      "cell_type": "code",
      "metadata": {
        "colab": {
          "base_uri": "https://localhost:8080/"
        },
        "id": "0t_IRiHzNxZX",
        "outputId": "0229b721-d16f-4eab-c184-ee4a90b9861f"
      },
      "source": [
        "for thresh in tqdm(thresholds[6:]):\n",
        "  acc_list = []\n",
        "  fscore_list = []\n",
        "  spc_list = []\n",
        "  auc_list = []\n",
        "  for model_dir in models_dir:\n",
        "    model = tf.keras.models.load_model(model_dir)\n",
        "    pred = model.predict(test_data)\n",
        "    prediction = np.zeros(np.shape(pred))\n",
        "    prediction[pred > thresh] = 1\n",
        "    accuracy = accuracy_score(test_label   , prediction)\n",
        "    fscore = f1_score(test_label   , prediction)\n",
        "    spc = specificity_score(test_label   , prediction)\n",
        "    auc = roc_auc_score(test_label   , prediction)\n",
        "    acc_list.append(accuracy)\n",
        "    fscore_list.append(fscore)\n",
        "    spc_list.append(spc)\n",
        "    auc_list.append(auc)\n",
        "  print('___________')\n",
        "  print('Threshold:' , thresh)\n",
        "  print('Accuracy:' , np.round(np.mean(acc_list)*100 , 2) , '%  +-' ,np.round(np.std(acc_list)*100 , 2) , '%')\n",
        "  print('F1 Score:' , np.round(np.mean(fscore_list)*100 , 2) , '%  +-' ,np.round(np.std(fscore_list)*100 , 2) , '%')\n",
        "  print('Specificity:' , np.round(np.mean(spc_list)*100 , 2) , '%  +-' ,np.round(np.std(spc_list)*100 , 2) , '%')\n",
        "  print('AUC:' , np.round(np.mean(auc_list) , 4) , '+-' ,np.round(np.std(auc_list), 4) )"
      ],
      "execution_count": null,
      "outputs": [
        {
          "name": "stderr",
          "output_type": "stream",
          "text": [
            " 20%|██        | 1/5 [01:45<07:02, 105.62s/it]"
          ]
        },
        {
          "name": "stdout",
          "output_type": "stream",
          "text": [
            "___________\n",
            "Threshold: [0.3256756]\n",
            "Accuracy: 98.69 %  +- 0.14 %\n",
            "F1 Score: 73.51 %  +- 2.75 %\n",
            "Specificity: 99.12 %  +- 0.15 %\n",
            "AUC: 0.8966 +- 0.0244\n"
          ]
        },
        {
          "name": "stderr",
          "output_type": "stream",
          "text": [
            "\r 40%|████      | 2/5 [03:34<05:22, 107.52s/it]"
          ]
        },
        {
          "name": "stdout",
          "output_type": "stream",
          "text": [
            "___________\n",
            "Threshold: [0.29693928]\n",
            "Accuracy: 98.67 %  +- 0.18 %\n",
            "F1 Score: 73.41 %  +- 3.1 %\n",
            "Specificity: 99.08 %  +- 0.19 %\n",
            "AUC: 0.9001 +- 0.0245\n"
          ]
        },
        {
          "name": "stderr",
          "output_type": "stream",
          "text": [
            "\r 60%|██████    | 3/5 [05:20<03:33, 106.94s/it]"
          ]
        },
        {
          "name": "stdout",
          "output_type": "stream",
          "text": [
            "___________\n",
            "Threshold: [0.46206117]\n",
            "Accuracy: 98.8 %  +- 0.08 %\n",
            "F1 Score: 73.97 %  +- 1.8 %\n",
            "Specificity: 99.33 %  +- 0.11 %\n",
            "AUC: 0.875 +- 0.0192\n"
          ]
        }
      ]
    },
    {
      "cell_type": "code",
      "metadata": {
        "id": "HAfVns2CyFjr"
      },
      "source": [],
      "execution_count": null,
      "outputs": []
    },
    {
      "cell_type": "markdown",
      "metadata": {
        "id": "v2gx4nv-ntV7"
      },
      "source": [
        "#Statistics 2"
      ]
    },
    {
      "cell_type": "code",
      "metadata": {
        "id": "4td75rtentV-"
      },
      "source": [
        "from sklearn.metrics import accuracy_score\n",
        "from sklearn.metrics import f1_score\n",
        "from sklearn.metrics import roc_auc_score\n",
        "import os\n",
        "from tqdm import tqdm\n",
        "import numpy as np\n",
        "import tensorflow as tf"
      ],
      "execution_count": null,
      "outputs": []
    },
    {
      "cell_type": "code",
      "metadata": {
        "id": "8-oYXnFan0-5"
      },
      "source": [
        "def find_optimal_threshold(y_true, y_score):\n",
        "    thresholds = np.linspace(0, 1, 100)\n",
        "    f1s = [f1_score(y_true, y_score > threshold) for threshold in thresholds]\n",
        "    return thresholds[np.argmax(f1s)]"
      ],
      "execution_count": null,
      "outputs": []
    },
    {
      "cell_type": "code",
      "metadata": {
        "id": "zx_QJORMntV_"
      },
      "source": [
        "models_base_dir = '/content/drive/MyDrive/final_models/with_attention'\n",
        "\n",
        "models_dir = []\n",
        "for i in range(10):\n",
        "  models_dir.append(os.path.join(models_base_dir , f'model{i+1}.h5'))"
      ],
      "execution_count": null,
      "outputs": []
    },
    {
      "cell_type": "code",
      "metadata": {
        "colab": {
          "base_uri": "https://localhost:8080/"
        },
        "id": "RqtUJSYjntV_",
        "outputId": "b42c6b08-9775-4b1b-e83e-dc6b16366e02"
      },
      "source": [
        "models_dir"
      ],
      "execution_count": null,
      "outputs": [
        {
          "output_type": "execute_result",
          "data": {
            "text/plain": [
              "['/content/drive/MyDrive/final_models/with_attention/model1.h5',\n",
              " '/content/drive/MyDrive/final_models/with_attention/model2.h5',\n",
              " '/content/drive/MyDrive/final_models/with_attention/model3.h5',\n",
              " '/content/drive/MyDrive/final_models/with_attention/model4.h5',\n",
              " '/content/drive/MyDrive/final_models/with_attention/model5.h5',\n",
              " '/content/drive/MyDrive/final_models/with_attention/model6.h5',\n",
              " '/content/drive/MyDrive/final_models/with_attention/model7.h5',\n",
              " '/content/drive/MyDrive/final_models/with_attention/model8.h5',\n",
              " '/content/drive/MyDrive/final_models/with_attention/model9.h5',\n",
              " '/content/drive/MyDrive/final_models/with_attention/model10.h5']"
            ]
          },
          "metadata": {},
          "execution_count": 4
        }
      ]
    },
    {
      "cell_type": "code",
      "metadata": {
        "colab": {
          "base_uri": "https://localhost:8080/"
        },
        "id": "NUY6pcTlntWB",
        "outputId": "9f80d964-87eb-46ad-8dda-6fc96d0beb1d"
      },
      "source": [
        "thresholds = []\n",
        "\n",
        "for i in tqdm(range(10)):\n",
        "  model = tf.keras.models.load_model(models_dir[i])\n",
        "  pred = model.predict(test_data)\n",
        "  thresh = find_optimal_threshold(test_label , pred)\n",
        "  thresholds.append(thresh)"
      ],
      "execution_count": null,
      "outputs": [
        {
          "output_type": "stream",
          "name": "stderr",
          "text": [
            "100%|██████████| 10/10 [02:28<00:00, 14.82s/it]\n"
          ]
        }
      ]
    },
    {
      "cell_type": "code",
      "metadata": {
        "id": "50n7GjBEntWC"
      },
      "source": [
        "thresholds.append([0.5])"
      ],
      "execution_count": null,
      "outputs": []
    },
    {
      "cell_type": "code",
      "metadata": {
        "colab": {
          "base_uri": "https://localhost:8080/"
        },
        "id": "CfKZ46snntWC",
        "outputId": "9374f500-1dbf-4fce-b7e5-731ba930ebdd"
      },
      "source": [
        "thresholds"
      ],
      "execution_count": null,
      "outputs": [
        {
          "output_type": "execute_result",
          "data": {
            "text/plain": [
              "[0.5858585858585859,\n",
              " 0.11111111111111112,\n",
              " 0.5151515151515152,\n",
              " 0.5353535353535354,\n",
              " 0.5151515151515152,\n",
              " 0.5252525252525253,\n",
              " 0.3535353535353536,\n",
              " 0.30303030303030304,\n",
              " 0.4646464646464647,\n",
              " 0.36363636363636365,\n",
              " [0.5]]"
            ]
          },
          "metadata": {},
          "execution_count": 17
        }
      ]
    },
    {
      "cell_type": "code",
      "metadata": {
        "colab": {
          "base_uri": "https://localhost:8080/"
        },
        "id": "AxT_Sk9kntWD",
        "outputId": "4b1e0fbf-f696-40b6-c151-30757cbc5c30"
      },
      "source": [
        "for thresh in tqdm(thresholds[:6]):\n",
        "  acc_list = []\n",
        "  fscore_list = []\n",
        "  spc_list = []\n",
        "  auc_list = []\n",
        "  for model_dir in models_dir:\n",
        "    model = tf.keras.models.load_model(model_dir)\n",
        "    pred = model.predict(test_data)\n",
        "    prediction = np.zeros(np.shape(pred))\n",
        "    prediction[pred > thresh] = 1\n",
        "    accuracy = accuracy_score(test_label   , prediction)\n",
        "    fscore = f1_score(test_label   , prediction)\n",
        "    spc = specificity_score(test_label   , prediction)\n",
        "    auc = roc_auc_score(test_label   , prediction)\n",
        "    acc_list.append(accuracy)\n",
        "    fscore_list.append(fscore)\n",
        "    spc_list.append(spc)\n",
        "    auc_list.append(auc)\n",
        "  print('___________')\n",
        "  print('Threshold:' , thresh)\n",
        "  print('Accuracy:' , np.round(np.mean(acc_list)*100 , 2) , '%  +-' ,np.round(np.std(acc_list)*100 , 2) , '%')\n",
        "  print('F1 Score:' , np.round(np.mean(fscore_list)*100 , 2) , '%  +-' ,np.round(np.std(fscore_list)*100 , 2) , '%')\n",
        "  print('Specificity:' , np.round(np.mean(spc_list)*100 , 2) , '%  +-' ,np.round(np.std(spc_list)*100 , 2) , '%')\n",
        "  print('AUC:' , np.round(np.mean(auc_list) , 4) , '+-' ,np.round(np.std(auc_list), 4) )"
      ],
      "execution_count": null,
      "outputs": [
        {
          "output_type": "stream",
          "name": "stderr",
          "text": [
            " 17%|█▋        | 1/6 [01:48<09:02, 108.54s/it]"
          ]
        },
        {
          "output_type": "stream",
          "name": "stdout",
          "text": [
            "___________\n",
            "Threshold: 0.5858585858585859\n",
            "Accuracy: 98.79 %  +- 0.08 %\n",
            "F1 Score: 72.1 %  +- 2.88 %\n",
            "Specificity: 99.47 %  +- 0.11 %\n",
            "AUC: 0.8445 +- 0.0308\n"
          ]
        },
        {
          "output_type": "stream",
          "name": "stderr",
          "text": [
            "\r 33%|███▎      | 2/6 [03:36<07:12, 108.16s/it]"
          ]
        },
        {
          "output_type": "stream",
          "name": "stdout",
          "text": [
            "___________\n",
            "Threshold: 0.11111111111111112\n",
            "Accuracy: 98.19 %  +- 0.33 %\n",
            "F1 Score: 68.74 %  +- 3.88 %\n",
            "Specificity: 98.45 %  +- 0.36 %\n",
            "AUC: 0.9272 +- 0.008\n"
          ]
        },
        {
          "output_type": "stream",
          "name": "stderr",
          "text": [
            "\r 50%|█████     | 3/6 [05:24<05:23, 107.98s/it]"
          ]
        },
        {
          "output_type": "stream",
          "name": "stdout",
          "text": [
            "___________\n",
            "Threshold: 0.5151515151515152\n",
            "Accuracy: 98.79 %  +- 0.1 %\n",
            "F1 Score: 73.18 %  +- 2.97 %\n",
            "Specificity: 99.38 %  +- 0.1 %\n",
            "AUC: 0.863 +- 0.0292\n"
          ]
        },
        {
          "output_type": "stream",
          "name": "stderr",
          "text": [
            "\r 67%|██████▋   | 4/6 [07:10<03:34, 107.22s/it]"
          ]
        },
        {
          "output_type": "stream",
          "name": "stdout",
          "text": [
            "___________\n",
            "Threshold: 0.5353535353535354\n",
            "Accuracy: 98.79 %  +- 0.1 %\n",
            "F1 Score: 72.92 %  +- 3.0 %\n",
            "Specificity: 99.41 %  +- 0.1 %\n",
            "AUC: 0.8584 +- 0.0289\n"
          ]
        },
        {
          "output_type": "stream",
          "name": "stderr",
          "text": [
            "\r 83%|████████▎ | 5/6 [08:57<01:47, 107.27s/it]"
          ]
        },
        {
          "output_type": "stream",
          "name": "stdout",
          "text": [
            "___________\n",
            "Threshold: 0.5151515151515152\n",
            "Accuracy: 98.79 %  +- 0.1 %\n",
            "F1 Score: 73.18 %  +- 2.97 %\n",
            "Specificity: 99.38 %  +- 0.1 %\n",
            "AUC: 0.863 +- 0.0292\n"
          ]
        },
        {
          "output_type": "stream",
          "name": "stderr",
          "text": [
            "100%|██████████| 6/6 [10:46<00:00, 107.69s/it]"
          ]
        },
        {
          "output_type": "stream",
          "name": "stdout",
          "text": [
            "___________\n",
            "Threshold: 0.5252525252525253\n",
            "Accuracy: 98.81 %  +- 0.09 %\n",
            "F1 Score: 73.33 %  +- 2.8 %\n",
            "Specificity: 99.4 %  +- 0.1 %\n",
            "AUC: 0.8621 +- 0.0289\n"
          ]
        },
        {
          "output_type": "stream",
          "name": "stderr",
          "text": [
            "\n"
          ]
        }
      ]
    },
    {
      "cell_type": "code",
      "metadata": {
        "colab": {
          "base_uri": "https://localhost:8080/"
        },
        "id": "aVmk77J0ntWE",
        "outputId": "f94c854a-9831-4f0f-8cd8-c1afa72f0640"
      },
      "source": [
        "for thresh in tqdm(thresholds[6:]):\n",
        "  acc_list = []\n",
        "  fscore_list = []\n",
        "  spc_list = []\n",
        "  auc_list = []\n",
        "  for model_dir in models_dir:\n",
        "    model = tf.keras.models.load_model(model_dir)\n",
        "    pred = model.predict(test_data)\n",
        "    prediction = np.zeros(np.shape(pred))\n",
        "    prediction[pred > thresh] = 1\n",
        "    accuracy = accuracy_score(test_label   , prediction)\n",
        "    fscore = f1_score(test_label   , prediction)\n",
        "    spc = specificity_score(test_label   , prediction)\n",
        "    auc = roc_auc_score(test_label   , prediction)\n",
        "    acc_list.append(accuracy)\n",
        "    fscore_list.append(fscore)\n",
        "    spc_list.append(spc)\n",
        "    auc_list.append(auc)\n",
        "  print('___________')\n",
        "  print('Threshold:' , thresh)\n",
        "  print('Accuracy:' , np.round(np.mean(acc_list)*100 , 2) , '%  +-' ,np.round(np.std(acc_list)*100 , 2) , '%')\n",
        "  print('F1 Score:' , np.round(np.mean(fscore_list)*100 , 2) , '%  +-' ,np.round(np.std(fscore_list)*100 , 2) , '%')\n",
        "  print('Specificity:' , np.round(np.mean(spc_list)*100 , 2) , '%  +-' ,np.round(np.std(spc_list)*100 , 2) , '%')\n",
        "  print('AUC:' , np.round(np.mean(auc_list) , 4) , '+-' ,np.round(np.std(auc_list), 4) )"
      ],
      "execution_count": null,
      "outputs": [
        {
          "output_type": "stream",
          "name": "stderr",
          "text": [
            " 20%|██        | 1/5 [01:48<07:12, 108.10s/it]"
          ]
        },
        {
          "output_type": "stream",
          "name": "stdout",
          "text": [
            "___________\n",
            "Threshold: 0.3535353535353536\n",
            "Accuracy: 98.71 %  +- 0.13 %\n",
            "F1 Score: 73.52 %  +- 2.57 %\n",
            "Specificity: 99.15 %  +- 0.13 %\n",
            "AUC: 0.8929 +- 0.0223\n"
          ]
        }
      ]
    },
    {
      "cell_type": "code",
      "metadata": {
        "id": "4_ZPVYsMntWF"
      },
      "source": [],
      "execution_count": null,
      "outputs": []
    }
  ]
}